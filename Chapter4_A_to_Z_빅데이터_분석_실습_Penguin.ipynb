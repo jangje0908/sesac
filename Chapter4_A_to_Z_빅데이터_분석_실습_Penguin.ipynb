{
  "cells": [
    {
      "cell_type": "markdown",
      "metadata": {
        "id": "view-in-github",
        "colab_type": "text"
      },
      "source": [
        "<a href=\"https://colab.research.google.com/github/jangje0908/sesac/blob/main/Chapter4_A_to_Z_%EB%B9%85%EB%8D%B0%EC%9D%B4%ED%84%B0_%EB%B6%84%EC%84%9D_%EC%8B%A4%EC%8A%B5_Penguin.ipynb\" target=\"_parent\"><img src=\"https://colab.research.google.com/assets/colab-badge.svg\" alt=\"Open In Colab\"/></a>"
      ]
    },
    {
      "cell_type": "markdown",
      "metadata": {
        "id": "XAbvzcR1EbTl"
      },
      "source": [
        "# Chapter 4. A to Z 빅데이터 분석 실습  "
      ]
    },
    {
      "cell_type": "markdown",
      "metadata": {
        "id": "YCbouD2QEe6j"
      },
      "source": [
        "## 2.실습 A to Z – Penguin"
      ]
    },
    {
      "cell_type": "markdown",
      "source": [
        "### (1) 문제"
      ],
      "metadata": {
        "id": "EkQAYAPaVXKb"
      }
    },
    {
      "cell_type": "markdown",
      "metadata": {
        "id": "6133mB54-c5l"
      },
      "source": [
        "#### Penguin Dataset\n",
        "- https://raw.githubusercontent.com/mwaskom/seaborn-data/master/penguins.csv"
      ]
    },
    {
      "cell_type": "markdown",
      "source": [
        "2014년 남극 펭귄 공동체 내 생태학적 성적 이형성과 환경적 변동성에 관한 연구 데이터이며, 다양한 종의 펭귄들의 서식지와 주요 신체 크기와 무게에 대한 7가지 정도의 데잍터로 이루어져있다.\n",
        "Palmer's penguin이라는 데이터 세트로도 알려져있으며 시각화 패키지 중 하나인 seaborn 패키지에 예제 데이터 세트로 존재한다.\n",
        "이를 기반으로 펭귄의 무게를 예측하는 회귀 분석 진행해보자."
      ],
      "metadata": {
        "id": "G81WbMREU0qD"
      }
    },
    {
      "cell_type": "code",
      "execution_count": 1,
      "metadata": {
        "colab": {
          "base_uri": "https://localhost:8080/"
        },
        "id": "zDeRbOMSRyiR",
        "outputId": "90276f14-94f5-4005-9e80-4b6a0235dfc1"
      },
      "outputs": [
        {
          "output_type": "stream",
          "name": "stdout",
          "text": [
            "Cloning into 'yemoonsaBigdata'...\n",
            "remote: Enumerating objects: 637, done.\u001b[K\n",
            "remote: Counting objects: 100% (274/274), done.\u001b[K\n",
            "remote: Compressing objects: 100% (165/165), done.\u001b[K\n",
            "remote: Total 637 (delta 136), reused 184 (delta 109), pack-reused 363\u001b[K\n",
            "Receiving objects: 100% (637/637), 10.76 MiB | 17.06 MiB/s, done.\n",
            "Resolving deltas: 100% (321/321), done.\n"
          ]
        }
      ],
      "source": [
        "!git clone https://github.com/AnalyticsKnight/yemoonsaBigdata/"
      ]
    },
    {
      "cell_type": "markdown",
      "source": [
        "- penguin_y_train.csv: 펭귄의 무게 데이터(학습용)\n",
        "- penguin_X_train.csv, penguin_X_test.csv: 펭귄의 속성(학습용 및 평가용)"
      ],
      "metadata": {
        "id": "14-TRPQHVjPT"
      }
    },
    {
      "cell_type": "markdown",
      "source": [
        "- species: 펭귄 종\n",
        "- island: 섬(서식지)\n",
        "- sex: 성별\n",
        "- bill_length_mm: 부리의 길이\n",
        "- bill_depth_mm: 부리의 높이\n",
        "- flipper_length_mm: 팔 길이\n",
        "- body_mass_g: 체중 -> 종속 변수"
      ],
      "metadata": {
        "id": "7zx8kv9YWSKq"
      }
    },
    {
      "cell_type": "markdown",
      "metadata": {
        "id": "Kj1QM3jAEezx"
      },
      "source": [
        "### (2) 사전준비"
      ]
    },
    {
      "cell_type": "markdown",
      "metadata": {
        "id": "b6StXWN8Ee2x"
      },
      "source": [
        "#### 01"
      ]
    },
    {
      "cell_type": "code",
      "execution_count": 2,
      "metadata": {
        "id": "uoCvY6YcMvJK"
      },
      "outputs": [],
      "source": [
        "# 출력을 원하실 경우 print() 함수 활용\n",
        "# 예시) print(df.head())\n",
        "\n",
        "# getcwd(), chdir() 등 작업 폴더 설정 불필요\n",
        "# 파일 경로 상 내부 드라이브 경로(C: 등) 접근 불가\n",
        "\n",
        "# 데이터 파일 읽기 예제\n",
        "import pandas as pd\n",
        "X_test = pd.read_csv(\"./yemoonsaBigdata/datasets/Part2/penguin_X_test.csv\")\n",
        "X_train = pd.read_csv(\"./yemoonsaBigdata/datasets/Part2/penguin_X_train.csv\")\n",
        "y_train = pd.read_csv(\"./yemoonsaBigdata/datasets/Part2/penguin_y_train.csv\")\n",
        "\n",
        "# 사용자 코딩\n",
        "\n",
        "# 답안 제출 참고\n",
        "# 아래 코드 예측변수와 수험번호를 개인별로 변경하여 활용\n",
        "# pd.DataFrame({'cust_id': X_test.cust_id, 'gender': pred}).to_csv('003000000.csv', index=False)\n"
      ]
    },
    {
      "cell_type": "markdown",
      "metadata": {
        "id": "OXu5zOP_M081"
      },
      "source": [
        "####02"
      ]
    },
    {
      "cell_type": "code",
      "execution_count": 3,
      "metadata": {
        "id": "KfydhG51Mvx7"
      },
      "outputs": [],
      "source": [
        "import pandas as pd\n",
        "import numpy as np\n",
        "import warnings\n",
        "\n",
        "warnings.filterwarnings('ignore')   # 경고 글귀 무시"
      ]
    },
    {
      "cell_type": "markdown",
      "metadata": {
        "id": "u94JB0RYM3eR"
      },
      "source": [
        "#### 03"
      ]
    },
    {
      "cell_type": "code",
      "execution_count": 4,
      "metadata": {
        "id": "N1KFtKLPMv0i"
      },
      "outputs": [],
      "source": [
        "X_test = pd.read_csv(\"./yemoonsaBigdata/datasets/Part2/penguin_X_test.csv\")\n",
        "X_train = pd.read_csv(\"./yemoonsaBigdata/datasets/Part2/penguin_X_train.csv\")\n",
        "y_train = pd.read_csv(\"./yemoonsaBigdata/datasets/Part2/penguin_y_train.csv\")"
      ]
    },
    {
      "cell_type": "markdown",
      "metadata": {
        "id": "meb-nM3VC65E"
      },
      "source": [
        "### (3) 데이터 전처리"
      ]
    },
    {
      "cell_type": "markdown",
      "metadata": {
        "id": "7zBOVf8GYn-f"
      },
      "source": [
        "#### 01"
      ]
    },
    {
      "cell_type": "code",
      "execution_count": 5,
      "metadata": {
        "colab": {
          "base_uri": "https://localhost:8080/"
        },
        "id": "6ZJqaVBJMv5f",
        "outputId": "c6c7942f-44d2-473b-97c3-a9bd591783ac"
      },
      "outputs": [
        {
          "output_type": "stream",
          "name": "stdout",
          "text": [
            "<class 'pandas.core.frame.DataFrame'>\n",
            "RangeIndex: 240 entries, 0 to 239\n",
            "Data columns (total 6 columns):\n",
            " #   Column             Non-Null Count  Dtype  \n",
            "---  ------             --------------  -----  \n",
            " 0   species            240 non-null    object \n",
            " 1   island             240 non-null    object \n",
            " 2   sex                232 non-null    object \n",
            " 3   bill_length_mm     238 non-null    float64\n",
            " 4   bill_depth_mm      238 non-null    float64\n",
            " 5   flipper_length_mm  238 non-null    float64\n",
            "dtypes: float64(3), object(3)\n",
            "memory usage: 11.4+ KB\n",
            "None\n"
          ]
        }
      ],
      "source": [
        "print(X_train.info())"
      ]
    },
    {
      "cell_type": "markdown",
      "source": [
        "- shape는 (240, 6)로 행 240개, 열 6개\n",
        "- 6개 변수를 독립 변수로 둠\n"
      ],
      "metadata": {
        "id": "j1x66x6IW7sW"
      }
    },
    {
      "cell_type": "markdown",
      "metadata": {
        "id": "WBjT2GYieSop"
      },
      "source": [
        "#### 02"
      ]
    },
    {
      "cell_type": "code",
      "execution_count": 6,
      "metadata": {
        "colab": {
          "base_uri": "https://localhost:8080/"
        },
        "id": "5NaT5oOneSuD",
        "outputId": "9990aa00-4c84-44b1-b237-1392770a0873"
      },
      "outputs": [
        {
          "output_type": "stream",
          "name": "stdout",
          "text": [
            "    species     island  sex  bill_length_mm  bill_depth_mm  flipper_length_mm  \\\n",
            "0    Adelie  Torgersen  NaN            42.0           20.2              190.0   \n",
            "6    Gentoo     Biscoe  NaN            44.5           14.3              216.0   \n",
            "43   Gentoo     Biscoe  NaN             NaN            NaN                NaN   \n",
            "66   Adelie  Torgersen  NaN            37.8           17.3              180.0   \n",
            "88   Gentoo     Biscoe  NaN            47.3           13.8              216.0   \n",
            "89   Adelie  Torgersen  NaN            37.8           17.1              186.0   \n",
            "110  Gentoo     Biscoe  NaN            44.5           15.7              217.0   \n",
            "229  Adelie  Torgersen  NaN             NaN            NaN                NaN   \n",
            "\n",
            "     body_mass_g  \n",
            "0         4250.0  \n",
            "6         4100.0  \n",
            "43           NaN  \n",
            "66        3700.0  \n",
            "88        4725.0  \n",
            "89        3300.0  \n",
            "110       4875.0  \n",
            "229          NaN  \n"
          ]
        }
      ],
      "source": [
        "train =  pd.concat([X_train, y_train], axis=1)\n",
        "print(train.loc[(train.sex.isna()) | (train.bill_length_mm.isna()) | (train.bill_depth_mm.isna()) | (train.flipper_length_mm.isna()) | (train.body_mass_g.isna())])"
      ]
    },
    {
      "cell_type": "markdown",
      "source": [
        "- isna 함수를 사용하여 결측치가 존재하는 index를 찾아 loc 함수를 적용하면 어떤 row에 결측치가 있는지 확인 가능\n",
        "- 여기서 중요한 것은 학습에 활용할 y_train 데이터를 포함하여 결측치 확인을 해야함\n",
        "- concat 함수를 통해 두 데이터프레임 붙임. axis=1 조건으로 두 데이터프레임이 좌우로 붙음"
      ],
      "metadata": {
        "id": "dbRnntrBeIHW"
      }
    },
    {
      "cell_type": "markdown",
      "source": [
        "- 결측치가 각기 다른 행에서 발생하지 않아 8개의 행만 처리"
      ],
      "metadata": {
        "id": "cpXuSfz9faL2"
      }
    },
    {
      "cell_type": "markdown",
      "metadata": {
        "id": "9p2J2olLDe0D"
      },
      "source": [
        "#### 03"
      ]
    },
    {
      "cell_type": "code",
      "execution_count": 7,
      "metadata": {
        "id": "AVemZrpXDgX3"
      },
      "outputs": [],
      "source": [
        "train = train.dropna()\n",
        "train.reset_index(drop=True, inplace=True)"
      ]
    },
    {
      "cell_type": "markdown",
      "source": [
        "- dropna함수를 통해 결측치 제거\n",
        "- resset_index를 통해 인덱스를 초기화하여 추후 인덱스로 인한 혼란 방지"
      ],
      "metadata": {
        "id": "MDRSE4cifd0l"
      }
    },
    {
      "cell_type": "markdown",
      "metadata": {
        "id": "Fc_OCskUmG7_"
      },
      "source": [
        "#### 04\n"
      ]
    },
    {
      "cell_type": "code",
      "execution_count": 8,
      "metadata": {
        "id": "cUfRT5JxlFv-"
      },
      "outputs": [],
      "source": [
        "X_train = train[['species','island', 'sex','bill_length_mm', 'bill_depth_mm', 'flipper_length_mm']]\n",
        "y_train = train[['body_mass_g']]"
      ]
    },
    {
      "cell_type": "markdown",
      "source": [
        "- 결측치 처리 완료했으므로 붙였던 학습용 데이터를 다시 독립변수와 종속변수로 분리"
      ],
      "metadata": {
        "id": "2zEbq5X1flxo"
      }
    },
    {
      "cell_type": "markdown",
      "metadata": {
        "id": "6G7MSS_Vk-zS"
      },
      "source": [
        "#### 05"
      ]
    },
    {
      "cell_type": "code",
      "execution_count": 9,
      "metadata": {
        "colab": {
          "base_uri": "https://localhost:8080/"
        },
        "id": "iA1mrnhok-48",
        "outputId": "bea627a7-b642-4e69-fad0-20da1aa25170"
      },
      "outputs": [
        {
          "output_type": "stream",
          "name": "stdout",
          "text": [
            "       bill_length_mm  bill_depth_mm  flipper_length_mm\n",
            "count      232.000000     232.000000         232.000000\n",
            "mean        43.990948      17.226293         200.681034\n",
            "std          5.509760       1.964677          14.064231\n",
            "min         32.100000      13.200000         172.000000\n",
            "25%         39.200000      15.700000         190.000000\n",
            "50%         44.950000      17.350000         197.000000\n",
            "75%         48.775000      18.725000         212.250000\n",
            "max         58.000000      21.500000         231.000000\n"
          ]
        }
      ],
      "source": [
        "print(X_train.describe())"
      ]
    },
    {
      "cell_type": "markdown",
      "source": [
        "- 분석에 큰 영향을 끼칠만한 이상치 없음\n",
        "- 각 수치형 변수의 범위가 상이하기 때문에 추후 스케일링이 필요하다는 것 기억"
      ],
      "metadata": {
        "id": "xkEmdsptftf5"
      }
    },
    {
      "cell_type": "markdown",
      "metadata": {
        "id": "mFDi5KXInF3L"
      },
      "source": [
        "#### 06"
      ]
    },
    {
      "cell_type": "code",
      "execution_count": 10,
      "metadata": {
        "id": "klVzRgg7Mv7X"
      },
      "outputs": [],
      "source": [
        "COL_DEL = []\n",
        "COL_NUM = ['bill_length_mm', 'bill_depth_mm', 'flipper_length_mm']\n",
        "COL_CAT = ['species','island', 'sex']\n",
        "COL_Y = ['body_mass_g']"
      ]
    },
    {
      "cell_type": "markdown",
      "source": [
        "- 6개의 독립변수 중 3개의 수치형 변수와 3개의 범주형 변수 존재\n",
        "- 수치형 변수는 모델링을 진행하면서 스케일링 진행, 범주형 변수는 레이블 인코딩 필요\n",
        "- 스케일링은 평균과 분산에 영향을 줄 수 있기 때문에 학습데이터만으로 한정하여 진행해야 하지만, 레이블 인코딩은 그렇지 않으므로 현재 단계에서 모든 데이터를 포함하여 레이블 인코딩 진헹"
      ],
      "metadata": {
        "id": "LWb2juOKf-w-"
      }
    },
    {
      "cell_type": "markdown",
      "metadata": {
        "id": "dlHagH_5vrVz"
      },
      "source": [
        "#### 07"
      ]
    },
    {
      "cell_type": "code",
      "source": [
        "X = pd.concat([X_train, X_test])\n",
        "\n",
        "from sklearn.preprocessing import OneHotEncoder\n",
        "ohe = OneHotEncoder(handle_unknown = 'ignore')  # handle_unknown: fit을 한 뒤에 transform을 진행할 때 처음 보는 범주가 등장했을 때 어떻게 처리할 것인지 결정하는 옵션\n",
        "ohe.fit(X[COL_CAT])\n",
        "\n",
        "X_train_res = ohe.transform(X_train[COL_CAT])\n",
        "X_test_res = ohe.transform(X_test[COL_CAT])"
      ],
      "metadata": {
        "id": "WRhDbOT0SKKT"
      },
      "execution_count": 11,
      "outputs": []
    },
    {
      "cell_type": "markdown",
      "metadata": {
        "id": "Y3cU8e-U3ksE"
      },
      "source": [
        "#### 08"
      ]
    },
    {
      "cell_type": "code",
      "execution_count": 12,
      "metadata": {
        "colab": {
          "base_uri": "https://localhost:8080/"
        },
        "id": "NJ5bL9KR3zLw",
        "outputId": "71ddc7c4-ce83-4acb-fe9f-6ae9c6402af3"
      },
      "outputs": [
        {
          "output_type": "stream",
          "name": "stdout",
          "text": [
            "  (0, 2)\t1.0\n",
            "  (0, 3)\t1.0\n",
            "  (0, 6)\t1.0\n",
            "  (1, 0)\t1.0\n",
            "  (1, 5)\t1.0\n",
            "  (1, 7)\t1.0\n",
            "  (2, 1)\t1.0\n",
            "  (2, 4)\t1.0\n",
            "  (2, 7)\t1.0\n",
            "  (3, 2)\t1.0\n",
            "  (3, 3)\t1.0\n",
            "  (3, 7)\t1.0\n",
            "  (4, 0)\t1.0\n",
            "  (4, 4)\t1.0\n",
            "  (4, 6)\t1.0\n",
            "  (5, 2)\t1.0\n",
            "  (5, 3)\t1.0\n",
            "  (5, 7)\t1.0\n",
            "  (6, 2)\t1.0\n",
            "  (6, 3)\t1.0\n",
            "  (6, 6)\t1.0\n",
            "  (7, 0)\t1.0\n",
            "  (7, 5)\t1.0\n",
            "  (7, 6)\t1.0\n",
            "  (8, 2)\t1.0\n",
            "  :\t:\n",
            "  (223, 6)\t1.0\n",
            "  (224, 2)\t1.0\n",
            "  (224, 3)\t1.0\n",
            "  (224, 7)\t1.0\n",
            "  (225, 0)\t1.0\n",
            "  (225, 4)\t1.0\n",
            "  (225, 7)\t1.0\n",
            "  (226, 1)\t1.0\n",
            "  (226, 4)\t1.0\n",
            "  (226, 7)\t1.0\n",
            "  (227, 1)\t1.0\n",
            "  (227, 4)\t1.0\n",
            "  (227, 6)\t1.0\n",
            "  (228, 2)\t1.0\n",
            "  (228, 3)\t1.0\n",
            "  (228, 7)\t1.0\n",
            "  (229, 0)\t1.0\n",
            "  (229, 5)\t1.0\n",
            "  (229, 6)\t1.0\n",
            "  (230, 1)\t1.0\n",
            "  (230, 4)\t1.0\n",
            "  (230, 6)\t1.0\n",
            "  (231, 2)\t1.0\n",
            "  (231, 3)\t1.0\n",
            "  (231, 6)\t1.0\n"
          ]
        }
      ],
      "source": [
        "print(X_train_res)"
      ]
    },
    {
      "cell_type": "markdown",
      "source": [
        "- transform된 데이터는 numpy arrayfh aksemfdjwls epdlxj"
      ],
      "metadata": {
        "id": "l2rW7wXiTfWZ"
      }
    },
    {
      "cell_type": "markdown",
      "metadata": {
        "id": "P4MzyH4k4CP_"
      },
      "source": [
        "#### 09. 데이터프레임으로 변경"
      ]
    },
    {
      "cell_type": "code",
      "execution_count": 13,
      "metadata": {
        "colab": {
          "base_uri": "https://localhost:8080/"
        },
        "id": "DNY5eAwH4CXc",
        "outputId": "ef2b811a-070a-4834-f216-31253eeee18b"
      },
      "outputs": [
        {
          "output_type": "stream",
          "name": "stdout",
          "text": [
            "     species_Adelie  species_Chinstrap  species_Gentoo  island_Biscoe  \\\n",
            "0               0.0                0.0             1.0            1.0   \n",
            "1               1.0                0.0             0.0            0.0   \n",
            "2               0.0                1.0             0.0            0.0   \n",
            "3               0.0                0.0             1.0            1.0   \n",
            "4               1.0                0.0             0.0            0.0   \n",
            "..              ...                ...             ...            ...   \n",
            "227             0.0                1.0             0.0            0.0   \n",
            "228             0.0                0.0             1.0            1.0   \n",
            "229             1.0                0.0             0.0            0.0   \n",
            "230             0.0                1.0             0.0            0.0   \n",
            "231             0.0                0.0             1.0            1.0   \n",
            "\n",
            "     island_Dream  island_Torgersen  sex_FEMALE  sex_MALE  \n",
            "0             0.0               0.0         1.0       0.0  \n",
            "1             0.0               1.0         0.0       1.0  \n",
            "2             1.0               0.0         0.0       1.0  \n",
            "3             0.0               0.0         0.0       1.0  \n",
            "4             1.0               0.0         1.0       0.0  \n",
            "..            ...               ...         ...       ...  \n",
            "227           1.0               0.0         1.0       0.0  \n",
            "228           0.0               0.0         0.0       1.0  \n",
            "229           0.0               1.0         1.0       0.0  \n",
            "230           1.0               0.0         1.0       0.0  \n",
            "231           0.0               0.0         1.0       0.0  \n",
            "\n",
            "[232 rows x 8 columns]\n"
          ]
        }
      ],
      "source": [
        "X_train_ohe = pd.DataFrame(X_train_res.todense(), columns = ohe.get_feature_names_out())\n",
        "X_test_ohe = pd.DataFrame(X_test_res.todense(), columns = ohe.get_feature_names_out())\n",
        "print(X_train_ohe)\n",
        "\n",
        "X_train_fin = pd.concat([X_train[COL_NUM], X_train_ohe], axis=1)\n",
        "X_test_fin = pd.concat([X_test[COL_NUM], X_test_ohe], axis=1)"
      ]
    },
    {
      "cell_type": "markdown",
      "source": [
        "- todense 함수를 붙이고 ohedml get_feature_names 함수를 사용하여 변환된 범주형 변수를 만듦"
      ],
      "metadata": {
        "id": "66NQl6oSUXrh"
      }
    },
    {
      "cell_type": "markdown",
      "metadata": {
        "id": "hYMQeX3MD8s6"
      },
      "source": [
        "### (4) 데이터 모형 구축"
      ]
    },
    {
      "cell_type": "markdown",
      "metadata": {
        "id": "BszDAsJa7PRe"
      },
      "source": [
        "#### 01"
      ]
    },
    {
      "cell_type": "code",
      "execution_count": 14,
      "metadata": {
        "id": "8ATWEfaL7PX9"
      },
      "outputs": [],
      "source": [
        "from sklearn.model_selection import train_test_split\n",
        "X_tr, X_val, y_tr, y_val = train_test_split(X_train_fin, y_train, test_size=0.3)"
      ]
    },
    {
      "cell_type": "markdown",
      "source": [
        "- 회귀 모형을 만들기 위해 학습용 데이터와 검증용 데이터 분할 진행"
      ],
      "metadata": {
        "id": "pwNhFRAoUwyl"
      }
    },
    {
      "cell_type": "markdown",
      "metadata": {
        "id": "8c1pc0IH8dgk"
      },
      "source": [
        "#### 02. 스케일링"
      ]
    },
    {
      "cell_type": "code",
      "execution_count": 15,
      "metadata": {
        "id": "cVBGoK308doE"
      },
      "outputs": [],
      "source": [
        "from sklearn.preprocessing import MinMaxScaler\n",
        "\n",
        "scaler = MinMaxScaler()\n",
        "scaler.fit(X_tr[COL_NUM])\n",
        "X_tr[COL_NUM]=scaler.transform(X_tr[COL_NUM])\n",
        "X_val[COL_NUM]=scaler.transform(X_val[COL_NUM])\n",
        "X_test_fin[COL_NUM]=scaler.transform(X_test_fin[COL_NUM])"
      ]
    },
    {
      "cell_type": "markdown",
      "source": [
        "sklearn패키지의 preprocessing 모듈에서 MinMaxScaler 함수를 import하여 스케일링을 진행"
      ],
      "metadata": {
        "id": "1SS-XuBGU7U8"
      }
    },
    {
      "cell_type": "markdown",
      "metadata": {
        "id": "3DBaeePq-DdZ"
      },
      "source": [
        "#### 03. 선형 회귀 모형 택하여 회귀분석 학습"
      ]
    },
    {
      "cell_type": "code",
      "execution_count": 16,
      "metadata": {
        "colab": {
          "base_uri": "https://localhost:8080/"
        },
        "id": "fYSGSsro-Diy",
        "outputId": "2ca3f360-f3b4-40fa-c9ce-68a2d6f81c9b"
      },
      "outputs": [
        {
          "output_type": "stream",
          "name": "stdout",
          "text": [
            "[[3437.88915585]\n",
            " [3397.84090741]\n",
            " [3910.68936556]\n",
            " [5500.84347732]\n",
            " [3456.69842561]\n",
            " [3527.10442023]\n",
            " [4837.65141043]\n",
            " [4642.31972631]\n",
            " [5500.52759572]\n",
            " [5475.63453026]\n",
            " [3337.4255922 ]\n",
            " [3463.73008979]\n",
            " [4294.4383231 ]\n",
            " [5429.90049476]\n",
            " [3514.89330663]\n",
            " [5427.43069313]\n",
            " [4261.4137395 ]\n",
            " [3447.73477918]\n",
            " [4119.08244958]\n",
            " [5560.32237635]\n",
            " [4170.0342964 ]\n",
            " [4037.20619444]\n",
            " [3932.55688681]\n",
            " [3996.46732929]\n",
            " [3200.73412873]\n",
            " [5299.8589371 ]\n",
            " [5429.36266056]\n",
            " [3366.24738451]\n",
            " [4655.58947582]\n",
            " [3587.18387364]\n",
            " [3514.83380708]\n",
            " [3823.18030722]\n",
            " [4123.28731268]\n",
            " [3424.3130312 ]\n",
            " [3926.58556588]\n",
            " [3953.61894838]\n",
            " [3821.23301464]\n",
            " [5496.69573076]\n",
            " [3452.95346639]\n",
            " [4140.15337157]\n",
            " [3511.66779991]\n",
            " [4301.80205511]\n",
            " [3481.81170669]\n",
            " [3568.36235011]\n",
            " [5526.5139354 ]\n",
            " [5256.12217245]\n",
            " [4922.02251384]\n",
            " [5394.0652963 ]\n",
            " [3298.67582584]\n",
            " [4773.05835058]\n",
            " [4704.1736369 ]\n",
            " [4158.71915045]\n",
            " [3956.54065455]\n",
            " [3285.85291442]\n",
            " [3339.99992023]\n",
            " [3348.16997299]\n",
            " [5701.65518213]\n",
            " [4030.08848559]\n",
            " [4394.86658141]\n",
            " [3595.16555698]\n",
            " [4153.95123378]\n",
            " [3576.2818247 ]\n",
            " [3872.39709257]\n",
            " [3989.37294492]\n",
            " [4661.98679357]\n",
            " [5297.38913548]\n",
            " [4971.99994707]\n",
            " [3882.75401115]\n",
            " [4695.30651752]\n",
            " [4281.04141107]]\n"
          ]
        }
      ],
      "source": [
        "from sklearn.linear_model import LinearRegression\n",
        "\n",
        "modelLR = LinearRegression()\n",
        "modelLR.fit(X_tr, y_tr)\n",
        "\n",
        "y_val_pred = modelLR.predict(X_val)\n",
        "print(y_val_pred)"
      ]
    },
    {
      "cell_type": "markdown",
      "metadata": {
        "id": "o0UP_hCxEUKn"
      },
      "source": [
        "#### 04"
      ]
    },
    {
      "cell_type": "code",
      "execution_count": 21,
      "metadata": {
        "colab": {
          "base_uri": "https://localhost:8080/"
        },
        "id": "Wv1wo_t9-ko4",
        "outputId": "a0943ca4-19a3-4862-a8c4-42a8c05943fd"
      },
      "outputs": [
        {
          "output_type": "stream",
          "name": "stdout",
          "text": [
            "[3346.41145462]\n",
            "species_Chinstrap   -454.193719\n",
            "species_Adelie      -266.375090\n",
            "sex_FEMALE          -208.799999\n",
            "island_Dream         -17.520185\n",
            "island_Biscoe         -6.593951\n",
            "island_Torgersen      24.114136\n",
            "sex_MALE             208.799999\n",
            "bill_depth_mm        414.218132\n",
            "bill_length_mm       441.625427\n",
            "species_Gentoo       720.568810\n",
            "flipper_length_mm    919.380534\n",
            "dtype: float64\n"
          ]
        }
      ],
      "source": [
        "print(modelLR.intercept_)   # intercept_: 절편 구하기\n",
        "\n",
        "coef = pd.Series(data=modelLR.coef_[0], index= X_train_fin.columns)   # coef_: 기울기 구하기\n",
        "print(coef.sort_values())"
      ]
    },
    {
      "cell_type": "markdown",
      "source": [
        "\n",
        "- 펭귄의 종이 'Chinstrap'이나 'Adelie'일 경우 무게에 음의 영향을 주고 있으며, 'Gentoo' 종일때 더 무렵다는 것을 알 수 있다.\n",
        "- 성별의 경우 암컷이 수컷보다 작게 나오는 것으로 보이며 부리 의 크기는 클수록,  특히 날개의 길이는 무게에도 아주 큰 영향을 준다고 볼 수 있다."
      ],
      "metadata": {
        "id": "LhN5li5LXblO"
      }
    },
    {
      "cell_type": "markdown",
      "metadata": {
        "id": "Sm84_DN0ERSz"
      },
      "source": [
        "### (5) 데이터 모형 평가"
      ]
    },
    {
      "cell_type": "markdown",
      "metadata": {
        "id": "2318-DLrGwhR"
      },
      "source": [
        "####01"
      ]
    },
    {
      "cell_type": "code",
      "execution_count": 18,
      "metadata": {
        "colab": {
          "base_uri": "https://localhost:8080/"
        },
        "id": "sgRxh7Y4GwmU",
        "outputId": "b554517c-1970-4ff0-b38c-d533b8a04257"
      },
      "outputs": [
        {
          "output_type": "stream",
          "name": "stdout",
          "text": [
            "MSE : 89201.648 , RMSE : 298.666 \n"
          ]
        }
      ],
      "source": [
        "from sklearn.metrics import mean_squared_error, r2_score\n",
        "\n",
        "mse = mean_squared_error(y_val, y_val_pred)\n",
        "rmse = mean_squared_error(y_val, y_val_pred, squared=False)\n",
        "\n",
        "print('MSE : {0:.3f} , RMSE : {1:.3F} '.format(mse , rmse))"
      ]
    },
    {
      "cell_type": "markdown",
      "source": [
        "- RMSE는 MSE에 제곱근을 씌운 형태이며, MSE와 거의 동일한 방식이기 때문에 mean_squared_error 함수만 import하여 계산 할 수 있음"
      ],
      "metadata": {
        "id": "VD695WQRYK5K"
      }
    },
    {
      "cell_type": "markdown",
      "metadata": {
        "id": "bUOQ0fUeQQeD"
      },
      "source": [
        "#### 02"
      ]
    },
    {
      "cell_type": "code",
      "execution_count": 19,
      "metadata": {
        "colab": {
          "base_uri": "https://localhost:8080/"
        },
        "id": "J2Tk89Qg3kzm",
        "outputId": "2c186fa8-09e0-42b4-e195-ffcf9de7cbf2"
      },
      "outputs": [
        {
          "output_type": "stream",
          "name": "stdout",
          "text": [
            "[[4130.13964058]\n",
            " [5335.85336797]\n",
            " [4025.97051342]\n",
            " [3448.16337405]\n",
            " [4679.83373078]\n",
            " [4040.01680929]\n",
            " [3397.03372557]\n",
            " [3654.90914861]\n",
            " [3542.15405783]\n",
            " [3504.47540484]\n",
            " [3389.74481827]\n",
            " [5489.82243791]\n",
            " [3536.8423027 ]\n",
            " [4072.614535  ]\n",
            " [3834.80655606]\n",
            " [4106.13830316]\n",
            " [4369.2461016 ]\n",
            " [3516.51911396]\n",
            " [3612.78904312]\n",
            " [3385.1089921 ]\n",
            " [5335.21902154]\n",
            " [4187.52733977]\n",
            " [5845.47311468]\n",
            " [4690.19063454]\n",
            " [5382.02958653]\n",
            " [5501.69891527]\n",
            " [5506.16512667]\n",
            " [4217.36259172]\n",
            " [3430.27704115]\n",
            " [4042.12333429]\n",
            " [4170.13727336]\n",
            " [3422.84172854]\n",
            " [3544.46548812]\n",
            " [4630.71259659]\n",
            " [3363.63217714]\n",
            " [3493.12379609]\n",
            " [3234.30471859]\n",
            " [3412.9640205 ]\n",
            " [3920.38785234]\n",
            " [4954.58072883]\n",
            " [3495.44733089]\n",
            " [5590.20330118]\n",
            " [4953.63050081]\n",
            " [4696.90555605]\n",
            " [5748.14728228]\n",
            " [3854.80419267]\n",
            " [4771.12638315]\n",
            " [3256.98200492]\n",
            " [5397.97576512]\n",
            " [4153.11368939]\n",
            " [4675.89088951]\n",
            " [4738.9484921 ]\n",
            " [4085.51299371]\n",
            " [3763.4167354 ]\n",
            " [3267.70133905]\n",
            " [4347.81654321]\n",
            " [4842.36992216]\n",
            " [4624.0459312 ]\n",
            " [3869.96823607]\n",
            " [4076.99361696]\n",
            " [3681.61109959]\n",
            " [4870.8101798 ]\n",
            " [3320.55308341]\n",
            " [4893.86692899]\n",
            " [4076.85793272]\n",
            " [4079.08653896]\n",
            " [5486.70210363]\n",
            " [3242.13539254]\n",
            " [4766.18505774]\n",
            " [3675.96562135]\n",
            " [4003.76834111]\n",
            " [3369.7127374 ]\n",
            " [4744.85450961]\n",
            " [3271.58468077]\n",
            " [4867.31124374]\n",
            " [4638.50318649]\n",
            " [5366.60763914]\n",
            " [3379.27693821]\n",
            " [3508.81595219]\n",
            " [4804.9348241 ]\n",
            " [3519.73898089]\n",
            " [5712.45340785]\n",
            " [3394.37912251]\n",
            " [4826.69309121]\n",
            " [4690.52356344]\n",
            " [3397.37875899]\n",
            " [5639.8478055 ]\n",
            " [4198.37554377]\n",
            " [3878.33777802]\n",
            " [4772.26649389]\n",
            " [4134.72721064]\n",
            " [4096.3683508 ]\n",
            " [4178.76883714]\n",
            " [4210.33570625]\n",
            " [5430.81951397]\n",
            " [4179.13275117]\n",
            " [5291.68716218]\n",
            " [3625.04906505]\n",
            " [4799.77240717]\n",
            " [5345.16525363]\n",
            " [3588.07375586]]\n"
          ]
        }
      ],
      "source": [
        "y_pred = modelLR.predict(X_test_fin)\n",
        "print(y_pred)"
      ]
    },
    {
      "cell_type": "markdown",
      "metadata": {
        "id": "CPPPbNLGSDQX"
      },
      "source": [
        "#### 03. csv 생성"
      ]
    },
    {
      "cell_type": "code",
      "execution_count": 20,
      "metadata": {
        "id": "xV91Z1D1SDVz"
      },
      "outputs": [],
      "source": [
        "pd.DataFrame({'body_mass_g': y_pred[:,0]}).to_csv('./yemoonsaBigdata/res/004000000.csv', index=False)"
      ]
    }
  ],
  "metadata": {
    "colab": {
      "provenance": [],
      "include_colab_link": true
    },
    "kernelspec": {
      "display_name": "Python 3 (ipykernel)",
      "language": "python",
      "name": "python3"
    },
    "language_info": {
      "codemirror_mode": {
        "name": "ipython",
        "version": 3
      },
      "file_extension": ".py",
      "mimetype": "text/x-python",
      "name": "python",
      "nbconvert_exporter": "python",
      "pygments_lexer": "ipython3",
      "version": "3.9.13"
    }
  },
  "nbformat": 4,
  "nbformat_minor": 0
}
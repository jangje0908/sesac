{
  "nbformat": 4,
  "nbformat_minor": 0,
  "metadata": {
    "colab": {
      "provenance": [],
      "authorship_tag": "ABX9TyPDhBVh6S4cIrM9HjwaZyDS",
      "include_colab_link": true
    },
    "kernelspec": {
      "name": "python3",
      "display_name": "Python 3"
    },
    "language_info": {
      "name": "python"
    }
  },
  "cells": [
    {
      "cell_type": "markdown",
      "metadata": {
        "id": "view-in-github",
        "colab_type": "text"
      },
      "source": [
        "<a href=\"https://colab.research.google.com/github/jangje0908/sesac/blob/main/Numpy_1.ipynb\" target=\"_parent\"><img src=\"https://colab.research.google.com/assets/colab-badge.svg\" alt=\"Open In Colab\"/></a>"
      ]
    },
    {
      "cell_type": "code",
      "source": [
        "import numpy as np"
      ],
      "metadata": {
        "id": "4bJ7AHl_NzwE"
      },
      "execution_count": null,
      "outputs": []
    },
    {
      "cell_type": "markdown",
      "source": [
        "# Lecture.1 Why and How NumPy?"
      ],
      "metadata": {
        "id": "OykUz8d7j1tr"
      }
    },
    {
      "cell_type": "markdown",
      "source": [
        "# Lecture.2 Objects and ndarrys"
      ],
      "metadata": {
        "id": "EBEg-_ZZjfQr"
      }
    },
    {
      "cell_type": "markdown",
      "source": [
        "## Objects in Python"
      ],
      "metadata": {
        "id": "_O-EU5lkkA6W"
      }
    },
    {
      "cell_type": "code",
      "execution_count": null,
      "metadata": {
        "id": "mZQwlzlPNv1D",
        "colab": {
          "base_uri": "https://localhost:8080/"
        },
        "outputId": "e3baaba5-3eac-4383-c95c-cc3010d3996b"
      },
      "outputs": [
        {
          "output_type": "stream",
          "name": "stdout",
          "text": [
            "<class 'list'>\n",
            "<class 'dict'>\n",
            "<class 'tuple'>\n"
          ]
        }
      ],
      "source": [
        "# type() Functuon\n",
        "a = []\n",
        "b = {'a':1, 'b':2, 'c':3}\n",
        "c = (1, 2, 3)\n",
        "\n",
        "print(type(a))\n",
        "print(type(b))\n",
        "print(type(c))"
      ]
    },
    {
      "cell_type": "code",
      "source": [
        "# Object = Data + Method\n",
        "a = [1, 2, 3]\n",
        "a.append(4)\n",
        "print(a)"
      ],
      "metadata": {
        "colab": {
          "base_uri": "https://localhost:8080/"
        },
        "id": "f0AH-MITlLpn",
        "outputId": "6377cf1e-d0bd-41f3-c641-800f9ae856de"
      },
      "execution_count": null,
      "outputs": [
        {
          "output_type": "stream",
          "name": "stdout",
          "text": [
            "[1, 2, 3, 4]\n"
          ]
        }
      ]
    },
    {
      "cell_type": "code",
      "source": [
        "# dir() Function\n",
        "a = [1, 2, 3]\n",
        "for attr in dir(a):\n",
        "  print(attr)"
      ],
      "metadata": {
        "colab": {
          "base_uri": "https://localhost:8080/"
        },
        "id": "2Rb91U0KlW9u",
        "outputId": "fdb9a534-b80b-4188-cfb0-5feb249204de"
      },
      "execution_count": null,
      "outputs": [
        {
          "output_type": "stream",
          "name": "stdout",
          "text": [
            "__add__\n",
            "__class__\n",
            "__class_getitem__\n",
            "__contains__\n",
            "__delattr__\n",
            "__delitem__\n",
            "__dir__\n",
            "__doc__\n",
            "__eq__\n",
            "__format__\n",
            "__ge__\n",
            "__getattribute__\n",
            "__getitem__\n",
            "__gt__\n",
            "__hash__\n",
            "__iadd__\n",
            "__imul__\n",
            "__init__\n",
            "__init_subclass__\n",
            "__iter__\n",
            "__le__\n",
            "__len__\n",
            "__lt__\n",
            "__mul__\n",
            "__ne__\n",
            "__new__\n",
            "__reduce__\n",
            "__reduce_ex__\n",
            "__repr__\n",
            "__reversed__\n",
            "__rmul__\n",
            "__setattr__\n",
            "__setitem__\n",
            "__sizeof__\n",
            "__str__\n",
            "__subclasshook__\n",
            "append\n",
            "clear\n",
            "copy\n",
            "count\n",
            "extend\n",
            "index\n",
            "insert\n",
            "pop\n",
            "remove\n",
            "reverse\n",
            "sort\n"
          ]
        }
      ]
    },
    {
      "cell_type": "code",
      "source": [
        "# dir() Function\n",
        "a = {'a':1, 'b':2, 'c':3}\n",
        "for attr in dir(a):\n",
        "  print(attr)"
      ],
      "metadata": {
        "colab": {
          "base_uri": "https://localhost:8080/"
        },
        "id": "c9BAvb0TleMJ",
        "outputId": "4e62a46d-a23e-47e3-a12d-0d8f09a2dece"
      },
      "execution_count": null,
      "outputs": [
        {
          "output_type": "stream",
          "name": "stdout",
          "text": [
            "__class__\n",
            "__class_getitem__\n",
            "__contains__\n",
            "__delattr__\n",
            "__delitem__\n",
            "__dir__\n",
            "__doc__\n",
            "__eq__\n",
            "__format__\n",
            "__ge__\n",
            "__getattribute__\n",
            "__getitem__\n",
            "__gt__\n",
            "__hash__\n",
            "__init__\n",
            "__init_subclass__\n",
            "__ior__\n",
            "__iter__\n",
            "__le__\n",
            "__len__\n",
            "__lt__\n",
            "__ne__\n",
            "__new__\n",
            "__or__\n",
            "__reduce__\n",
            "__reduce_ex__\n",
            "__repr__\n",
            "__reversed__\n",
            "__ror__\n",
            "__setattr__\n",
            "__setitem__\n",
            "__sizeof__\n",
            "__str__\n",
            "__subclasshook__\n",
            "clear\n",
            "copy\n",
            "fromkeys\n",
            "get\n",
            "items\n",
            "keys\n",
            "pop\n",
            "popitem\n",
            "setdefault\n",
            "update\n",
            "values\n"
          ]
        }
      ]
    },
    {
      "cell_type": "code",
      "source": [
        "# Specual Method Examples\n",
        "a, b = 4, 2\n",
        "\n",
        "print(a - b, a.__sub__(b))\n",
        "print(a * b, a.__mul__(b))\n",
        "print(a ** b, a.__pow__(b))\n",
        "print(a / b, a.__truediv__(b))\n",
        "print(a // b, a.__floordiv__(b))\n",
        "print(a % b, a.__mod__(b))"
      ],
      "metadata": {
        "colab": {
          "base_uri": "https://localhost:8080/"
        },
        "id": "yFM1z6WAl6J2",
        "outputId": "7500cb84-9acd-4ff4-d2be-036889c61b72"
      },
      "execution_count": null,
      "outputs": [
        {
          "output_type": "stream",
          "name": "stdout",
          "text": [
            "2 2\n",
            "8 8\n",
            "16 16\n",
            "2.0 2.0\n",
            "2 2\n",
            "0 0\n"
          ]
        }
      ]
    },
    {
      "cell_type": "code",
      "source": [
        "# dir() Function - Methods of Different Objects\n",
        "a = [1, 2, 3]\n",
        "for attr in dir(a):\n",
        "  print(attr)\n",
        "\n",
        "a = {'a':1, 'b':2, 'c':3}\n",
        "for attr in dir(a):\n",
        "  print(attr)"
      ],
      "metadata": {
        "colab": {
          "base_uri": "https://localhost:8080/"
        },
        "id": "UrvNmQQVmLFz",
        "outputId": "517d33f5-f7f9-4268-ee6f-57f7b3dfac3f"
      },
      "execution_count": null,
      "outputs": [
        {
          "output_type": "stream",
          "name": "stdout",
          "text": [
            "__add__\n",
            "__class__\n",
            "__class_getitem__\n",
            "__contains__\n",
            "__delattr__\n",
            "__delitem__\n",
            "__dir__\n",
            "__doc__\n",
            "__eq__\n",
            "__format__\n",
            "__ge__\n",
            "__getattribute__\n",
            "__getitem__\n",
            "__gt__\n",
            "__hash__\n",
            "__iadd__\n",
            "__imul__\n",
            "__init__\n",
            "__init_subclass__\n",
            "__iter__\n",
            "__le__\n",
            "__len__\n",
            "__lt__\n",
            "__mul__\n",
            "__ne__\n",
            "__new__\n",
            "__reduce__\n",
            "__reduce_ex__\n",
            "__repr__\n",
            "__reversed__\n",
            "__rmul__\n",
            "__setattr__\n",
            "__setitem__\n",
            "__sizeof__\n",
            "__str__\n",
            "__subclasshook__\n",
            "append\n",
            "clear\n",
            "copy\n",
            "count\n",
            "extend\n",
            "index\n",
            "insert\n",
            "pop\n",
            "remove\n",
            "reverse\n",
            "sort\n",
            "__class__\n",
            "__class_getitem__\n",
            "__contains__\n",
            "__delattr__\n",
            "__delitem__\n",
            "__dir__\n",
            "__doc__\n",
            "__eq__\n",
            "__format__\n",
            "__ge__\n",
            "__getattribute__\n",
            "__getitem__\n",
            "__gt__\n",
            "__hash__\n",
            "__init__\n",
            "__init_subclass__\n",
            "__ior__\n",
            "__iter__\n",
            "__le__\n",
            "__len__\n",
            "__lt__\n",
            "__ne__\n",
            "__new__\n",
            "__or__\n",
            "__reduce__\n",
            "__reduce_ex__\n",
            "__repr__\n",
            "__reversed__\n",
            "__ror__\n",
            "__setattr__\n",
            "__setitem__\n",
            "__sizeof__\n",
            "__str__\n",
            "__subclasshook__\n",
            "clear\n",
            "copy\n",
            "fromkeys\n",
            "get\n",
            "items\n",
            "keys\n",
            "pop\n",
            "popitem\n",
            "setdefault\n",
            "update\n",
            "values\n"
          ]
        }
      ]
    },
    {
      "cell_type": "markdown",
      "source": [
        "## ndarray Object of NumPy"
      ],
      "metadata": {
        "id": "VY6rbWX8mjSE"
      }
    },
    {
      "cell_type": "code",
      "source": [
        "# ndarray Objects\n",
        "a = np.array([1, 2, 3])\n",
        "print(type(a))"
      ],
      "metadata": {
        "colab": {
          "base_uri": "https://localhost:8080/"
        },
        "id": "uvhjH1vwmbac",
        "outputId": "26fab6fb-9995-4fac-db1b-1e35fa409896"
      },
      "execution_count": null,
      "outputs": [
        {
          "output_type": "stream",
          "name": "stdout",
          "text": [
            "<class 'numpy.ndarray'>\n"
          ]
        }
      ]
    },
    {
      "cell_type": "code",
      "source": [
        "a = np.array([1, 2, 3])\n",
        "for attr in dir(a):\n",
        "  print(attr)"
      ],
      "metadata": {
        "colab": {
          "base_uri": "https://localhost:8080/"
        },
        "id": "tvPMqpgYmrYR",
        "outputId": "ecef80cf-4b85-4678-a53d-4bc2261c1174"
      },
      "execution_count": null,
      "outputs": [
        {
          "output_type": "stream",
          "name": "stdout",
          "text": [
            "T\n",
            "__abs__\n",
            "__add__\n",
            "__and__\n",
            "__array__\n",
            "__array_finalize__\n",
            "__array_function__\n",
            "__array_interface__\n",
            "__array_prepare__\n",
            "__array_priority__\n",
            "__array_struct__\n",
            "__array_ufunc__\n",
            "__array_wrap__\n",
            "__bool__\n",
            "__class__\n",
            "__class_getitem__\n",
            "__complex__\n",
            "__contains__\n",
            "__copy__\n",
            "__deepcopy__\n",
            "__delattr__\n",
            "__delitem__\n",
            "__dir__\n",
            "__divmod__\n",
            "__dlpack__\n",
            "__dlpack_device__\n",
            "__doc__\n",
            "__eq__\n",
            "__float__\n",
            "__floordiv__\n",
            "__format__\n",
            "__ge__\n",
            "__getattribute__\n",
            "__getitem__\n",
            "__gt__\n",
            "__hash__\n",
            "__iadd__\n",
            "__iand__\n",
            "__ifloordiv__\n",
            "__ilshift__\n",
            "__imatmul__\n",
            "__imod__\n",
            "__imul__\n",
            "__index__\n",
            "__init__\n",
            "__init_subclass__\n",
            "__int__\n",
            "__invert__\n",
            "__ior__\n",
            "__ipow__\n",
            "__irshift__\n",
            "__isub__\n",
            "__iter__\n",
            "__itruediv__\n",
            "__ixor__\n",
            "__le__\n",
            "__len__\n",
            "__lshift__\n",
            "__lt__\n",
            "__matmul__\n",
            "__mod__\n",
            "__mul__\n",
            "__ne__\n",
            "__neg__\n",
            "__new__\n",
            "__or__\n",
            "__pos__\n",
            "__pow__\n",
            "__radd__\n",
            "__rand__\n",
            "__rdivmod__\n",
            "__reduce__\n",
            "__reduce_ex__\n",
            "__repr__\n",
            "__rfloordiv__\n",
            "__rlshift__\n",
            "__rmatmul__\n",
            "__rmod__\n",
            "__rmul__\n",
            "__ror__\n",
            "__rpow__\n",
            "__rrshift__\n",
            "__rshift__\n",
            "__rsub__\n",
            "__rtruediv__\n",
            "__rxor__\n",
            "__setattr__\n",
            "__setitem__\n",
            "__setstate__\n",
            "__sizeof__\n",
            "__str__\n",
            "__sub__\n",
            "__subclasshook__\n",
            "__truediv__\n",
            "__xor__\n",
            "all\n",
            "any\n",
            "argmax\n",
            "argmin\n",
            "argpartition\n",
            "argsort\n",
            "astype\n",
            "base\n",
            "byteswap\n",
            "choose\n",
            "clip\n",
            "compress\n",
            "conj\n",
            "conjugate\n",
            "copy\n",
            "ctypes\n",
            "cumprod\n",
            "cumsum\n",
            "data\n",
            "diagonal\n",
            "dot\n",
            "dtype\n",
            "dump\n",
            "dumps\n",
            "fill\n",
            "flags\n",
            "flat\n",
            "flatten\n",
            "getfield\n",
            "imag\n",
            "item\n",
            "itemset\n",
            "itemsize\n",
            "max\n",
            "mean\n",
            "min\n",
            "nbytes\n",
            "ndim\n",
            "newbyteorder\n",
            "nonzero\n",
            "partition\n",
            "prod\n",
            "ptp\n",
            "put\n",
            "ravel\n",
            "real\n",
            "repeat\n",
            "reshape\n",
            "resize\n",
            "round\n",
            "searchsorted\n",
            "setfield\n",
            "setflags\n",
            "shape\n",
            "size\n",
            "sort\n",
            "squeeze\n",
            "std\n",
            "strides\n",
            "sum\n",
            "swapaxes\n",
            "take\n",
            "tobytes\n",
            "tofile\n",
            "tolist\n",
            "tostring\n",
            "trace\n",
            "transpose\n",
            "var\n",
            "view\n"
          ]
        }
      ]
    },
    {
      "cell_type": "code",
      "source": [
        "# Element-wise Operations of ndarrays\n",
        "u = [1, 2, 3]\n",
        "v = [4, 5, 6]\n",
        "\n",
        "w = u + v\n",
        "print(w)"
      ],
      "metadata": {
        "colab": {
          "base_uri": "https://localhost:8080/"
        },
        "id": "Z3dla5Skmz6Z",
        "outputId": "de936854-eb34-4133-b616-3a83181acebd"
      },
      "execution_count": null,
      "outputs": [
        {
          "output_type": "stream",
          "name": "stdout",
          "text": [
            "[1, 2, 3, 4, 5, 6]\n"
          ]
        }
      ]
    },
    {
      "cell_type": "code",
      "source": [
        "# Element-wise Operations of ndarrays\n",
        "u = [1, 2, 3]\n",
        "v = [4, 5, 6]\n",
        "\n",
        "w = u + v\n",
        "print(w)\n",
        "\n",
        "\n",
        "w = [0] * len(u)\n",
        "for data_idx in range(len(u)):\n",
        "  w[data_idx] = u[data_idx] + v[data_idx]\n",
        "print(w)"
      ],
      "metadata": {
        "colab": {
          "base_uri": "https://localhost:8080/"
        },
        "id": "QiHWzXfHm-eG",
        "outputId": "c7be3505-0617-452e-f627-f220197a5213"
      },
      "execution_count": null,
      "outputs": [
        {
          "output_type": "stream",
          "name": "stdout",
          "text": [
            "[1, 2, 3, 4, 5, 6]\n",
            "[5, 7, 9]\n"
          ]
        }
      ]
    },
    {
      "cell_type": "code",
      "source": [
        "# Element-wise Operations of ndarrays\n",
        "# with Python Lists\n",
        "u = [1, 2, 3]\n",
        "v = [4, 5, 6]\n",
        "\n",
        "w = [0] * len(u)\n",
        "for data_idx in range(len(u)):\n",
        "  w[data_idx] = u[data_idx] + v[data_idx]\n",
        "print(w)\n",
        "\n",
        "\n",
        "# with ndarray\n",
        "u = np.array([1, 2, 3])\n",
        "v = np.array([4, 5, 6])\n",
        "\n",
        "print(u + v)"
      ],
      "metadata": {
        "colab": {
          "base_uri": "https://localhost:8080/"
        },
        "id": "0HawaTu0nPi_",
        "outputId": "2147a2f4-0dc2-4d80-b125-ef221227031c"
      },
      "execution_count": null,
      "outputs": [
        {
          "output_type": "stream",
          "name": "stdout",
          "text": [
            "[5, 7, 9]\n",
            "[5 7 9]\n"
          ]
        }
      ]
    },
    {
      "cell_type": "code",
      "source": [
        "# Element-wise Operations of ndarrays\n",
        "# with Python Lists\n",
        "M = [[1, 2, 3], [4, 5, 6], [7, 8, 9]]\n",
        "N = [[11, 12, 13], [14, 15, 16], [17, 18, 19]]\n",
        "\n",
        "n_row, n_col = len(M), len(M[0])  # 3, 3\n",
        "\n",
        "P = [[0]*n_col for _ in range(n_col)]  # [0]*3 for _ in range(3)\n",
        "for row_idx in range(n_row):           # for row_idx in range(3) -> 0, 1, 2\n",
        "  for col_idx in range(n_col):         # for col_idx in range(3) -> 0, 1, 2\n",
        "    P[row_idx][col_idx] = M[row_idx][col_idx] + N[row_idx][col_idx]\n",
        "\n",
        "for P_row in P:\n",
        "  print(P_row)\n",
        "\n",
        "\n",
        "# with ndarrays\n",
        "M = np.array([[1, 2, 3],\n",
        "              [4, 5, 6],\n",
        "              [7, 8, 9]])\n",
        "\n",
        "N = np.array([[11, 12, 13],\n",
        "              [14, 15, 16],\n",
        "              [17, 18, 19]])\n",
        "print(M + N)"
      ],
      "metadata": {
        "colab": {
          "base_uri": "https://localhost:8080/"
        },
        "id": "JG8MerK0nsv8",
        "outputId": "a9162284-83af-48d3-e8b0-4b9c5bbaec26"
      },
      "execution_count": null,
      "outputs": [
        {
          "output_type": "stream",
          "name": "stdout",
          "text": [
            "[12, 14, 16]\n",
            "[18, 20, 22]\n",
            "[24, 26, 28]\n",
            "[[12 14 16]\n",
            " [18 20 22]\n",
            " [24 26 28]]\n"
          ]
        }
      ]
    },
    {
      "cell_type": "markdown",
      "source": [
        "# Lecture.3 Making ndarrays"
      ],
      "metadata": {
        "id": "pD2DFolsqTab"
      }
    },
    {
      "cell_type": "markdown",
      "source": [
        "## Shapes of ndarrays"
      ],
      "metadata": {
        "id": "-HPVUGRqo8Bw"
      }
    },
    {
      "cell_type": "code",
      "source": [
        "# Shapes of ndarrays\n",
        "scalar_np = np.array(3.14)\n",
        "vec_np = np.array([1, 2, 3])\n",
        "mat_np = np.array([[1, 2], [3, 4]])\n",
        "tensor_np = np.array([[[1, 2, 3],\n",
        "                        [4, 5, 6]],\n",
        "                       [[11, 12, 13],\n",
        "                        [14, 15, 16]]])\n",
        "\n",
        "print(scalar_np.shape)\n",
        "print(vec_np.shape)\n",
        "print(mat_np.shape)\n",
        "print(tensor_np.shape)\n",
        "\n",
        "print(len(()))\n",
        "print(len((3,)))\n",
        "print(len((2, 2)))\n",
        "print(len((2, 2, 3)))"
      ],
      "metadata": {
        "colab": {
          "base_uri": "https://localhost:8080/"
        },
        "id": "iNRmjZc3oW-J",
        "outputId": "891522f8-cfac-45dc-d5fa-4d5938fe10c3"
      },
      "execution_count": null,
      "outputs": [
        {
          "output_type": "stream",
          "name": "stdout",
          "text": [
            "()\n",
            "(3,)\n",
            "(2, 2)\n",
            "(2, 2, 3)\n",
            "0\n",
            "1\n",
            "2\n",
            "3\n"
          ]
        }
      ]
    },
    {
      "cell_type": "code",
      "source": [],
      "metadata": {
        "id": "uAehUGAUpwuy"
      },
      "execution_count": null,
      "outputs": []
    }
  ]
}
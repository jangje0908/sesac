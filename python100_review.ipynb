{
  "cells": [
    {
      "cell_type": "markdown",
      "metadata": {
        "id": "view-in-github",
        "colab_type": "text"
      },
      "source": [
        "<a href=\"https://colab.research.google.com/github/jangje0908/sesac_practice/blob/main/python100_review.ipynb\" target=\"_parent\"><img src=\"https://colab.research.google.com/assets/colab-badge.svg\" alt=\"Open In Colab\"/></a>"
      ]
    },
    {
      "cell_type": "code",
      "execution_count": null,
      "metadata": {
        "id": "o1brwKYq46k7",
        "outputId": "e6479a10-10e8-48eb-8220-522c7d3d1fea"
      },
      "outputs": [
        {
          "name": "stdout",
          "output_type": "stream",
          "text": [
            "Hello world!\n"
          ]
        }
      ],
      "source": [
        "# 1\n",
        "print(\"Hello world!\")"
      ]
    },
    {
      "cell_type": "code",
      "execution_count": null,
      "metadata": {
        "id": "fo50Krl-46k8",
        "outputId": "2bd2ec9e-6d91-4fdd-a1d3-d5834bcc0645"
      },
      "outputs": [
        {
          "name": "stdout",
          "output_type": "stream",
          "text": [
            "name: Jang ju eun\n",
            "height:  165\n",
            "math score:  100\n"
          ]
        }
      ],
      "source": [
        "# 2\n",
        "name = \"Jang ju eun\"\n",
        "math_score = 100\n",
        "height = 165\n",
        "\n",
        "print(\"name:\" , name)\n",
        "print(\"height: \", height)\n",
        "print(\"math score: \", math_score)"
      ]
    },
    {
      "cell_type": "code",
      "execution_count": null,
      "metadata": {
        "id": "NVIC4LOD46k8",
        "outputId": "7dec4b98-c739-4c81-929d-60778c3cf8e9"
      },
      "outputs": [
        {
          "name": "stdout",
          "output_type": "stream",
          "text": [
            "6\n",
            "8\n",
            "2\n",
            "2.0\n",
            "2\n",
            "16\n",
            "0\n"
          ]
        }
      ],
      "source": [
        "# 3\n",
        "a = 4\n",
        "b = 2\n",
        "print(a + b)\n",
        "print(a * b)\n",
        "print(a - b)\n",
        "print(a / b)\n",
        "print(a // b)\n",
        "print(a ** 2)\n",
        "print(a % b)"
      ]
    },
    {
      "cell_type": "code",
      "execution_count": null,
      "metadata": {
        "id": "QUfeMZoW46k8",
        "outputId": "a574cd1d-32cb-4f9d-b4dd-7206f869f34b"
      },
      "outputs": [
        {
          "name": "stdout",
          "output_type": "stream",
          "text": [
            "6 2 8 2.0 2 0 16\n"
          ]
        }
      ],
      "source": [
        "# 4\n",
        "a, b = 4, 2\n",
        "add = a + b\n",
        "sub = a - b\n",
        "mul = a * b\n",
        "div = a / b\n",
        "quo = a // b\n",
        "rem = a % b\n",
        "pow = a ** b\n",
        "\n",
        "print(add, sub, mul, div, quo, rem, pow)"
      ]
    },
    {
      "cell_type": "code",
      "execution_count": null,
      "metadata": {
        "id": "1YXAqI3y46k8",
        "outputId": "806c72c9-0f18-4d01-f0ab-12fb667798a1"
      },
      "outputs": [
        {
          "name": "stdout",
          "output_type": "stream",
          "text": [
            "1 0 1 0\n"
          ]
        }
      ],
      "source": [
        "# 5\n",
        "a, b, c, d = 1, 2, 3, 4\n",
        "div = 2\n",
        "\n",
        "rem1, rem2, rem3, rem4 = a%div, b%div, c%div, d%div\n",
        "\n",
        "print(rem1, rem2, rem3, rem4)"
      ]
    },
    {
      "cell_type": "code",
      "execution_count": null,
      "metadata": {
        "id": "M4YMd-ur46k9",
        "outputId": "af5e0765-3ac0-4e4c-eab2-0182a8bae131"
      },
      "outputs": [
        {
          "name": "stdout",
          "output_type": "stream",
          "text": [
            "10\n",
            "20\n",
            "15\n",
            "30\n",
            "6.0\n",
            "36.0\n"
          ]
        }
      ],
      "source": [
        "# 6\n",
        "score = 10\n",
        "print(score)\n",
        "\n",
        "score += 10\n",
        "print(score)\n",
        "\n",
        "score -= 5\n",
        "print(score)\n",
        "\n",
        "score *= 2\n",
        "print(score)\n",
        "\n",
        "score /= 5\n",
        "print(score)\n",
        "\n",
        "score **= 2\n",
        "print(score)"
      ]
    },
    {
      "cell_type": "code",
      "execution_count": null,
      "metadata": {
        "id": "D4bjrUrR46k9",
        "outputId": "4cc15800-23c5-435f-96a5-ef115a6d3b4b"
      },
      "outputs": [
        {
          "name": "stdout",
          "output_type": "stream",
          "text": [
            "60\n"
          ]
        }
      ],
      "source": [
        "# 7\n",
        "score1 = 10\n",
        "score2 = 20\n",
        "score3 = 30\n",
        "\n",
        "score_sum = score1 + score2 + score3\n",
        "print(score_sum)"
      ]
    },
    {
      "cell_type": "code",
      "execution_count": null,
      "metadata": {
        "id": "9Cqctz-346k9",
        "outputId": "cfb69ef2-4f1e-45b1-c7ab-668045adc18e"
      },
      "outputs": [
        {
          "name": "stdout",
          "output_type": "stream",
          "text": [
            "20.0\n"
          ]
        }
      ],
      "source": [
        "# 8\n",
        "score1 = 10\n",
        "score2 = 20\n",
        "score3 = 30\n",
        "n_student = 3\n",
        "\n",
        "score_mean = (score1 + score2 + score3) / n_student\n",
        "print(score_mean)"
      ]
    },
    {
      "cell_type": "code",
      "execution_count": null,
      "metadata": {
        "id": "pq84aDlf46k9",
        "outputId": "e1954567-8f16-4f5e-cdcc-01af41a9edb6"
      },
      "outputs": [
        {
          "name": "stdout",
          "output_type": "stream",
          "text": [
            "20.0\n",
            "20 30 40\n",
            "30.0\n"
          ]
        }
      ],
      "source": [
        "# 9\n",
        "score1 = 10\n",
        "score2 = 20\n",
        "score3 = 30\n",
        "n_student = 3\n",
        "\n",
        "score_mean = (score1 + score2 + score3) / n_student\n",
        "print(score_mean)\n",
        "\n",
        "\n",
        "score1 += 10\n",
        "score2 += 10\n",
        "score3 += 10\n",
        "print(score1, score2, score3)\n",
        "\n",
        "score_mean = (score1 + score2 + score3) / n_student\n",
        "print(score_mean)"
      ]
    },
    {
      "cell_type": "code",
      "execution_count": null,
      "metadata": {
        "id": "CKY1ghB146k9",
        "outputId": "e5a4073b-2982-40e7-ccbd-8145e1ce212f"
      },
      "outputs": [
        {
          "name": "stdout",
          "output_type": "stream",
          "text": [
            "0.0\n"
          ]
        }
      ],
      "source": [
        "# 10\n",
        "score1 = 10\n",
        "score2 = 20\n",
        "score3 = 30\n",
        "n_student = 3\n",
        "\n",
        "score_mean = (score1 + score2 + score3) / n_student\n",
        "\n",
        "\n",
        "score1 -= score_mean\n",
        "score2 -= score_mean\n",
        "score3 -= score_mean\n",
        "\n",
        "score_mean = (score1 + score2 + score3) / n_student\n",
        "print(score_mean)"
      ]
    },
    {
      "cell_type": "code",
      "execution_count": null,
      "metadata": {
        "id": "v2PlpazZ46k9",
        "outputId": "621e90ac-db95-4deb-8b8e-9d59c542f209"
      },
      "outputs": [
        {
          "name": "stdout",
          "output_type": "stream",
          "text": [
            "squre of mean:  400.0\n",
            "mean of squre:  466.6666666666667\n"
          ]
        }
      ],
      "source": [
        "# 11\n",
        "score1 = 10\n",
        "score2 = 20\n",
        "score3 = 30\n",
        "n_student = 3\n",
        "\n",
        "mean = (score1 + score2 + score3) / n_student\n",
        "square_of_mean = mean ** 2\n",
        "mean_of_squre = (score1**2 + score2**2 + score3**2)/n_student\n",
        "\n",
        "print(\"squre of mean: \", square_of_mean)\n",
        "print(\"mean of squre: \", mean_of_squre)"
      ]
    },
    {
      "cell_type": "code",
      "execution_count": null,
      "metadata": {
        "id": "w69wR7Ne46k9",
        "outputId": "fdfe5043-8af5-4929-83f4-a7510bd21bc4"
      },
      "outputs": [
        {
          "name": "stdout",
          "output_type": "stream",
          "text": [
            "mean: 20.0\n",
            "variance: 66.66666666666669\n",
            "standard deviation: 8.16496580927726\n"
          ]
        }
      ],
      "source": [
        "# 12\n",
        "score1 = 10\n",
        "score2 = 20\n",
        "score3 = 30\n",
        "n_student = 3\n",
        "\n",
        "score_mean = (score1 + score2 + score3)/n_student\n",
        "square_of_mean = score_mean**2\n",
        "mean_of_square = (score1**2 + score2**2 + score3**2)/n_student\n",
        "\n",
        "score_variance = mean_of_square- square_of_mean\n",
        "score_std = score_variance**0.5\n",
        "\n",
        "print(\"mean:\", score_mean)\n",
        "print(\"variance:\", score_variance)\n",
        "print(\"standard deviation:\", score_std)"
      ]
    },
    {
      "cell_type": "code",
      "execution_count": null,
      "metadata": {
        "id": "24fhGq1046k9",
        "outputId": "c7e0e16b-97f4-412b-fa0e-01f531a79b1d"
      },
      "outputs": [
        {
          "name": "stdout",
          "output_type": "stream",
          "text": [
            "mean: 0.0\n",
            "standard deviation: 1.0\n"
          ]
        }
      ],
      "source": [
        "# 13\n",
        "score1 = 10\n",
        "score2 = 20\n",
        "score3 = 30\n",
        "n_student = 3\n",
        "\n",
        "score_mean = (score1 + score2 + score3)/n_student\n",
        "square_of_mean = score_mean**2\n",
        "mean_of_square = (score1**2 + score2**2 + score3**2)/n_student\n",
        "score_variance = mean_of_square- square_of_mean\n",
        "score_std = score_variance**0.5\n",
        "\n",
        "\n",
        "score1 = (score1 - score_mean)/score_std\n",
        "score2 = (score2 - score_mean)/score_std\n",
        "score3 = (score3 - score_mean)/score_std\n",
        "\n",
        "score_mean = (score1 + score2 + score3)/n_student\n",
        "square_of_mean = score_mean**2\n",
        "mean_of_square = (score1**2 + score2**2 + score3**2)/n_student\n",
        "score_variance = mean_of_square- square_of_mean\n",
        "score_std = score_variance**0.5\n",
        "\n",
        "print(\"mean:\", score_mean)\n",
        "print(\"standard deviation:\", score_std)"
      ]
    },
    {
      "cell_type": "code",
      "execution_count": null,
      "metadata": {
        "id": "DPzTaI8M46k-",
        "outputId": "fd1c96f1-008c-4460-ca39-c987c4eddb58"
      },
      "outputs": [
        {
          "name": "stdout",
          "output_type": "stream",
          "text": [
            "4 6 8\n",
            "-2 -2 -2\n",
            "3 8 15\n"
          ]
        }
      ],
      "source": [
        "# 14: vector\n",
        "x1, y1, z1 = 1,2,3\n",
        "x2, y2, z2 = 3,4,5\n",
        "\n",
        "x3, y3, z3 = x1 + x2, y1 + y2, z1 + z2\n",
        "x4, y4, z4 = x1 - x2, y1 - y2, z1 - z2\n",
        "x5, y5, z5 = x1 * x2, y1 * y2, z1 * z2\n",
        "\n",
        "print(x3, y3, z3)\n",
        "print(x4, y4, z4)\n",
        "print(x5, y5, z5)"
      ]
    },
    {
      "cell_type": "code",
      "execution_count": null,
      "metadata": {
        "id": "5-0B6Hhm46k-",
        "outputId": "182f2c56-3bf4-4420-92a1-4c879a16405f"
      },
      "outputs": [
        {
          "name": "stdout",
          "output_type": "stream",
          "text": [
            "10 20 30\n",
            "11 12 13\n",
            "9 8 7\n"
          ]
        }
      ],
      "source": [
        "# 15: scalar-vector\n",
        "a = 10\n",
        "x1, y1, z1 = 1,2,3\n",
        "\n",
        "x2, y2, z2 = a*x1, a*y1, a*z1\n",
        "x3, y3, z3 = a+x1, a+y1, a+z1\n",
        "x4, y4, z4 = a-x1, a-y1, a-z1\n",
        "\n",
        "print(x2,y2,z2)\n",
        "print(x3,y3,z3)\n",
        "print(x4,y4,z4)"
      ]
    },
    {
      "cell_type": "code",
      "execution_count": null,
      "metadata": {
        "id": "ac3BoRhC46k-",
        "outputId": "bb4804f3-0c79-41d3-de1b-a0cc35040cad"
      },
      "outputs": [
        {
          "name": "stdout",
          "output_type": "stream",
          "text": [
            "3.7416573867739413\n"
          ]
        }
      ],
      "source": [
        "# 16: vector norm\n",
        "x, y, z = 1,2,3\n",
        "\n",
        "norm = (x**2 + y**2 + z**2) ** 0.5\n",
        "\n",
        "print(norm)"
      ]
    },
    {
      "cell_type": "code",
      "execution_count": null,
      "metadata": {
        "id": "2IpatkgH46k-",
        "outputId": "b0072335-55dc-4004-95ef-27a1b6dd0dde"
      },
      "outputs": [
        {
          "name": "stdout",
          "output_type": "stream",
          "text": [
            "3.7416573867739413\n",
            "1.0\n"
          ]
        }
      ],
      "source": [
        "# 17: unit vector\n",
        "x,y,z = 1,2,3\n",
        "\n",
        "norm = (x**2 + y**2 + z**2 )** 0.5\n",
        "print(norm)\n",
        "\n",
        "x,y,z = x/norm, y/norm, z/norm\n",
        "norm = (x**2 + y**2 + z**2) ** 0.5\n",
        "print(norm)"
      ]
    },
    {
      "cell_type": "code",
      "execution_count": null,
      "metadata": {
        "id": "VqIliavw46k-",
        "outputId": "42c1358b-b3c8-4c13-dc1c-b997478c78f7"
      },
      "outputs": [
        {
          "name": "stdout",
          "output_type": "stream",
          "text": [
            "26\n"
          ]
        }
      ],
      "source": [
        "# 18: dot product\n",
        "x1, y1, z1 = 1,2,3\n",
        "x2, y2, z2 = 3,4,5\n",
        "\n",
        "dot_prod = x1*x2 + y1*y2 + z1*z2\n",
        "print(dot_prod)"
      ]
    },
    {
      "cell_type": "code",
      "execution_count": null,
      "metadata": {
        "id": "V8u4pAvd46k-",
        "outputId": "85ec2ca4-8b84-4bb4-f45e-5ac01bc09b9d"
      },
      "outputs": [
        {
          "name": "stdout",
          "output_type": "stream",
          "text": [
            "3.4641016151377544\n"
          ]
        }
      ],
      "source": [
        "# 19: euclidean distance\n",
        "x1, y1, z1 = 1,2,3\n",
        "x2, y2, z2 = 3,4,5\n",
        "\n",
        "e_distance = (x1-x2)**2 + (y1-y2)**2 + (z1-z2)**2\n",
        "e_distance **= 0.5\n",
        "\n",
        "print(e_distance)"
      ]
    },
    {
      "cell_type": "code",
      "execution_count": null,
      "metadata": {
        "id": "gFirDXvP46k-",
        "outputId": "53f2f4ae-5bb9-4ac6-9af8-5b84bfb534f1"
      },
      "outputs": [
        {
          "name": "stdout",
          "output_type": "stream",
          "text": [
            "0 25 100\n"
          ]
        }
      ],
      "source": [
        "# 20: squared error\n",
        "pred1, pred2, pred3 = 10, 20, 30\n",
        "y1, y2, y3 = 10, 25, 40\n",
        "n_data = 3\n",
        "\n",
        "s_error1 = (pred1 - y1)**2\n",
        "s_error2 = (pred2 - y2)**2\n",
        "s_error3 = (pred3 - y3)**2\n",
        "\n",
        "print(s_error1, s_error2, s_error3)"
      ]
    },
    {
      "cell_type": "code",
      "execution_count": null,
      "metadata": {
        "id": "fePKHIL046k-",
        "outputId": "e39e85eb-b040-4be4-fb79-caccd66f970f"
      },
      "outputs": [
        {
          "name": "stdout",
          "output_type": "stream",
          "text": [
            "41.666666666666664\n"
          ]
        }
      ],
      "source": [
        "# 21: mean squared error\n",
        "pred1, pred2, pred3 = 10, 20, 30\n",
        "y1, y2, y3 = 10, 25, 40\n",
        "n_data = 3\n",
        "\n",
        "s_error1 = (pred1 - y1)**2\n",
        "s_error2 = (pred2 - y2)**2\n",
        "s_error3 = (pred3 - y3)**2\n",
        "\n",
        "mse = (s_error1 + s_error2 + s_error3) / n_data\n",
        "print(mse)"
      ]
    },
    {
      "cell_type": "code",
      "execution_count": null,
      "metadata": {
        "id": "13STOVPI46k-",
        "outputId": "2af39516-7584-43f8-9491-035d7d4621e7"
      },
      "outputs": [
        {
          "name": "stdout",
          "output_type": "stream",
          "text": [
            "10\n",
            "20\n",
            "30\n"
          ]
        }
      ],
      "source": [
        "# 22\n",
        "scores = [10,20,30]\n",
        "print(scores[0])\n",
        "print(scores[1])\n",
        "print(scores[2])"
      ]
    },
    {
      "cell_type": "code",
      "execution_count": null,
      "metadata": {
        "id": "R35bAMPP46k-",
        "outputId": "ea9b293d-42c6-418b-ee03-cda21d540aa2"
      },
      "outputs": [
        {
          "name": "stdout",
          "output_type": "stream",
          "text": [
            "[10, 20, 30]\n",
            "[100, 200, 30]\n"
          ]
        }
      ],
      "source": [
        "# 23\n",
        "scores = [10,20,30]\n",
        "print(scores)\n",
        "\n",
        "scores[0] = 100\n",
        "scores[1] = 200\n",
        "print(scores)"
      ]
    },
    {
      "cell_type": "code",
      "execution_count": null,
      "metadata": {
        "id": "ZwegFWq546k-",
        "outputId": "92ef24dc-2898-4b03-910b-8a73a0a0ee75"
      },
      "outputs": [
        {
          "name": "stdout",
          "output_type": "stream",
          "text": [
            "20.0\n"
          ]
        }
      ],
      "source": [
        "# 24\n",
        "scores = [10,20,30]\n",
        "mean = (scores[0] + scores[1] + scores[2]) / len(scores)\n",
        "\n",
        "print(mean)"
      ]
    },
    {
      "cell_type": "code",
      "execution_count": null,
      "metadata": {
        "id": "x-dwxfcS46k-",
        "outputId": "c161e7e8-e22a-4610-a7cf-964e1ed436cf"
      },
      "outputs": [
        {
          "name": "stdout",
          "output_type": "stream",
          "text": [
            "score mean: 20.0\n",
            "score_mean: 0.0\n"
          ]
        }
      ],
      "source": [
        "# 25\n",
        "scores = [10,20,30]\n",
        "n_student = len(scores)\n",
        "\n",
        "mean = (scores[0] + scores[1] + scores[2]) / n_student\n",
        "print(\"score mean:\", mean)\n",
        "\n",
        "scores[0] -= mean\n",
        "scores[1] -= mean\n",
        "scores[2] -= mean\n",
        "\n",
        "mean = (scores[0] + scores[1]+ scores[2]) / n_student\n",
        "print(\"score_mean:\", mean)\n"
      ]
    },
    {
      "cell_type": "code",
      "execution_count": null,
      "metadata": {
        "id": "YZIpiPxe46k-",
        "outputId": "6424f443-fdc0-4680-e7c7-48e1bce94eb4"
      },
      "outputs": [
        {
          "name": "stdout",
          "output_type": "stream",
          "text": [
            "mean: 20.0\n",
            "variance:  66.66666666666669\n",
            "standard deviation: 8.16496580927726\n"
          ]
        }
      ],
      "source": [
        "# 26\n",
        "scores = [10,20,30]\n",
        "n_student = len(scores)\n",
        "\n",
        "mean = (scores[0] + scores[1] + scores[2]) / n_student\n",
        "square_of_mean = mean **2\n",
        "mean_of_square = (scores[0]**2 + scores[1]**2 + scores[2]**2) / n_student\n",
        "\n",
        "variance = mean_of_square - square_of_mean\n",
        "std = variance**0.5\n",
        "\n",
        "print(\"mean:\" , mean)\n",
        "print(\"variance: \", variance)\n",
        "print(\"standard deviation:\" , std)"
      ]
    },
    {
      "cell_type": "code",
      "execution_count": null,
      "metadata": {
        "id": "6unFy4dp46k-",
        "outputId": "69733a36-7efe-4c21-cc97-97eb0f6f58ba"
      },
      "outputs": [
        {
          "name": "stdout",
          "output_type": "stream",
          "text": [
            "mean: 0.0\n",
            "standard deviation: 1.0\n"
          ]
        }
      ],
      "source": [
        "# 27\n",
        "scores = [10,20,30]\n",
        "n_student = len(scores)\n",
        "\n",
        "mean = (scores[0] + scores[1] + scores[2]) / n_student\n",
        "square_of_mean = mean **2\n",
        "mean_of_square = (scores[0]**2 + scores[1]**2 + scores[2]**2) / n_student\n",
        "\n",
        "variance = mean_of_square - square_of_mean\n",
        "std = variance**0.5\n",
        "\n",
        "scores[0] = (scores[0] - mean) / std\n",
        "scores[1] = (scores[1] - mean) / std\n",
        "scores[2] = (scores[2] - mean) / std\n",
        "\n",
        "mean = (scores[0] + scores[1] + scores[2]) / n_student\n",
        "square_of_mean = mean**2\n",
        "mean_of_square = (scores[0]**2 + scores[1]**2 + scores[2]**2) / n_student   #제곱의 평균\n",
        "\n",
        "variance = mean_of_square - square_of_mean\n",
        "std = variance**0.5\n",
        "\n",
        "print(\"mean:\" , mean)\n",
        "print(\"standard deviation:\" , std)"
      ]
    },
    {
      "cell_type": "code",
      "execution_count": null,
      "metadata": {
        "id": "nFrmakgd46k_",
        "outputId": "72917cb3-6021-43ca-bd53-0659c4d0d731"
      },
      "outputs": [
        {
          "name": "stdout",
          "output_type": "stream",
          "text": [
            "[3, 8, 15]\n"
          ]
        }
      ],
      "source": [
        "# 28\n",
        "v1, v2 = [1, 2, 3], [3, 4, 5]\n",
        "v3 = [v1[0]*v2[0], v1[1]*v2[1], v1[2]*v2[2]]\n",
        "print((v3))"
      ]
    },
    {
      "cell_type": "code",
      "execution_count": null,
      "metadata": {
        "id": "Y0Z47f5S46k_",
        "outputId": "c6fd6516-e0f7-419e-91e1-d4d364997fad"
      },
      "outputs": [
        {
          "name": "stdout",
          "output_type": "stream",
          "text": [
            "[]\n",
            "[1]\n",
            "[1, 2]\n",
            "[1, 2, 3]\n"
          ]
        }
      ],
      "source": [
        "# 29\n",
        "v1 = list()\n",
        "print(v1)\n",
        "\n",
        "v1.append(1)\n",
        "print(v1)\n",
        "\n",
        "v1.append(2)\n",
        "print(v1)\n",
        "\n",
        "v1.append(3)\n",
        "print(v1)"
      ]
    },
    {
      "cell_type": "code",
      "execution_count": null,
      "metadata": {
        "id": "lUKC6WmE46k_",
        "outputId": "39a206b0-ca0e-426c-b7ea-180cba398a5e"
      },
      "outputs": [
        {
          "name": "stdout",
          "output_type": "stream",
          "text": [
            "[3, 8, 15]\n"
          ]
        }
      ],
      "source": [
        "# 30\n",
        "v1, v2 = [1, 2, 3], [3, 4, 5]\n",
        "\n",
        "v3 = []\n",
        "v3.append(v1[0] * v2[0])\n",
        "v3.append(v1[1] * v2[1])\n",
        "v3.append(v1[2] * v2[2])\n",
        "\n",
        "print(v3)"
      ]
    },
    {
      "cell_type": "code",
      "execution_count": null,
      "metadata": {
        "id": "e7MGK_ib46k_",
        "outputId": "7dab1309-a7b1-4cb4-f898-50797a0f083d"
      },
      "outputs": [
        {
          "name": "stdout",
          "output_type": "stream",
          "text": [
            "3.7416573867739413\n"
          ]
        }
      ],
      "source": [
        "# 31\n",
        "v1 = [1,2,3]\n",
        "\n",
        "norm = (v1[0]**2 + v1[1]**2 + v1[2]**2)**0.5\n",
        "print(norm)"
      ]
    },
    {
      "cell_type": "code",
      "execution_count": null,
      "metadata": {
        "id": "2ex5HXqN46k_",
        "outputId": "9bc1b95d-a5bf-4c73-9411-240551d693b1"
      },
      "outputs": [
        {
          "name": "stdout",
          "output_type": "stream",
          "text": [
            "3.7416573867739413\n",
            "1.0\n"
          ]
        }
      ],
      "source": [
        "# 32\n",
        "v1 = [1,2,3]\n",
        "\n",
        "norm = (v1[0]**2 + v1[1]**2 + v1[2]**2) ** 0.5\n",
        "print(norm)\n",
        "\n",
        "v1 = (v1[0]/norm, v1[1]/norm, v1[2]/norm)\n",
        "norm = (v1[0]**2 + v1[1]**2 + v1[2]**2) ** 0.5\n",
        "print(norm)"
      ]
    },
    {
      "cell_type": "code",
      "execution_count": null,
      "metadata": {
        "id": "E38t5wKZ46k_",
        "outputId": "3fe7c711-a4a4-4bd1-de70-a9f4e1c515d6"
      },
      "outputs": [
        {
          "name": "stdout",
          "output_type": "stream",
          "text": [
            "26\n"
          ]
        }
      ],
      "source": [
        "# 33\n",
        "v1, v2 = [1,2,3], [3,4,5]\n",
        "\n",
        "dot_prod = v1[0]*v2[0] + v1[1]*v2[1] + v1[2]*v2[2]\n",
        "print(dot_prod)"
      ]
    },
    {
      "cell_type": "code",
      "execution_count": null,
      "metadata": {
        "id": "xTKg0nTz46k_",
        "outputId": "5124b366-f253-44d2-b874-e01193b6830f"
      },
      "outputs": [
        {
          "name": "stdout",
          "output_type": "stream",
          "text": [
            "3.4641016151377544\n"
          ]
        }
      ],
      "source": [
        "# 34\n",
        "v1, v2 = [1,2,3], [3,4,5]\n",
        "\n",
        "e_distance = 0\n",
        "e_distance += (v1[0] - v2[0])**2\n",
        "e_distance += (v1[1] - v2[1])**2\n",
        "e_distance += (v1[2] - v2[2])**2\n",
        "e_distance **= 0.5\n",
        "\n",
        "print(e_distance)"
      ]
    },
    {
      "cell_type": "code",
      "execution_count": null,
      "metadata": {
        "id": "ZekHfxIB46k_",
        "outputId": "78eb69f8-c4b8-4713-e952-97163c2a7a6c"
      },
      "outputs": [
        {
          "name": "stdout",
          "output_type": "stream",
          "text": [
            "41.666666666666664\n"
          ]
        }
      ],
      "source": [
        "# 35\n",
        "predictions = [10, 20, 30]\n",
        "labels = [10, 25, 40]\n",
        "n_data = len(predictions)\n",
        "\n",
        "mse = 0\n",
        "mse += (predictions[0] - labels[0])**2\n",
        "mse += (predictions[1] - labels[1])**2\n",
        "mse += (predictions[2] - labels[2])**2\n",
        "mse /= n_data\n",
        "print(mse)"
      ]
    },
    {
      "cell_type": "code",
      "execution_count": null,
      "metadata": {
        "id": "61GH_7RU46k_",
        "outputId": "e4ab05e4-f113-4d0d-b359-79ef40ae1ee3"
      },
      "outputs": [
        {
          "name": "stdout",
          "output_type": "stream",
          "text": [
            "10\n",
            "20\n",
            "30\n"
          ]
        }
      ],
      "source": [
        "# 36\n",
        "scores = [10,20,30]\n",
        "\n",
        "for score in scores:\n",
        "  print(score)"
      ]
    },
    {
      "cell_type": "code",
      "execution_count": null,
      "metadata": {
        "colab": {
          "base_uri": "https://localhost:8080/"
        },
        "id": "AJRNi4Mt46k_",
        "outputId": "ef0927bd-05d7-4a02-8482-00d4834a6dc2"
      },
      "outputs": [
        {
          "output_type": "stream",
          "name": "stdout",
          "text": [
            "60\n"
          ]
        }
      ],
      "source": [
        "# 37\n",
        "scores = [10,20,30]\n",
        "\n",
        "score_sum = 0\n",
        "\n",
        "for score in scores:\n",
        "  score_sum += score\n",
        "\n",
        "print(score_sum)"
      ]
    },
    {
      "cell_type": "code",
      "source": [
        "# 38\n",
        "numbers = [1,4,5,6,4,2,1]\n",
        "iter_cnt = 0\n",
        "\n",
        "for _ in numbers:\n",
        "  iter_cnt += 1\n",
        "\n",
        "print(iter_cnt)"
      ],
      "metadata": {
        "colab": {
          "base_uri": "https://localhost:8080/"
        },
        "id": "L6wT4lgnf2mO",
        "outputId": "4444e2ed-ee63-4f08-9ec9-518bacea2fcf"
      },
      "execution_count": null,
      "outputs": [
        {
          "output_type": "stream",
          "name": "stdout",
          "text": [
            "7\n"
          ]
        }
      ]
    },
    {
      "cell_type": "code",
      "source": [
        "# 39\n",
        "num_sum = 0\n",
        "\n",
        "for i in range(101):\n",
        "  num_sum += i   # i만큼의 합을 누적시키는 것\n",
        "\n",
        "print(num_sum)"
      ],
      "metadata": {
        "colab": {
          "base_uri": "https://localhost:8080/"
        },
        "id": "JnNwO1Nof9Qz",
        "outputId": "e8f735f5-bb86-4603-93e6-3b32cf03fb2d"
      },
      "execution_count": null,
      "outputs": [
        {
          "output_type": "stream",
          "name": "stdout",
          "text": [
            "5050\n"
          ]
        }
      ]
    },
    {
      "cell_type": "code",
      "source": [
        "# 40\n",
        "numbers = list()\n",
        "\n",
        "for i in range(1,101):\n",
        "  numbers.append(i)\n",
        "\n",
        "print(numbers)"
      ],
      "metadata": {
        "colab": {
          "base_uri": "https://localhost:8080/"
        },
        "id": "EllNkniXhFsr",
        "outputId": "c333b561-3e2f-4b86-9260-476d72368674"
      },
      "execution_count": null,
      "outputs": [
        {
          "output_type": "stream",
          "name": "stdout",
          "text": [
            "[1, 2, 3, 4, 5, 6, 7, 8, 9, 10, 11, 12, 13, 14, 15, 16, 17, 18, 19, 20, 21, 22, 23, 24, 25, 26, 27, 28, 29, 30, 31, 32, 33, 34, 35, 36, 37, 38, 39, 40, 41, 42, 43, 44, 45, 46, 47, 48, 49, 50, 51, 52, 53, 54, 55, 56, 57, 58, 59, 60, 61, 62, 63, 64, 65, 66, 67, 68, 69, 70, 71, 72, 73, 74, 75, 76, 77, 78, 79, 80, 81, 82, 83, 84, 85, 86, 87, 88, 89, 90, 91, 92, 93, 94, 95, 96, 97, 98, 99, 100]\n"
          ]
        }
      ]
    },
    {
      "cell_type": "code",
      "source": [],
      "metadata": {
        "id": "8DwVND3phH2C"
      },
      "execution_count": null,
      "outputs": []
    }
  ],
  "metadata": {
    "kernelspec": {
      "display_name": "base",
      "language": "python",
      "name": "python3"
    },
    "language_info": {
      "codemirror_mode": {
        "name": "ipython",
        "version": 3
      },
      "file_extension": ".py",
      "mimetype": "text/x-python",
      "name": "python",
      "nbconvert_exporter": "python",
      "pygments_lexer": "ipython3",
      "version": "3.9.13"
    },
    "orig_nbformat": 4,
    "colab": {
      "provenance": [],
      "include_colab_link": true
    }
  },
  "nbformat": 4,
  "nbformat_minor": 0
}
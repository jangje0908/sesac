{
  "nbformat": 4,
  "nbformat_minor": 0,
  "metadata": {
    "colab": {
      "provenance": [],
      "include_colab_link": true
    },
    "kernelspec": {
      "name": "python3",
      "display_name": "Python 3"
    },
    "language_info": {
      "name": "python"
    }
  },
  "cells": [
    {
      "cell_type": "markdown",
      "metadata": {
        "id": "view-in-github",
        "colab_type": "text"
      },
      "source": [
        "<a href=\"https://colab.research.google.com/github/jangje0908/sesac/blob/main/Part2_%EC%9E%91%EC%97%85%ED%98%95_Chapter5_%EB%A7%88%EB%AC%B4%EB%A6%AC_%EB%AC%B8%EC%A0%9C_iris_wine.ipynb\" target=\"_parent\"><img src=\"https://colab.research.google.com/assets/colab-badge.svg\" alt=\"Open In Colab\"/></a>"
      ]
    },
    {
      "cell_type": "markdown",
      "source": [
        "# **Chapter 5. 과목 마무리 문제**"
      ],
      "metadata": {
        "id": "LIOFQkLJXKFk"
      }
    },
    {
      "cell_type": "markdown",
      "source": [
        "## 1. 작업형 제 1유형"
      ],
      "metadata": {
        "id": "gpFW6wvCXlQd"
      }
    },
    {
      "cell_type": "code",
      "source": [
        "!git clone https://github.com/AnalyticsKnight/yemoonsaBigdata/"
      ],
      "metadata": {
        "colab": {
          "base_uri": "https://localhost:8080/"
        },
        "id": "VHHqdFho5GQS",
        "outputId": "d5edab3b-92c6-4f3e-f449-f6703ebb4328"
      },
      "execution_count": null,
      "outputs": [
        {
          "output_type": "stream",
          "name": "stdout",
          "text": [
            "Cloning into 'yemoonsaBigdata'...\n",
            "remote: Enumerating objects: 637, done.\u001b[K\n",
            "remote: Counting objects: 100% (274/274), done.\u001b[K\n",
            "remote: Compressing objects: 100% (165/165), done.\u001b[K\n",
            "remote: Total 637 (delta 136), reused 184 (delta 109), pack-reused 363\u001b[K\n",
            "Receiving objects: 100% (637/637), 10.76 MiB | 16.98 MiB/s, done.\n",
            "Resolving deltas: 100% (321/321), done.\n"
          ]
        }
      ]
    },
    {
      "cell_type": "markdown",
      "source": [
        "### (1) Iris 데이터 세트"
      ],
      "metadata": {
        "id": "5TqE-4SgXJ7W"
      }
    },
    {
      "cell_type": "code",
      "source": [
        "import pandas as pd\n",
        "data = pd.read_csv(\"./yemoonsaBigdata/datasets/Part2/iris.csv\")"
      ],
      "metadata": {
        "id": "Yl39rkP1YECB"
      },
      "execution_count": null,
      "outputs": []
    },
    {
      "cell_type": "markdown",
      "source": [
        "##### 1번. Iris 데이터 세트에서  species 변수 값별로 petal_width 상위 25% 값을 구한 후, 가장 큰 값과 가장 작은 값 사이의 차이를 계산하시오."
      ],
      "metadata": {
        "id": "HShFgl_s4b0s"
      }
    },
    {
      "cell_type": "code",
      "source": [
        "a = data.groupby('species')['petal_width'].quantile([0.75])\n",
        "max = a.max()\n",
        "min = a.min()\n",
        "print(max - min)"
      ],
      "metadata": {
        "colab": {
          "base_uri": "https://localhost:8080/"
        },
        "id": "rwglH3Ooz8rZ",
        "outputId": "1ebac352-fd11-4a6f-cb39-4a5e2d84c47d"
      },
      "execution_count": null,
      "outputs": [
        {
          "output_type": "stream",
          "name": "stdout",
          "text": [
            "1.9999999999999998\n"
          ]
        }
      ]
    },
    {
      "cell_type": "code",
      "source": [
        "print(data.groupby('species')['petal_width'].quantile([0.75]))"
      ],
      "metadata": {
        "colab": {
          "base_uri": "https://localhost:8080/"
        },
        "id": "qzVy2N1NC-s1",
        "outputId": "a071f992-20cf-4746-c58f-dd732be55bf0"
      },
      "execution_count": null,
      "outputs": [
        {
          "output_type": "stream",
          "name": "stdout",
          "text": [
            "species         \n",
            "setosa      0.75    0.3\n",
            "versicolor  0.75    1.5\n",
            "virginica   0.75    2.3\n",
            "Name: petal_width, dtype: float64\n"
          ]
        }
      ]
    },
    {
      "cell_type": "markdown",
      "source": [
        "##### 2번. Iris 데이터 세트에서 sepal_length 변수의 값들을 중복 없이 리스트로 만든 후, 오름차순으로 정렬했을 때 리스트의 10번째에 오는 숫자를 계산하시오."
      ],
      "metadata": {
        "id": "RTRuFez04pxI"
      }
    },
    {
      "cell_type": "code",
      "source": [
        "sepal_length_list = data['sepal_length'].unique().tolist()\n",
        "sepal_length_list.sort()\n",
        "print(sepal_length_list[9])"
      ],
      "metadata": {
        "colab": {
          "base_uri": "https://localhost:8080/"
        },
        "id": "BiEqkya4z8oh",
        "outputId": "273f16bf-4ee6-404e-b87f-7708b91fc6ea"
      },
      "execution_count": null,
      "outputs": [
        {
          "output_type": "stream",
          "name": "stdout",
          "text": [
            "5.2\n"
          ]
        }
      ]
    },
    {
      "cell_type": "markdown",
      "source": [
        "\n",
        "- 이 코드는 Python 프로그래밍 언어를 사용하여 데이터프레임에서 특정 열('sepal_length')의 고유한(unique) 값을 추출하고 정렬한 다음, 그 중에서 10번째 값을 출력하는 것을 수행합니다. 코드를 한 줄씩 해석하겠습니다.\n",
        "\n",
        "- lst = data['sepal_length'].unique().tolist(): data는 어떤 데이터프레임을 나타내는 변수로 가정됩니다. 데이터프레임은 표 형식의 데이터를 다루는데 사용되는 자료구조입니다.\n",
        "- data['sepal_length']는 데이터프레임에서 'sepal_length' 열을 선택하는 부분입니다.\n",
        "- .unique()는 선택된 열에서 고유한(unique) 값을 추출하는 메서드입니다. 이로 인해 중복된 값을 제외한 'sepal_length' 열의 고유한 값들이 추출됩니다.\n",
        "- .tolist()는 이러한 고유한 값들을 리스트로 변환합니다. 이 리스트는 변수 lst에 할당됩니다.\n",
        "- lst.sort(): lst 리스트에 저장된 고유한 값들을 오름차순으로 정렬합니다.\n",
        "print(lst[9]):\n",
        "\n",
        "- 정렬된 리스트에서 10번째(인덱스가 9인) 값을 출력합니다. Python의 인덱스는 0부터 시작하므로, 이 코드는 정렬된 'sepal_length' 값들 중에서 10번째로 작은 값을 출력합니다.\n",
        "따라서, 이 코드는 'sepal_length' 열의 고유한 값들을 추출하고 정렬한 후, 그 중에서 10번째로 작은 값을 출력합니다."
      ],
      "metadata": {
        "id": "RxqEiTuG0z2w"
      }
    },
    {
      "cell_type": "markdown",
      "source": [
        "##### 3번. Iris 데이터 세트를 sepal_width 변수 값으로 내림차순한 후 위에서부터 100개의 행을 학습 데이터로 분리하고, 학습 데이터에서 sepal_width의 표준편차 값을 구한 후 50을 곱한 값을 계산하시오.(최종 계산 값의 소수점 이하는 버린다.)"
      ],
      "metadata": {
        "id": "Wvw_ZiLd4yvU"
      }
    },
    {
      "cell_type": "code",
      "source": [
        "sorted_data = data.sort_values(by=['sepal_width'], ascending=False).reset_index(drop=True)\n",
        "sorted_data_split = sorted_data.loc[0:99]\n",
        "print(int(sorted_data_split['sepal_width'].std()*50))"
      ],
      "metadata": {
        "colab": {
          "base_uri": "https://localhost:8080/"
        },
        "id": "XbF3xzKxz8mB",
        "outputId": "32e9a7e7-a9cf-46da-f886-350f8a9d761d"
      },
      "execution_count": null,
      "outputs": [
        {
          "output_type": "stream",
          "name": "stdout",
          "text": [
            "16\n"
          ]
        }
      ]
    },
    {
      "cell_type": "markdown",
      "source": [
        "\n",
        "1. sorted_data = data.sort_values(by='sepal_width', ascending=False).reset_index(drop=True):\n",
        "\n",
        "- data는 데이터프레임을 나타내는 변수로 가정됩니다.\n",
        "- data.sort_values(by='sepal_width', ascending=False)는 'sepal_width' 열을 기준으로 내림차순으로 데이터프레임을 정렬합니다. 따라서 'sepal_width' 값이 큰 행부터 작은 행 순서로 정렬됩니다.\n",
        "- .reset_index(drop=True)는 인덱스를 재설정합니다. drop=True는 이전의 인덱스를 삭제하고 새로운 인덱스를 생성하라는 옵션입니다. 이로써 인덱스가 0부터 시작하게 됩니다. 정렬된 데이터프레임은 sorted_data에 저장됩니다.\n",
        "\n",
        "2. sorted_data_split = sorted_data.loc[0:99] 또는 sorted_data.head(100):\n",
        "\n",
        "- sorted_data 데이터프레임에서 처음부터 100번째 행까지 선택합니다. 이 부분은 'sepal_width' 값을 기준으로 내림차순으로 정렬된 데이터프레임에서 가장 큰 100개의 값을 선택하는 것과 동일합니다. 선택된 데이터는 sorted_data_split에 저장됩니다.\n",
        "3. int(sorted_data_split['sepal_width'].std()*50):\n",
        "\n",
        "- sorted_data_split 데이터프레임에서 'sepal_width' 열의 표준편차(standard deviation)를 계산합니다. 표준편차는 데이터 값들의 변동성을 나타냅니다.\n",
        "- 이 표준편차에 50을 곱한 결과를 정수형으로 변환한 후 출력합니다. 이로써 상위 100개의 'sepal_width' 값들의 표준편차에 50을 곱한 값이 출력됩니다.\n",
        "따라서, 이 코드는 'sepal_width' 값을 기준으로 내림차순으로 정렬한 데이터프레임에서 상위 100개의 행을 선택하고, 해당 행들의 'sepal_width' 값의 표준편차에 50을 곱한 값을 출력합니다."
      ],
      "metadata": {
        "id": "c0aKvptq2WMt"
      }
    },
    {
      "cell_type": "markdown",
      "source": [
        "##### 4번. Iris 데이터 세트에서 species 변수 값별로 petal_length 상위 10개 행(큰 값)의 평균값을 구한 후, 평균값의 합을 계산하시오.(최종 계산 값의 소수점 이하는 반올림한다.)"
      ],
      "metadata": {
        "id": "aXPjCFSA5RtU"
      }
    },
    {
      "cell_type": "code",
      "source": [
        "data = data.sort_values(by=['species', 'petal_length'], ascending=[True, False])\n",
        "data_top10 = data.groupby('species').head(10)\n",
        "print(round(data_top10.groupby('species')['petal_length'].mean().sum()))"
      ],
      "metadata": {
        "colab": {
          "base_uri": "https://localhost:8080/"
        },
        "id": "f4XR8WTAz8jh",
        "outputId": "7d70d19c-1641-442a-f447-6e0622559cf3"
      },
      "execution_count": null,
      "outputs": [
        {
          "output_type": "stream",
          "name": "stdout",
          "text": [
            "13\n"
          ]
        }
      ]
    },
    {
      "cell_type": "markdown",
      "source": [
        "##### 5번. Iris 데이터 세트에서 sepal_length 변수가 이상치를 가지는 데이터 행 수를 계산하시오.(단, 이상치 범위는 (평균 + 2 * 표준편차) 이상히거나 ( 평균 - 2 * 표준편차)이하이다.)"
      ],
      "metadata": {
        "id": "lAIAdXuy5cpw"
      }
    },
    {
      "cell_type": "code",
      "source": [
        "mean = data['sepal_length'].mean()\n",
        "std = data['sepal_length'].std()\n",
        "\n",
        "crit1 = mean+2*std\n",
        "crit2 = mean-2*std\n",
        "\n",
        "print(data[(data['sepal_length']>=crit1)|(data['sepal_length']<=crit2)])"
      ],
      "metadata": {
        "colab": {
          "base_uri": "https://localhost:8080/"
        },
        "id": "Ya3yzudoz8g5",
        "outputId": "2197a644-0d7d-4d06-99f9-b6e703666726"
      },
      "execution_count": null,
      "outputs": [
        {
          "output_type": "stream",
          "name": "stdout",
          "text": [
            "     sepal_length  sepal_width  petal_length  petal_width    species\n",
            "118           7.7          2.6           6.9          2.3  virginica\n",
            "117           7.7          3.8           6.7          2.2  virginica\n",
            "122           7.7          2.8           6.7          2.0  virginica\n",
            "105           7.6          3.0           6.6          2.1  virginica\n",
            "131           7.9          3.8           6.4          2.0  virginica\n",
            "135           7.7          3.0           6.1          2.3  virginica\n"
          ]
        }
      ]
    },
    {
      "cell_type": "markdown",
      "source": [
        "### (2) Wine 데이터 세트"
      ],
      "metadata": {
        "id": "Bp1go40oW7q1"
      }
    },
    {
      "cell_type": "code",
      "source": [
        "import pandas as pd\n",
        "data = pd.read_csv(\"./yemoonsaBigdata/datasets/Part2/wine.csv\")"
      ],
      "metadata": {
        "id": "R7Qt95tI5UbO"
      },
      "execution_count": null,
      "outputs": []
    },
    {
      "cell_type": "markdown",
      "source": [
        "##### 1번. total_phenols 결측치를 제거하고 alcalinity_of_ash 변수의 결측치는 중앙값으로 대체한 후, alcalinity_of_ash 평균값을 계산하시오."
      ],
      "metadata": {
        "id": "OeBMkJmVEM-G"
      }
    },
    {
      "cell_type": "code",
      "source": [
        "data_drop = data[data['total_phenols'].notnull()]\n",
        "median = data_drop['alcalinity_of_ash'].median()\n",
        "data_drop.loc[data_drop['alcalinity_of_ash'].isnull(), 'alcalinity_of_ash'] = median\n",
        "print(data_drop['alcalinity_of_ash'].mean())"
      ],
      "metadata": {
        "colab": {
          "base_uri": "https://localhost:8080/"
        },
        "id": "GT90TJPNELY2",
        "outputId": "1254a4af-6274-46e7-fbd7-37868eeecd56"
      },
      "execution_count": null,
      "outputs": [
        {
          "output_type": "stream",
          "name": "stdout",
          "text": [
            "19.397546012269938\n"
          ]
        }
      ]
    },
    {
      "cell_type": "markdown",
      "source": [
        "##### 2번. alcohol 값이 alcohol 평균값 이상이고, color_intensity 값이 color_intensity 평균값 이상인 데이터만 남겼을 때, 가장 많은 class 값을 구하시오."
      ],
      "metadata": {
        "id": "w9fGlBwPEXxm"
      }
    },
    {
      "cell_type": "code",
      "source": [
        "mean1 = data['alcohol'].mean()\n",
        "mean2 = data['color_intensity'].mean()\n",
        "\n",
        "new_data = data[(data['alcohol']>=mean1) & (data['color_intensity']>=mean2)]\n",
        "\n",
        "print(new_data['class'].value_counts())"
      ],
      "metadata": {
        "colab": {
          "base_uri": "https://localhost:8080/"
        },
        "id": "Q6Wv7ZK_ELWO",
        "outputId": "c69926f2-8ea3-4213-c6b6-3f15ed9e7257"
      },
      "execution_count": null,
      "outputs": [
        {
          "output_type": "stream",
          "name": "stdout",
          "text": [
            "0    37\n",
            "2    23\n",
            "1     1\n",
            "Name: class, dtype: int64\n"
          ]
        }
      ]
    },
    {
      "cell_type": "markdown",
      "source": [
        "##### 3번. class1에 해당하는 데이터의 ash 평균값과 wine 데이터 세트의 모든 결측치를 제거한 후의 ash 값의 평균값의 차이의 절대값을 계산하시오."
      ],
      "metadata": {
        "id": "WWUkGPgMEkMm"
      }
    },
    {
      "cell_type": "code",
      "source": [
        "mean1 = data[data['class']==1]['ash'].mean()\n",
        "mean2 = data.dropna()['ash'].mean()\n",
        "\n",
        "print(round(abs(mean1 - mean2), 3))"
      ],
      "metadata": {
        "colab": {
          "base_uri": "https://localhost:8080/"
        },
        "id": "tWZZti2GELTe",
        "outputId": "de425dd1-b27f-4073-9bf6-d8dcb3821e00"
      },
      "execution_count": null,
      "outputs": [
        {
          "output_type": "stream",
          "name": "stdout",
          "text": [
            "0.12\n"
          ]
        }
      ]
    },
    {
      "cell_type": "markdown",
      "source": [
        "##### 4번. alcohol 변수의 상위에서 20번째 값 alcohol을 오름차순 정렬했을 때 20번째에 위치한 값으로 상위 20개의 값을 변환한 후, proanthocyanins가 2 이하인 데이터를 추출하여 alcohol의 평균값을 계산하시오."
      ],
      "metadata": {
        "id": "KI38nZaiEtxO"
      }
    },
    {
      "cell_type": "code",
      "source": [
        "data_sorted = data.sort_values(by='alcohol', ascending=True, axis=0)\n",
        "data_sorted = data_sorted.reset_index(drop=True)\n",
        "data_sorted.loc[0:19, 'alcohol'] = data_sorted.loc[19, 'alcohol']\n",
        "print(round(data_sorted[data_sorted['proanthocyanins']<=2]['alcohol'].mean(), 2))"
      ],
      "metadata": {
        "colab": {
          "base_uri": "https://localhost:8080/"
        },
        "id": "pjraZDT9ELQ4",
        "outputId": "bc5c6910-4739-4c42-c17a-8eed479fbdca"
      },
      "execution_count": null,
      "outputs": [
        {
          "output_type": "stream",
          "name": "stdout",
          "text": [
            "12.97\n"
          ]
        }
      ]
    },
    {
      "cell_type": "markdown",
      "source": [
        "1. data_sorted = data.sort_values(by='alcohol', ascending=True, axis=0):\n",
        "\n",
        "- data는 데이터프레임을 나타내는 변수입니다.\n",
        "- data.sort_values(by='alcohol', ascending=True, axis=0)는 'alcohol' 열을 기준으로 오름차순으로 데이터프레임을 정렬합니다. axis=0는 행 방향(수직)으로 정렬하라는 옵션입니다.\n",
        "- 정렬된 데이터프레임은 data_sorted 변수에 저장됩니다.\n",
        "2. data_sorted = data_sorted.reset_index(drop=True):\n",
        "\n",
        "- data_sorted 데이터프레임의 인덱스를 재설정합니다. drop=True는 이전의 인덱스를 삭제하고 새로운 인덱스를 생성하라는 옵션입니다. 이로써 인덱스가 0부터 시작하게 됩니다.\n",
        "3. data_sorted.loc[0:19, 'alcohol'] = data_sorted.loc[19, 'alcohol']:\n",
        "\n",
        "- 'data_sorted' 데이터프레임에서 0부터 19까지의 행과 'alcohol' 열에 해당하는 값을, 해당 열에서 19번 행의 'alcohol' 값으로 대체합니다. 이로써 상위 20개 행의 'alcohol' 값이 모두 19번 행의 'alcohol' 값으로 설정됩니다.\n",
        "4. round(data_sorted[data_sorted['proanthocyanins']<=2]['alcohol'].mean(), 2):\n",
        "\n",
        "- data_sorted 데이터프레임에서 'proanthocyanins' 열 값이 2 이하인 행들을 필터링합니다.\n",
        "- 그 결과에서 'alcohol' 열 값을 추출한 후, 이 값들의 평균을 계산합니다.\n",
        "- round(..., 2)는 평균 값을 소수점 이하 2자리까지 반올림합니다.\n",
        "- 최종 결과는 소수점 이하 2자리까지 반올림된 'proanthocyanins' 값이 2 이하인 행들의 'alcohol' 열 값의 평균이 출력됩니다."
      ],
      "metadata": {
        "id": "H6WrfMa_mJDz"
      }
    },
    {
      "cell_type": "markdown",
      "source": [
        "##### 5번. class1에 해당하는 데이터의 proline 변수의 제 3사분위수와 제 1사분위수 차를 구하고, class2에 해당하는 데이터의 proline 변수의 제 3사분위수와 제 1사분위수 차를 구하여 두 값의 차이의 절댓값을 계산하시오."
      ],
      "metadata": {
        "id": "nyx8vmvPE9Fk"
      }
    },
    {
      "cell_type": "code",
      "source": [
        "class1_q1, class1_q3 = data[data['class']==1]['proline'].quantile([0.25, 0.75])\n",
        "class2_q1, class2_q3 = data[data['class']==2]['proline'].quantile([0.25, 0.75])\n",
        "print(class1_q1, class1_q3)\n",
        "print(class2_q1, class2_q3)\n",
        "print(abs((class1_q1-class1_q3)-(class2_q1-class2_q3)))"
      ],
      "metadata": {
        "colab": {
          "base_uri": "https://localhost:8080/"
        },
        "id": "G8IpkHFV1pq4",
        "outputId": "8719b2dc-cfb6-4d16-d774-1b0424ad873a"
      },
      "execution_count": null,
      "outputs": [
        {
          "output_type": "stream",
          "name": "stdout",
          "text": [
            "406.5 625.0\n",
            "545.0 695.0\n",
            "68.5\n"
          ]
        }
      ]
    }
  ]
}
{
  "nbformat": 4,
  "nbformat_minor": 0,
  "metadata": {
    "colab": {
      "provenance": [],
      "include_colab_link": true
    },
    "kernelspec": {
      "name": "python3",
      "display_name": "Python 3"
    },
    "language_info": {
      "name": "python"
    }
  },
  "cells": [
    {
      "cell_type": "markdown",
      "metadata": {
        "id": "view-in-github",
        "colab_type": "text"
      },
      "source": [
        "<a href=\"https://colab.research.google.com/github/jangje0908/sesac/blob/main/Part3_%EC%B5%9C%EC%8B%A0%EA%B8%B0%EC%B6%9C%EB%B3%B5%EC%9B%90%EB%AC%B8%EC%A0%9C_4%ED%9A%8C.ipynb\" target=\"_parent\"><img src=\"https://colab.research.google.com/assets/colab-badge.svg\" alt=\"Open In Colab\"/></a>"
      ]
    },
    {
      "cell_type": "markdown",
      "source": [
        "# **Chapter 3. 빅데이터분석기사 4회**"
      ],
      "metadata": {
        "id": "tQQnixxjl1xK"
      }
    },
    {
      "cell_type": "markdown",
      "source": [
        "## 2. 작업형 제1유형"
      ],
      "metadata": {
        "id": "whyEfgyKmzmV"
      }
    },
    {
      "cell_type": "markdown",
      "source": [
        "#### 소스 및 데이터 동기화"
      ],
      "metadata": {
        "id": "fh2Smsm2m4Wv"
      }
    },
    {
      "cell_type": "code",
      "execution_count": null,
      "metadata": {
        "colab": {
          "base_uri": "https://localhost:8080/"
        },
        "id": "uFYJ-saAlT6K",
        "outputId": "3fff6b28-8349-4a04-bd1d-686f8ca3776a"
      },
      "outputs": [
        {
          "output_type": "stream",
          "name": "stdout",
          "text": [
            "fatal: destination path 'yemoonsaBigdata' already exists and is not an empty directory.\n"
          ]
        }
      ],
      "source": [
        "!git clone https://github.com/AnalyticsKnight/yemoonsaBigdata/"
      ]
    },
    {
      "cell_type": "markdown",
      "source": [
        "### (1) 첫 번째 문제"
      ],
      "metadata": {
        "id": "LiiIBFPLm91S"
      }
    },
    {
      "cell_type": "markdown",
      "source": [
        "주어진 리스트에 대해 아래 과정을 차례로 수행한 최종 결과값을 출력하시오."
      ],
      "metadata": {
        "id": "_B8x8LfDyGAB"
      }
    },
    {
      "cell_type": "markdown",
      "source": [
        "#### 데이터 확인하기"
      ],
      "metadata": {
        "id": "csM2t1GAnZ69"
      }
    },
    {
      "cell_type": "code",
      "source": [
        "lst = [2, 3, 3.2, 5, 7.5, 10, 11.8, 12, 23, 25, 31.5, 34]"
      ],
      "metadata": {
        "id": "0WiU3rfJnIAs"
      },
      "execution_count": null,
      "outputs": []
    },
    {
      "cell_type": "markdown",
      "source": [
        "#### 제 1 사분위수, 3 사분위수 구하기"
      ],
      "metadata": {
        "id": "n0P7lFDmnxuE"
      }
    },
    {
      "cell_type": "code",
      "source": [
        "import numpy as np\n",
        "q1 = np.quantile(lst, 0.25)\n",
        "q3 = np.quantile(lst, 0.75)\n",
        "\n",
        "print(q1)\n",
        "print(q3)"
      ],
      "metadata": {
        "colab": {
          "base_uri": "https://localhost:8080/"
        },
        "id": "CAk76FjOygTa",
        "outputId": "1e50db3f-72ab-40d4-bf49-1f1e8f95d210"
      },
      "execution_count": null,
      "outputs": [
        {
          "output_type": "stream",
          "name": "stdout",
          "text": [
            "4.55\n",
            "23.5\n"
          ]
        }
      ]
    },
    {
      "cell_type": "markdown",
      "source": [
        "#### 두 값의 차이의 절댓값 구하기"
      ],
      "metadata": {
        "id": "2X7F3oYnqcrz"
      }
    },
    {
      "cell_type": "code",
      "source": [
        "diff = abs(q1-q3)\n",
        "print(diff)"
      ],
      "metadata": {
        "colab": {
          "base_uri": "https://localhost:8080/"
        },
        "id": "stXlb7fozOcB",
        "outputId": "187edb68-7ec8-4f7d-d6a8-610b0d6e75d9"
      },
      "execution_count": null,
      "outputs": [
        {
          "output_type": "stream",
          "name": "stdout",
          "text": [
            "18.95\n"
          ]
        }
      ]
    },
    {
      "cell_type": "markdown",
      "source": [
        "#### 결과 출력하기"
      ],
      "metadata": {
        "id": "kTaMguefqt6R"
      }
    },
    {
      "cell_type": "code",
      "source": [
        "result = int(diff)\n",
        "print(result)"
      ],
      "metadata": {
        "colab": {
          "base_uri": "https://localhost:8080/"
        },
        "id": "5IpgUOW-zWdz",
        "outputId": "47c8e9ec-872e-4ae2-e4d0-af906a966e23"
      },
      "execution_count": null,
      "outputs": [
        {
          "output_type": "stream",
          "name": "stdout",
          "text": [
            "18\n"
          ]
        }
      ]
    },
    {
      "cell_type": "code",
      "source": [
        "# ## 전체 풀이 코드\n",
        "\n",
        "# import numpy as np\n",
        "\n",
        "# lst = [2, 3, 3.2, 5, 7.5, 10, 11.8, 12, 23, 25, 31.5, 34]\n",
        "\n",
        "# Q1 = np.quantile(lst, 0.25)\n",
        "# Q3 = np.quantile(lst, 0.75)\n",
        "\n",
        "# diff = abs(Q1-Q3)\n",
        "# result = int(diff)\n",
        "\n",
        "# print(result) # 최종 결과값만 print되도록 해야 합니다."
      ],
      "metadata": {
        "id": "KTBOjT_0nmSH"
      },
      "execution_count": null,
      "outputs": []
    },
    {
      "cell_type": "markdown",
      "source": [
        "### (2) 두 번째 문제"
      ],
      "metadata": {
        "id": "l3m5CQB6sRmE"
      }
    },
    {
      "cell_type": "markdown",
      "source": [
        "주어진 facebook 데이터 세트는 페이스북 라이브에 대한 사용자 반응을 집계한 것이다. 이 중 love 반응(num_loves)와 wow 반응(num_wows)을 매우 긍정적인 반응이라고 정의할 때, 전체 반응 수(num_reactuin) 중 매우 긍정적인 반응 수가 차지하는 비율을 계산하시오. 그리고 그 비율이 0.5보다 작고 0.4보다 크며 유형이 비디오에 해당하는 건수를 정수로 출력하시오."
      ],
      "metadata": {
        "id": "BblY4itezo_A"
      }
    },
    {
      "cell_type": "markdown",
      "source": [
        "#### 데이터 불러오기"
      ],
      "metadata": {
        "id": "1eygseSQ9vac"
      }
    },
    {
      "cell_type": "code",
      "source": [
        "import pandas as pd\n",
        "\n",
        "df = pd.read_csv('/content/yemoonsaBigdata/datasets/Part3/402_facebook.csv')\n",
        "print(df.head())"
      ],
      "metadata": {
        "colab": {
          "base_uri": "https://localhost:8080/"
        },
        "id": "tZCcQfxdsTq6",
        "outputId": "5e8eb4e8-0fe8-404e-8efa-461b36b20c98"
      },
      "execution_count": null,
      "outputs": [
        {
          "output_type": "stream",
          "name": "stdout",
          "text": [
            "                          status_id status_type  num_reactions  num_comments  \\\n",
            "0  246675545449582_1649696485147474       video            529           512   \n",
            "1  246675545449582_1649426988507757       photo            150             0   \n",
            "2  246675545449582_1648730588577397       video            227           236   \n",
            "3  246675545449582_1648576705259452       photo            111             0   \n",
            "4  246675545449582_1645700502213739       photo            213             0   \n",
            "\n",
            "   num_shares  num_likes  num_loves  num_wows  num_hahas  num_sads  num_angrys  \n",
            "0         262        432         92         3          1         1           0  \n",
            "1           0        150          0         0          0         0           0  \n",
            "2          57        204         21         1          1         0           0  \n",
            "3           0        111          0         0          0         0           0  \n",
            "4           0        204          9         0          0         0           0  \n"
          ]
        }
      ]
    },
    {
      "cell_type": "markdown",
      "source": [
        "####  긍정적인 반응 비율 계산하기"
      ],
      "metadata": {
        "id": "E6dNctgzszbK"
      }
    },
    {
      "cell_type": "code",
      "source": [
        "df['긍정 반응 비율'] = (df['num_loves']+df['num_wows'])/df['num_reactions']\n",
        "df.head()"
      ],
      "metadata": {
        "colab": {
          "base_uri": "https://localhost:8080/",
          "height": 243
        },
        "id": "sikBf70T0AY4",
        "outputId": "318d2597-32fc-4c98-8dba-75380c90f460"
      },
      "execution_count": null,
      "outputs": [
        {
          "output_type": "execute_result",
          "data": {
            "text/plain": [
              "                          status_id status_type  num_reactions  num_comments  \\\n",
              "0  246675545449582_1649696485147474       video            529           512   \n",
              "1  246675545449582_1649426988507757       photo            150             0   \n",
              "2  246675545449582_1648730588577397       video            227           236   \n",
              "3  246675545449582_1648576705259452       photo            111             0   \n",
              "4  246675545449582_1645700502213739       photo            213             0   \n",
              "\n",
              "   num_shares  num_likes  num_loves  num_wows  num_hahas  num_sads  \\\n",
              "0         262        432         92         3          1         1   \n",
              "1           0        150          0         0          0         0   \n",
              "2          57        204         21         1          1         0   \n",
              "3           0        111          0         0          0         0   \n",
              "4           0        204          9         0          0         0   \n",
              "\n",
              "   num_angrys  긍정 반응 비율  \n",
              "0           0  0.179584  \n",
              "1           0  0.000000  \n",
              "2           0  0.096916  \n",
              "3           0  0.000000  \n",
              "4           0  0.042254  "
            ],
            "text/html": [
              "\n",
              "  <div id=\"df-a6a6376c-3791-446d-9392-096a6573d9e2\" class=\"colab-df-container\">\n",
              "    <div>\n",
              "<style scoped>\n",
              "    .dataframe tbody tr th:only-of-type {\n",
              "        vertical-align: middle;\n",
              "    }\n",
              "\n",
              "    .dataframe tbody tr th {\n",
              "        vertical-align: top;\n",
              "    }\n",
              "\n",
              "    .dataframe thead th {\n",
              "        text-align: right;\n",
              "    }\n",
              "</style>\n",
              "<table border=\"1\" class=\"dataframe\">\n",
              "  <thead>\n",
              "    <tr style=\"text-align: right;\">\n",
              "      <th></th>\n",
              "      <th>status_id</th>\n",
              "      <th>status_type</th>\n",
              "      <th>num_reactions</th>\n",
              "      <th>num_comments</th>\n",
              "      <th>num_shares</th>\n",
              "      <th>num_likes</th>\n",
              "      <th>num_loves</th>\n",
              "      <th>num_wows</th>\n",
              "      <th>num_hahas</th>\n",
              "      <th>num_sads</th>\n",
              "      <th>num_angrys</th>\n",
              "      <th>긍정 반응 비율</th>\n",
              "    </tr>\n",
              "  </thead>\n",
              "  <tbody>\n",
              "    <tr>\n",
              "      <th>0</th>\n",
              "      <td>246675545449582_1649696485147474</td>\n",
              "      <td>video</td>\n",
              "      <td>529</td>\n",
              "      <td>512</td>\n",
              "      <td>262</td>\n",
              "      <td>432</td>\n",
              "      <td>92</td>\n",
              "      <td>3</td>\n",
              "      <td>1</td>\n",
              "      <td>1</td>\n",
              "      <td>0</td>\n",
              "      <td>0.179584</td>\n",
              "    </tr>\n",
              "    <tr>\n",
              "      <th>1</th>\n",
              "      <td>246675545449582_1649426988507757</td>\n",
              "      <td>photo</td>\n",
              "      <td>150</td>\n",
              "      <td>0</td>\n",
              "      <td>0</td>\n",
              "      <td>150</td>\n",
              "      <td>0</td>\n",
              "      <td>0</td>\n",
              "      <td>0</td>\n",
              "      <td>0</td>\n",
              "      <td>0</td>\n",
              "      <td>0.000000</td>\n",
              "    </tr>\n",
              "    <tr>\n",
              "      <th>2</th>\n",
              "      <td>246675545449582_1648730588577397</td>\n",
              "      <td>video</td>\n",
              "      <td>227</td>\n",
              "      <td>236</td>\n",
              "      <td>57</td>\n",
              "      <td>204</td>\n",
              "      <td>21</td>\n",
              "      <td>1</td>\n",
              "      <td>1</td>\n",
              "      <td>0</td>\n",
              "      <td>0</td>\n",
              "      <td>0.096916</td>\n",
              "    </tr>\n",
              "    <tr>\n",
              "      <th>3</th>\n",
              "      <td>246675545449582_1648576705259452</td>\n",
              "      <td>photo</td>\n",
              "      <td>111</td>\n",
              "      <td>0</td>\n",
              "      <td>0</td>\n",
              "      <td>111</td>\n",
              "      <td>0</td>\n",
              "      <td>0</td>\n",
              "      <td>0</td>\n",
              "      <td>0</td>\n",
              "      <td>0</td>\n",
              "      <td>0.000000</td>\n",
              "    </tr>\n",
              "    <tr>\n",
              "      <th>4</th>\n",
              "      <td>246675545449582_1645700502213739</td>\n",
              "      <td>photo</td>\n",
              "      <td>213</td>\n",
              "      <td>0</td>\n",
              "      <td>0</td>\n",
              "      <td>204</td>\n",
              "      <td>9</td>\n",
              "      <td>0</td>\n",
              "      <td>0</td>\n",
              "      <td>0</td>\n",
              "      <td>0</td>\n",
              "      <td>0.042254</td>\n",
              "    </tr>\n",
              "  </tbody>\n",
              "</table>\n",
              "</div>\n",
              "    <div class=\"colab-df-buttons\">\n",
              "\n",
              "  <div class=\"colab-df-container\">\n",
              "    <button class=\"colab-df-convert\" onclick=\"convertToInteractive('df-a6a6376c-3791-446d-9392-096a6573d9e2')\"\n",
              "            title=\"Convert this dataframe to an interactive table.\"\n",
              "            style=\"display:none;\">\n",
              "\n",
              "  <svg xmlns=\"http://www.w3.org/2000/svg\" height=\"24px\" viewBox=\"0 -960 960 960\">\n",
              "    <path d=\"M120-120v-720h720v720H120Zm60-500h600v-160H180v160Zm220 220h160v-160H400v160Zm0 220h160v-160H400v160ZM180-400h160v-160H180v160Zm440 0h160v-160H620v160ZM180-180h160v-160H180v160Zm440 0h160v-160H620v160Z\"/>\n",
              "  </svg>\n",
              "    </button>\n",
              "\n",
              "  <style>\n",
              "    .colab-df-container {\n",
              "      display:flex;\n",
              "      gap: 12px;\n",
              "    }\n",
              "\n",
              "    .colab-df-convert {\n",
              "      background-color: #E8F0FE;\n",
              "      border: none;\n",
              "      border-radius: 50%;\n",
              "      cursor: pointer;\n",
              "      display: none;\n",
              "      fill: #1967D2;\n",
              "      height: 32px;\n",
              "      padding: 0 0 0 0;\n",
              "      width: 32px;\n",
              "    }\n",
              "\n",
              "    .colab-df-convert:hover {\n",
              "      background-color: #E2EBFA;\n",
              "      box-shadow: 0px 1px 2px rgba(60, 64, 67, 0.3), 0px 1px 3px 1px rgba(60, 64, 67, 0.15);\n",
              "      fill: #174EA6;\n",
              "    }\n",
              "\n",
              "    .colab-df-buttons div {\n",
              "      margin-bottom: 4px;\n",
              "    }\n",
              "\n",
              "    [theme=dark] .colab-df-convert {\n",
              "      background-color: #3B4455;\n",
              "      fill: #D2E3FC;\n",
              "    }\n",
              "\n",
              "    [theme=dark] .colab-df-convert:hover {\n",
              "      background-color: #434B5C;\n",
              "      box-shadow: 0px 1px 3px 1px rgba(0, 0, 0, 0.15);\n",
              "      filter: drop-shadow(0px 1px 2px rgba(0, 0, 0, 0.3));\n",
              "      fill: #FFFFFF;\n",
              "    }\n",
              "  </style>\n",
              "\n",
              "    <script>\n",
              "      const buttonEl =\n",
              "        document.querySelector('#df-a6a6376c-3791-446d-9392-096a6573d9e2 button.colab-df-convert');\n",
              "      buttonEl.style.display =\n",
              "        google.colab.kernel.accessAllowed ? 'block' : 'none';\n",
              "\n",
              "      async function convertToInteractive(key) {\n",
              "        const element = document.querySelector('#df-a6a6376c-3791-446d-9392-096a6573d9e2');\n",
              "        const dataTable =\n",
              "          await google.colab.kernel.invokeFunction('convertToInteractive',\n",
              "                                                    [key], {});\n",
              "        if (!dataTable) return;\n",
              "\n",
              "        const docLinkHtml = 'Like what you see? Visit the ' +\n",
              "          '<a target=\"_blank\" href=https://colab.research.google.com/notebooks/data_table.ipynb>data table notebook</a>'\n",
              "          + ' to learn more about interactive tables.';\n",
              "        element.innerHTML = '';\n",
              "        dataTable['output_type'] = 'display_data';\n",
              "        await google.colab.output.renderOutput(dataTable, element);\n",
              "        const docLink = document.createElement('div');\n",
              "        docLink.innerHTML = docLinkHtml;\n",
              "        element.appendChild(docLink);\n",
              "      }\n",
              "    </script>\n",
              "  </div>\n",
              "\n",
              "\n",
              "<div id=\"df-cdd838e7-247d-4df6-bd27-2a6c89a486df\">\n",
              "  <button class=\"colab-df-quickchart\" onclick=\"quickchart('df-cdd838e7-247d-4df6-bd27-2a6c89a486df')\"\n",
              "            title=\"Suggest charts.\"\n",
              "            style=\"display:none;\">\n",
              "\n",
              "<svg xmlns=\"http://www.w3.org/2000/svg\" height=\"24px\"viewBox=\"0 0 24 24\"\n",
              "     width=\"24px\">\n",
              "    <g>\n",
              "        <path d=\"M19 3H5c-1.1 0-2 .9-2 2v14c0 1.1.9 2 2 2h14c1.1 0 2-.9 2-2V5c0-1.1-.9-2-2-2zM9 17H7v-7h2v7zm4 0h-2V7h2v10zm4 0h-2v-4h2v4z\"/>\n",
              "    </g>\n",
              "</svg>\n",
              "  </button>\n",
              "\n",
              "<style>\n",
              "  .colab-df-quickchart {\n",
              "      --bg-color: #E8F0FE;\n",
              "      --fill-color: #1967D2;\n",
              "      --hover-bg-color: #E2EBFA;\n",
              "      --hover-fill-color: #174EA6;\n",
              "      --disabled-fill-color: #AAA;\n",
              "      --disabled-bg-color: #DDD;\n",
              "  }\n",
              "\n",
              "  [theme=dark] .colab-df-quickchart {\n",
              "      --bg-color: #3B4455;\n",
              "      --fill-color: #D2E3FC;\n",
              "      --hover-bg-color: #434B5C;\n",
              "      --hover-fill-color: #FFFFFF;\n",
              "      --disabled-bg-color: #3B4455;\n",
              "      --disabled-fill-color: #666;\n",
              "  }\n",
              "\n",
              "  .colab-df-quickchart {\n",
              "    background-color: var(--bg-color);\n",
              "    border: none;\n",
              "    border-radius: 50%;\n",
              "    cursor: pointer;\n",
              "    display: none;\n",
              "    fill: var(--fill-color);\n",
              "    height: 32px;\n",
              "    padding: 0;\n",
              "    width: 32px;\n",
              "  }\n",
              "\n",
              "  .colab-df-quickchart:hover {\n",
              "    background-color: var(--hover-bg-color);\n",
              "    box-shadow: 0 1px 2px rgba(60, 64, 67, 0.3), 0 1px 3px 1px rgba(60, 64, 67, 0.15);\n",
              "    fill: var(--button-hover-fill-color);\n",
              "  }\n",
              "\n",
              "  .colab-df-quickchart-complete:disabled,\n",
              "  .colab-df-quickchart-complete:disabled:hover {\n",
              "    background-color: var(--disabled-bg-color);\n",
              "    fill: var(--disabled-fill-color);\n",
              "    box-shadow: none;\n",
              "  }\n",
              "\n",
              "  .colab-df-spinner {\n",
              "    border: 2px solid var(--fill-color);\n",
              "    border-color: transparent;\n",
              "    border-bottom-color: var(--fill-color);\n",
              "    animation:\n",
              "      spin 1s steps(1) infinite;\n",
              "  }\n",
              "\n",
              "  @keyframes spin {\n",
              "    0% {\n",
              "      border-color: transparent;\n",
              "      border-bottom-color: var(--fill-color);\n",
              "      border-left-color: var(--fill-color);\n",
              "    }\n",
              "    20% {\n",
              "      border-color: transparent;\n",
              "      border-left-color: var(--fill-color);\n",
              "      border-top-color: var(--fill-color);\n",
              "    }\n",
              "    30% {\n",
              "      border-color: transparent;\n",
              "      border-left-color: var(--fill-color);\n",
              "      border-top-color: var(--fill-color);\n",
              "      border-right-color: var(--fill-color);\n",
              "    }\n",
              "    40% {\n",
              "      border-color: transparent;\n",
              "      border-right-color: var(--fill-color);\n",
              "      border-top-color: var(--fill-color);\n",
              "    }\n",
              "    60% {\n",
              "      border-color: transparent;\n",
              "      border-right-color: var(--fill-color);\n",
              "    }\n",
              "    80% {\n",
              "      border-color: transparent;\n",
              "      border-right-color: var(--fill-color);\n",
              "      border-bottom-color: var(--fill-color);\n",
              "    }\n",
              "    90% {\n",
              "      border-color: transparent;\n",
              "      border-bottom-color: var(--fill-color);\n",
              "    }\n",
              "  }\n",
              "</style>\n",
              "\n",
              "  <script>\n",
              "    async function quickchart(key) {\n",
              "      const quickchartButtonEl =\n",
              "        document.querySelector('#' + key + ' button');\n",
              "      quickchartButtonEl.disabled = true;  // To prevent multiple clicks.\n",
              "      quickchartButtonEl.classList.add('colab-df-spinner');\n",
              "      try {\n",
              "        const charts = await google.colab.kernel.invokeFunction(\n",
              "            'suggestCharts', [key], {});\n",
              "      } catch (error) {\n",
              "        console.error('Error during call to suggestCharts:', error);\n",
              "      }\n",
              "      quickchartButtonEl.classList.remove('colab-df-spinner');\n",
              "      quickchartButtonEl.classList.add('colab-df-quickchart-complete');\n",
              "    }\n",
              "    (() => {\n",
              "      let quickchartButtonEl =\n",
              "        document.querySelector('#df-cdd838e7-247d-4df6-bd27-2a6c89a486df button');\n",
              "      quickchartButtonEl.style.display =\n",
              "        google.colab.kernel.accessAllowed ? 'block' : 'none';\n",
              "    })();\n",
              "  </script>\n",
              "</div>\n",
              "    </div>\n",
              "  </div>\n"
            ]
          },
          "metadata": {},
          "execution_count": 129
        }
      ]
    },
    {
      "cell_type": "code",
      "source": [
        "df['pos_prop'] = (df['num_loves']+df['num_wows'])/df['num_reactions']\n",
        "print(df['pos_prop'].describe())"
      ],
      "metadata": {
        "colab": {
          "base_uri": "https://localhost:8080/"
        },
        "id": "koHSC9VKsmTt",
        "outputId": "45de9614-cccd-491d-a171-4c5e5a645736"
      },
      "execution_count": null,
      "outputs": [
        {
          "output_type": "stream",
          "name": "stdout",
          "text": [
            "count    6929.000000\n",
            "mean        0.049604\n",
            "std         0.101727\n",
            "min         0.000000\n",
            "25%         0.000000\n",
            "50%         0.000000\n",
            "75%         0.040000\n",
            "max         1.000000\n",
            "Name: pos_prop, dtype: float64\n"
          ]
        }
      ]
    },
    {
      "cell_type": "markdown",
      "source": [
        "####문제 조건에 해당하는 데이터 추출하기"
      ],
      "metadata": {
        "id": "Q1ICsLgH-2Xf"
      }
    },
    {
      "cell_type": "code",
      "source": [
        "print(df['status_type'].unique())   # status 값 종류 확인"
      ],
      "metadata": {
        "colab": {
          "base_uri": "https://localhost:8080/"
        },
        "id": "qcsVM7Ks18DX",
        "outputId": "1e4b16f5-80b9-4c32-c641-184146583879"
      },
      "execution_count": null,
      "outputs": [
        {
          "output_type": "stream",
          "name": "stdout",
          "text": [
            "['video' 'photo' 'link' 'status']\n"
          ]
        }
      ]
    },
    {
      "cell_type": "code",
      "source": [
        "new_df = df[(df['긍정 반응 비율']>0.4)&(df['긍정 반응 비율']<0.5)&(df['status_type']=='video')]\n",
        "print(new_df.head())"
      ],
      "metadata": {
        "colab": {
          "base_uri": "https://localhost:8080/"
        },
        "id": "HJFEzhof9rBD",
        "outputId": "1676b7cb-5d3d-4004-c026-0b81611bd55a"
      },
      "execution_count": null,
      "outputs": [
        {
          "output_type": "stream",
          "name": "stdout",
          "text": [
            "                            status_id status_type  num_reactions  \\\n",
            "3116  134115277150304_226952507866580       video            255   \n",
            "4624  725980084255106_838993039620476       video           1397   \n",
            "4776  614855718638584_852682288189258       video            259   \n",
            "4793  614855718638584_851581351632685       video            146   \n",
            "4812  614855718638584_850456998411787       video            184   \n",
            "\n",
            "      num_comments  num_shares  num_likes  num_loves  num_wows  num_hahas  \\\n",
            "3116           926         181        142        108         0          5   \n",
            "4624           771         695        765        485       139          4   \n",
            "4776           695         263        151        106         0          2   \n",
            "4793           303         221         73         69         2          1   \n",
            "4812           530         224        101         80         0          1   \n",
            "\n",
            "      num_sads  num_angrys  긍정 반응 비율  pos_prop  \n",
            "3116         0           0  0.423529  0.423529  \n",
            "4624         1           3  0.446671  0.446671  \n",
            "4776         0           0  0.409266  0.409266  \n",
            "4793         0           1  0.486301  0.486301  \n",
            "4812         1           1  0.434783  0.434783  \n"
          ]
        }
      ]
    },
    {
      "cell_type": "markdown",
      "source": [
        "#### 결과 출력하기"
      ],
      "metadata": {
        "id": "QxnoU8fC_XPc"
      }
    },
    {
      "cell_type": "code",
      "source": [
        "result = len(rst_df)\n",
        "print(result)"
      ],
      "metadata": {
        "colab": {
          "base_uri": "https://localhost:8080/"
        },
        "id": "VGoMStOp_Nqp",
        "outputId": "3b055b7f-8c15-482a-accd-2b988cc99132"
      },
      "execution_count": null,
      "outputs": [
        {
          "output_type": "stream",
          "name": "stdout",
          "text": [
            "6\n"
          ]
        }
      ]
    },
    {
      "cell_type": "code",
      "source": [
        "# ## 전체 풀이 코드\n",
        "\n",
        "# import pandas as pd\n",
        "\n",
        "# df = pd.read_csv('/content/yemoonsaBigdata/datasets/Part3/402_facebook.csv')\n",
        "\n",
        "# df['pos_prop'] = (df['num_loves']+df['num_wows'])/df['num_reactions']\n",
        "# rst_df = df[(df['pos_prop']>0.4)&(df['pos_prop']<0.5)&(df['status_type']=='video')]\n",
        "\n",
        "# result = len(rst_df)\n",
        "\n",
        "# print(result) # 최종 결과값만 print되도록 해야 합니다."
      ],
      "metadata": {
        "id": "7-pbdsXY_c1M"
      },
      "execution_count": null,
      "outputs": []
    },
    {
      "cell_type": "markdown",
      "source": [
        "### (3) 세 번째 문제"
      ],
      "metadata": {
        "id": "gqaE-MngA9un"
      }
    },
    {
      "cell_type": "markdown",
      "source": [
        "주어진 netflix 데이터 세트는 넷플릭스에 등록된 컨텐츠의 메타데이터이다. 2018년 1월에 넷플릭스에 등록된 컨텐츠 중에서 'United Kingdom'이 단독 제작한 컨텐츠의 수를 정수로 출력하시오."
      ],
      "metadata": {
        "id": "hZKpp95c1aMZ"
      }
    },
    {
      "cell_type": "markdown",
      "source": [
        "#### 데이터 불러오기"
      ],
      "metadata": {
        "id": "b6WFqUYPBD3I"
      }
    },
    {
      "cell_type": "code",
      "source": [
        "import pandas as pd\n",
        "\n",
        "df = pd.read_csv('/content/yemoonsaBigdata/datasets/Part3/403_netflix.csv')\n",
        "print(df.head())"
      ],
      "metadata": {
        "colab": {
          "base_uri": "https://localhost:8080/"
        },
        "id": "Juxc63S5_8OE",
        "outputId": "384511be-10f4-4103-926b-894e90e1577d"
      },
      "execution_count": null,
      "outputs": [
        {
          "output_type": "stream",
          "name": "stdout",
          "text": [
            "  show_id     type                  title         director  \\\n",
            "0      s1    Movie   Dick Johnson Is Dead  Kirsten Johnson   \n",
            "1      s2  TV Show          Blood & Water              NaN   \n",
            "2      s3  TV Show              Ganglands  Julien Leclercq   \n",
            "3      s4  TV Show  Jailbirds New Orleans              NaN   \n",
            "4      s5  TV Show           Kota Factory              NaN   \n",
            "\n",
            "                                                cast        country  \\\n",
            "0                                                NaN  United States   \n",
            "1  Ama Qamata, Khosi Ngema, Gail Mabalane, Thaban...   South Africa   \n",
            "2  Sami Bouajila, Tracy Gotoas, Samuel Jouy, Nabi...            NaN   \n",
            "3                                                NaN            NaN   \n",
            "4  Mayur More, Jitendra Kumar, Ranjan Raj, Alam K...          India   \n",
            "\n",
            "           date_added  release_year rating   duration  \\\n",
            "0  September 25, 2021          2020  PG-13     90 min   \n",
            "1  September 24, 2021          2021  TV-MA  2 Seasons   \n",
            "2  September 24, 2021          2021  TV-MA   1 Season   \n",
            "3  September 24, 2021          2021  TV-MA   1 Season   \n",
            "4  September 24, 2021          2021  TV-MA  2 Seasons   \n",
            "\n",
            "                                           listed_in  \\\n",
            "0                                      Documentaries   \n",
            "1    International TV Shows, TV Dramas, TV Mysteries   \n",
            "2  Crime TV Shows, International TV Shows, TV Act...   \n",
            "3                             Docuseries, Reality TV   \n",
            "4  International TV Shows, Romantic TV Shows, TV ...   \n",
            "\n",
            "                                         description  \n",
            "0  As her father nears the end of his life, filmm...  \n",
            "1  After crossing paths at a party, a Cape Town t...  \n",
            "2  To protect his family from a powerful drug lor...  \n",
            "3  Feuds, flirtations and toilet talk go down amo...  \n",
            "4  In a city of coaching centers known to train I...  \n"
          ]
        }
      ]
    },
    {
      "cell_type": "markdown",
      "source": [
        "####  2018년 1월에 등록된 컨텐츠 추출하기"
      ],
      "metadata": {
        "id": "o_Or-0_GCwTK"
      }
    },
    {
      "cell_type": "code",
      "source": [
        "df['date_added'].head()   # 날짜 값 형태 확인하기"
      ],
      "metadata": {
        "colab": {
          "base_uri": "https://localhost:8080/"
        },
        "id": "-BPU6kzW1q8p",
        "outputId": "1c6d0c9d-8f0f-4754-8c2c-b0a0b35e1c66"
      },
      "execution_count": null,
      "outputs": [
        {
          "output_type": "execute_result",
          "data": {
            "text/plain": [
              "0    September 25, 2021\n",
              "1    September 24, 2021\n",
              "2    September 24, 2021\n",
              "3    September 24, 2021\n",
              "4    September 24, 2021\n",
              "Name: date_added, dtype: object"
            ]
          },
          "metadata": {},
          "execution_count": 136
        }
      ]
    },
    {
      "cell_type": "code",
      "source": [
        "new_df = df[df['date_added'].str.contains('January') & df['date_added'].str.contains('2018')]\n",
        "new_df.head()"
      ],
      "metadata": {
        "colab": {
          "base_uri": "https://localhost:8080/",
          "height": 501
        },
        "id": "FMFvLH5d2rRy",
        "outputId": "d50ade00-5c1d-4afb-fa4b-82cde463f21c"
      },
      "execution_count": null,
      "outputs": [
        {
          "output_type": "execute_result",
          "data": {
            "text/plain": [
              "     show_id     type                                              title  \\\n",
              "5055   s5056    Movie                               Expedition Happiness   \n",
              "5056   s5057    Movie  Jerry Seinfeld: I'm Telling You for the Last Time   \n",
              "5057   s5058  TV Show                                        Retribution   \n",
              "5058   s5059    Movie                                         Holy Camp!   \n",
              "5059   s5060    Movie                        A Futile and Stupid Gesture   \n",
              "\n",
              "                           director  \\\n",
              "5055                   Selima Taibi   \n",
              "5056                  Marty Callner   \n",
              "5057                            NaN   \n",
              "5058  Javier Ambrossi, Javier Calvo   \n",
              "5059                     David Wain   \n",
              "\n",
              "                                                   cast         country  \\\n",
              "5055                         Selima Taibi, Felix Starck         Germany   \n",
              "5056                                     Jerry Seinfeld   United States   \n",
              "5057  Georgina Campbell, Joe Dempsie, Adrian Edmonds...  United Kingdom   \n",
              "5058  Macarena García, Anna Castillo, Belén Cuesta, ...           Spain   \n",
              "5059  Will Forte, Domhnall Gleeson, Martin Mull, Joe...   United States   \n",
              "\n",
              "            date_added  release_year rating  duration  \\\n",
              "5055  January 31, 2018          2017  TV-PG    96 min   \n",
              "5056  January 30, 2018          1998  TV-14    69 min   \n",
              "5057  January 30, 2018          2016  TV-MA  1 Season   \n",
              "5058  January 29, 2018          2017  TV-MA   108 min   \n",
              "5059  January 26, 2018          2018  TV-MA   102 min   \n",
              "\n",
              "                                              listed_in  \\\n",
              "5055                Documentaries, International Movies   \n",
              "5056                                    Stand-Up Comedy   \n",
              "5057  British TV Shows, Crime TV Shows, Internationa...   \n",
              "5058             Comedies, Dramas, Faith & Spirituality   \n",
              "5059                                           Comedies   \n",
              "\n",
              "                                            description  \n",
              "5055  A filmmaker and his musician girlfriend attemp...  \n",
              "5056  Months after his classic TV sitcom ends, the l...  \n",
              "5057  A dark web of secrets and lies emerges when a ...  \n",
              "5058  In this musical comedy, two rebellious teen gi...  \n",
              "5059  In a brief life full of triumph and failure, \"...  "
            ],
            "text/html": [
              "\n",
              "  <div id=\"df-c8b3db7d-2959-4ed7-b032-93fb18d06ba8\" class=\"colab-df-container\">\n",
              "    <div>\n",
              "<style scoped>\n",
              "    .dataframe tbody tr th:only-of-type {\n",
              "        vertical-align: middle;\n",
              "    }\n",
              "\n",
              "    .dataframe tbody tr th {\n",
              "        vertical-align: top;\n",
              "    }\n",
              "\n",
              "    .dataframe thead th {\n",
              "        text-align: right;\n",
              "    }\n",
              "</style>\n",
              "<table border=\"1\" class=\"dataframe\">\n",
              "  <thead>\n",
              "    <tr style=\"text-align: right;\">\n",
              "      <th></th>\n",
              "      <th>show_id</th>\n",
              "      <th>type</th>\n",
              "      <th>title</th>\n",
              "      <th>director</th>\n",
              "      <th>cast</th>\n",
              "      <th>country</th>\n",
              "      <th>date_added</th>\n",
              "      <th>release_year</th>\n",
              "      <th>rating</th>\n",
              "      <th>duration</th>\n",
              "      <th>listed_in</th>\n",
              "      <th>description</th>\n",
              "    </tr>\n",
              "  </thead>\n",
              "  <tbody>\n",
              "    <tr>\n",
              "      <th>5055</th>\n",
              "      <td>s5056</td>\n",
              "      <td>Movie</td>\n",
              "      <td>Expedition Happiness</td>\n",
              "      <td>Selima Taibi</td>\n",
              "      <td>Selima Taibi, Felix Starck</td>\n",
              "      <td>Germany</td>\n",
              "      <td>January 31, 2018</td>\n",
              "      <td>2017</td>\n",
              "      <td>TV-PG</td>\n",
              "      <td>96 min</td>\n",
              "      <td>Documentaries, International Movies</td>\n",
              "      <td>A filmmaker and his musician girlfriend attemp...</td>\n",
              "    </tr>\n",
              "    <tr>\n",
              "      <th>5056</th>\n",
              "      <td>s5057</td>\n",
              "      <td>Movie</td>\n",
              "      <td>Jerry Seinfeld: I'm Telling You for the Last Time</td>\n",
              "      <td>Marty Callner</td>\n",
              "      <td>Jerry Seinfeld</td>\n",
              "      <td>United States</td>\n",
              "      <td>January 30, 2018</td>\n",
              "      <td>1998</td>\n",
              "      <td>TV-14</td>\n",
              "      <td>69 min</td>\n",
              "      <td>Stand-Up Comedy</td>\n",
              "      <td>Months after his classic TV sitcom ends, the l...</td>\n",
              "    </tr>\n",
              "    <tr>\n",
              "      <th>5057</th>\n",
              "      <td>s5058</td>\n",
              "      <td>TV Show</td>\n",
              "      <td>Retribution</td>\n",
              "      <td>NaN</td>\n",
              "      <td>Georgina Campbell, Joe Dempsie, Adrian Edmonds...</td>\n",
              "      <td>United Kingdom</td>\n",
              "      <td>January 30, 2018</td>\n",
              "      <td>2016</td>\n",
              "      <td>TV-MA</td>\n",
              "      <td>1 Season</td>\n",
              "      <td>British TV Shows, Crime TV Shows, Internationa...</td>\n",
              "      <td>A dark web of secrets and lies emerges when a ...</td>\n",
              "    </tr>\n",
              "    <tr>\n",
              "      <th>5058</th>\n",
              "      <td>s5059</td>\n",
              "      <td>Movie</td>\n",
              "      <td>Holy Camp!</td>\n",
              "      <td>Javier Ambrossi, Javier Calvo</td>\n",
              "      <td>Macarena García, Anna Castillo, Belén Cuesta, ...</td>\n",
              "      <td>Spain</td>\n",
              "      <td>January 29, 2018</td>\n",
              "      <td>2017</td>\n",
              "      <td>TV-MA</td>\n",
              "      <td>108 min</td>\n",
              "      <td>Comedies, Dramas, Faith &amp; Spirituality</td>\n",
              "      <td>In this musical comedy, two rebellious teen gi...</td>\n",
              "    </tr>\n",
              "    <tr>\n",
              "      <th>5059</th>\n",
              "      <td>s5060</td>\n",
              "      <td>Movie</td>\n",
              "      <td>A Futile and Stupid Gesture</td>\n",
              "      <td>David Wain</td>\n",
              "      <td>Will Forte, Domhnall Gleeson, Martin Mull, Joe...</td>\n",
              "      <td>United States</td>\n",
              "      <td>January 26, 2018</td>\n",
              "      <td>2018</td>\n",
              "      <td>TV-MA</td>\n",
              "      <td>102 min</td>\n",
              "      <td>Comedies</td>\n",
              "      <td>In a brief life full of triumph and failure, \"...</td>\n",
              "    </tr>\n",
              "  </tbody>\n",
              "</table>\n",
              "</div>\n",
              "    <div class=\"colab-df-buttons\">\n",
              "\n",
              "  <div class=\"colab-df-container\">\n",
              "    <button class=\"colab-df-convert\" onclick=\"convertToInteractive('df-c8b3db7d-2959-4ed7-b032-93fb18d06ba8')\"\n",
              "            title=\"Convert this dataframe to an interactive table.\"\n",
              "            style=\"display:none;\">\n",
              "\n",
              "  <svg xmlns=\"http://www.w3.org/2000/svg\" height=\"24px\" viewBox=\"0 -960 960 960\">\n",
              "    <path d=\"M120-120v-720h720v720H120Zm60-500h600v-160H180v160Zm220 220h160v-160H400v160Zm0 220h160v-160H400v160ZM180-400h160v-160H180v160Zm440 0h160v-160H620v160ZM180-180h160v-160H180v160Zm440 0h160v-160H620v160Z\"/>\n",
              "  </svg>\n",
              "    </button>\n",
              "\n",
              "  <style>\n",
              "    .colab-df-container {\n",
              "      display:flex;\n",
              "      gap: 12px;\n",
              "    }\n",
              "\n",
              "    .colab-df-convert {\n",
              "      background-color: #E8F0FE;\n",
              "      border: none;\n",
              "      border-radius: 50%;\n",
              "      cursor: pointer;\n",
              "      display: none;\n",
              "      fill: #1967D2;\n",
              "      height: 32px;\n",
              "      padding: 0 0 0 0;\n",
              "      width: 32px;\n",
              "    }\n",
              "\n",
              "    .colab-df-convert:hover {\n",
              "      background-color: #E2EBFA;\n",
              "      box-shadow: 0px 1px 2px rgba(60, 64, 67, 0.3), 0px 1px 3px 1px rgba(60, 64, 67, 0.15);\n",
              "      fill: #174EA6;\n",
              "    }\n",
              "\n",
              "    .colab-df-buttons div {\n",
              "      margin-bottom: 4px;\n",
              "    }\n",
              "\n",
              "    [theme=dark] .colab-df-convert {\n",
              "      background-color: #3B4455;\n",
              "      fill: #D2E3FC;\n",
              "    }\n",
              "\n",
              "    [theme=dark] .colab-df-convert:hover {\n",
              "      background-color: #434B5C;\n",
              "      box-shadow: 0px 1px 3px 1px rgba(0, 0, 0, 0.15);\n",
              "      filter: drop-shadow(0px 1px 2px rgba(0, 0, 0, 0.3));\n",
              "      fill: #FFFFFF;\n",
              "    }\n",
              "  </style>\n",
              "\n",
              "    <script>\n",
              "      const buttonEl =\n",
              "        document.querySelector('#df-c8b3db7d-2959-4ed7-b032-93fb18d06ba8 button.colab-df-convert');\n",
              "      buttonEl.style.display =\n",
              "        google.colab.kernel.accessAllowed ? 'block' : 'none';\n",
              "\n",
              "      async function convertToInteractive(key) {\n",
              "        const element = document.querySelector('#df-c8b3db7d-2959-4ed7-b032-93fb18d06ba8');\n",
              "        const dataTable =\n",
              "          await google.colab.kernel.invokeFunction('convertToInteractive',\n",
              "                                                    [key], {});\n",
              "        if (!dataTable) return;\n",
              "\n",
              "        const docLinkHtml = 'Like what you see? Visit the ' +\n",
              "          '<a target=\"_blank\" href=https://colab.research.google.com/notebooks/data_table.ipynb>data table notebook</a>'\n",
              "          + ' to learn more about interactive tables.';\n",
              "        element.innerHTML = '';\n",
              "        dataTable['output_type'] = 'display_data';\n",
              "        await google.colab.output.renderOutput(dataTable, element);\n",
              "        const docLink = document.createElement('div');\n",
              "        docLink.innerHTML = docLinkHtml;\n",
              "        element.appendChild(docLink);\n",
              "      }\n",
              "    </script>\n",
              "  </div>\n",
              "\n",
              "\n",
              "<div id=\"df-bbface3b-1769-4599-b84a-ea7da94e18c4\">\n",
              "  <button class=\"colab-df-quickchart\" onclick=\"quickchart('df-bbface3b-1769-4599-b84a-ea7da94e18c4')\"\n",
              "            title=\"Suggest charts.\"\n",
              "            style=\"display:none;\">\n",
              "\n",
              "<svg xmlns=\"http://www.w3.org/2000/svg\" height=\"24px\"viewBox=\"0 0 24 24\"\n",
              "     width=\"24px\">\n",
              "    <g>\n",
              "        <path d=\"M19 3H5c-1.1 0-2 .9-2 2v14c0 1.1.9 2 2 2h14c1.1 0 2-.9 2-2V5c0-1.1-.9-2-2-2zM9 17H7v-7h2v7zm4 0h-2V7h2v10zm4 0h-2v-4h2v4z\"/>\n",
              "    </g>\n",
              "</svg>\n",
              "  </button>\n",
              "\n",
              "<style>\n",
              "  .colab-df-quickchart {\n",
              "      --bg-color: #E8F0FE;\n",
              "      --fill-color: #1967D2;\n",
              "      --hover-bg-color: #E2EBFA;\n",
              "      --hover-fill-color: #174EA6;\n",
              "      --disabled-fill-color: #AAA;\n",
              "      --disabled-bg-color: #DDD;\n",
              "  }\n",
              "\n",
              "  [theme=dark] .colab-df-quickchart {\n",
              "      --bg-color: #3B4455;\n",
              "      --fill-color: #D2E3FC;\n",
              "      --hover-bg-color: #434B5C;\n",
              "      --hover-fill-color: #FFFFFF;\n",
              "      --disabled-bg-color: #3B4455;\n",
              "      --disabled-fill-color: #666;\n",
              "  }\n",
              "\n",
              "  .colab-df-quickchart {\n",
              "    background-color: var(--bg-color);\n",
              "    border: none;\n",
              "    border-radius: 50%;\n",
              "    cursor: pointer;\n",
              "    display: none;\n",
              "    fill: var(--fill-color);\n",
              "    height: 32px;\n",
              "    padding: 0;\n",
              "    width: 32px;\n",
              "  }\n",
              "\n",
              "  .colab-df-quickchart:hover {\n",
              "    background-color: var(--hover-bg-color);\n",
              "    box-shadow: 0 1px 2px rgba(60, 64, 67, 0.3), 0 1px 3px 1px rgba(60, 64, 67, 0.15);\n",
              "    fill: var(--button-hover-fill-color);\n",
              "  }\n",
              "\n",
              "  .colab-df-quickchart-complete:disabled,\n",
              "  .colab-df-quickchart-complete:disabled:hover {\n",
              "    background-color: var(--disabled-bg-color);\n",
              "    fill: var(--disabled-fill-color);\n",
              "    box-shadow: none;\n",
              "  }\n",
              "\n",
              "  .colab-df-spinner {\n",
              "    border: 2px solid var(--fill-color);\n",
              "    border-color: transparent;\n",
              "    border-bottom-color: var(--fill-color);\n",
              "    animation:\n",
              "      spin 1s steps(1) infinite;\n",
              "  }\n",
              "\n",
              "  @keyframes spin {\n",
              "    0% {\n",
              "      border-color: transparent;\n",
              "      border-bottom-color: var(--fill-color);\n",
              "      border-left-color: var(--fill-color);\n",
              "    }\n",
              "    20% {\n",
              "      border-color: transparent;\n",
              "      border-left-color: var(--fill-color);\n",
              "      border-top-color: var(--fill-color);\n",
              "    }\n",
              "    30% {\n",
              "      border-color: transparent;\n",
              "      border-left-color: var(--fill-color);\n",
              "      border-top-color: var(--fill-color);\n",
              "      border-right-color: var(--fill-color);\n",
              "    }\n",
              "    40% {\n",
              "      border-color: transparent;\n",
              "      border-right-color: var(--fill-color);\n",
              "      border-top-color: var(--fill-color);\n",
              "    }\n",
              "    60% {\n",
              "      border-color: transparent;\n",
              "      border-right-color: var(--fill-color);\n",
              "    }\n",
              "    80% {\n",
              "      border-color: transparent;\n",
              "      border-right-color: var(--fill-color);\n",
              "      border-bottom-color: var(--fill-color);\n",
              "    }\n",
              "    90% {\n",
              "      border-color: transparent;\n",
              "      border-bottom-color: var(--fill-color);\n",
              "    }\n",
              "  }\n",
              "</style>\n",
              "\n",
              "  <script>\n",
              "    async function quickchart(key) {\n",
              "      const quickchartButtonEl =\n",
              "        document.querySelector('#' + key + ' button');\n",
              "      quickchartButtonEl.disabled = true;  // To prevent multiple clicks.\n",
              "      quickchartButtonEl.classList.add('colab-df-spinner');\n",
              "      try {\n",
              "        const charts = await google.colab.kernel.invokeFunction(\n",
              "            'suggestCharts', [key], {});\n",
              "      } catch (error) {\n",
              "        console.error('Error during call to suggestCharts:', error);\n",
              "      }\n",
              "      quickchartButtonEl.classList.remove('colab-df-spinner');\n",
              "      quickchartButtonEl.classList.add('colab-df-quickchart-complete');\n",
              "    }\n",
              "    (() => {\n",
              "      let quickchartButtonEl =\n",
              "        document.querySelector('#df-bbface3b-1769-4599-b84a-ea7da94e18c4 button');\n",
              "      quickchartButtonEl.style.display =\n",
              "        google.colab.kernel.accessAllowed ? 'block' : 'none';\n",
              "    })();\n",
              "  </script>\n",
              "</div>\n",
              "    </div>\n",
              "  </div>\n"
            ]
          },
          "metadata": {},
          "execution_count": 137
        }
      ]
    },
    {
      "cell_type": "markdown",
      "source": [
        "#### 영국이 단독 제작한 컨텐츠 추출하기"
      ],
      "metadata": {
        "id": "I_6yd4BjDded"
      }
    },
    {
      "cell_type": "code",
      "source": [
        "new_df = new_df[new_df['country']=='United Kingdom']\n",
        "new_df.head()"
      ],
      "metadata": {
        "colab": {
          "base_uri": "https://localhost:8080/",
          "height": 501
        },
        "id": "cHPCDwwa3THC",
        "outputId": "a4199de0-97dd-4200-eb32-f634413f53b7"
      },
      "execution_count": null,
      "outputs": [
        {
          "output_type": "execute_result",
          "data": {
            "text/plain": [
              "     show_id     type                                       title  \\\n",
              "5057   s5058  TV Show                                 Retribution   \n",
              "5074   s5075    Movie                         Bad Day for the Cut   \n",
              "5097   s5098  TV Show                                    Lovesick   \n",
              "7398   s7399    Movie  Manolo: The Boy Who Made Shoes for Lizards   \n",
              "8357   s8358  TV Show                            The Inbetweeners   \n",
              "\n",
              "             director                                               cast  \\\n",
              "5057              NaN  Georgina Campbell, Joe Dempsie, Adrian Edmonds...   \n",
              "5074      Chris Baugh  Nigel O'Neill, Susan Lynch, Józef Pawlowski, S...   \n",
              "5097              NaN  Johnny Flynn, Antonia Thomas, Daniel Ings, Han...   \n",
              "7398  Michael Roberts  Manolo Blahnik, Anna Wintour, André Leon Talle...   \n",
              "8357              NaN  Simon Bird, James Buckley, Blake Harrison, Joe...   \n",
              "\n",
              "             country        date_added  release_year rating   duration  \\\n",
              "5057  United Kingdom  January 30, 2018          2016  TV-MA   1 Season   \n",
              "5074  United Kingdom  January 18, 2018          2017  TV-MA     99 min   \n",
              "5097  United Kingdom   January 1, 2018          2018  TV-MA  3 Seasons   \n",
              "7398  United Kingdom  January 15, 2018          2017  TV-MA     89 min   \n",
              "8357  United Kingdom   January 1, 2018          2010  TV-MA  3 Seasons   \n",
              "\n",
              "                                              listed_in  \\\n",
              "5057  British TV Shows, Crime TV Shows, Internationa...   \n",
              "5074  Independent Movies, International Movies, Thri...   \n",
              "5097  British TV Shows, International TV Shows, Roma...   \n",
              "7398                Documentaries, International Movies   \n",
              "8357                      British TV Shows, TV Comedies   \n",
              "\n",
              "                                            description  \n",
              "5057  A dark web of secrets and lies emerges when a ...  \n",
              "5074  A mild-mannered, middle-aged Irish farmer devo...  \n",
              "5097  In his quest for true love, Dylan found chlamy...  \n",
              "7398  As legendary shoe designer Manolo Blahnik spea...  \n",
              "8357  This rib-tickling series follows four English ...  "
            ],
            "text/html": [
              "\n",
              "  <div id=\"df-7d700666-647c-4bdc-a15f-fe4c0bd6041b\" class=\"colab-df-container\">\n",
              "    <div>\n",
              "<style scoped>\n",
              "    .dataframe tbody tr th:only-of-type {\n",
              "        vertical-align: middle;\n",
              "    }\n",
              "\n",
              "    .dataframe tbody tr th {\n",
              "        vertical-align: top;\n",
              "    }\n",
              "\n",
              "    .dataframe thead th {\n",
              "        text-align: right;\n",
              "    }\n",
              "</style>\n",
              "<table border=\"1\" class=\"dataframe\">\n",
              "  <thead>\n",
              "    <tr style=\"text-align: right;\">\n",
              "      <th></th>\n",
              "      <th>show_id</th>\n",
              "      <th>type</th>\n",
              "      <th>title</th>\n",
              "      <th>director</th>\n",
              "      <th>cast</th>\n",
              "      <th>country</th>\n",
              "      <th>date_added</th>\n",
              "      <th>release_year</th>\n",
              "      <th>rating</th>\n",
              "      <th>duration</th>\n",
              "      <th>listed_in</th>\n",
              "      <th>description</th>\n",
              "    </tr>\n",
              "  </thead>\n",
              "  <tbody>\n",
              "    <tr>\n",
              "      <th>5057</th>\n",
              "      <td>s5058</td>\n",
              "      <td>TV Show</td>\n",
              "      <td>Retribution</td>\n",
              "      <td>NaN</td>\n",
              "      <td>Georgina Campbell, Joe Dempsie, Adrian Edmonds...</td>\n",
              "      <td>United Kingdom</td>\n",
              "      <td>January 30, 2018</td>\n",
              "      <td>2016</td>\n",
              "      <td>TV-MA</td>\n",
              "      <td>1 Season</td>\n",
              "      <td>British TV Shows, Crime TV Shows, Internationa...</td>\n",
              "      <td>A dark web of secrets and lies emerges when a ...</td>\n",
              "    </tr>\n",
              "    <tr>\n",
              "      <th>5074</th>\n",
              "      <td>s5075</td>\n",
              "      <td>Movie</td>\n",
              "      <td>Bad Day for the Cut</td>\n",
              "      <td>Chris Baugh</td>\n",
              "      <td>Nigel O'Neill, Susan Lynch, Józef Pawlowski, S...</td>\n",
              "      <td>United Kingdom</td>\n",
              "      <td>January 18, 2018</td>\n",
              "      <td>2017</td>\n",
              "      <td>TV-MA</td>\n",
              "      <td>99 min</td>\n",
              "      <td>Independent Movies, International Movies, Thri...</td>\n",
              "      <td>A mild-mannered, middle-aged Irish farmer devo...</td>\n",
              "    </tr>\n",
              "    <tr>\n",
              "      <th>5097</th>\n",
              "      <td>s5098</td>\n",
              "      <td>TV Show</td>\n",
              "      <td>Lovesick</td>\n",
              "      <td>NaN</td>\n",
              "      <td>Johnny Flynn, Antonia Thomas, Daniel Ings, Han...</td>\n",
              "      <td>United Kingdom</td>\n",
              "      <td>January 1, 2018</td>\n",
              "      <td>2018</td>\n",
              "      <td>TV-MA</td>\n",
              "      <td>3 Seasons</td>\n",
              "      <td>British TV Shows, International TV Shows, Roma...</td>\n",
              "      <td>In his quest for true love, Dylan found chlamy...</td>\n",
              "    </tr>\n",
              "    <tr>\n",
              "      <th>7398</th>\n",
              "      <td>s7399</td>\n",
              "      <td>Movie</td>\n",
              "      <td>Manolo: The Boy Who Made Shoes for Lizards</td>\n",
              "      <td>Michael Roberts</td>\n",
              "      <td>Manolo Blahnik, Anna Wintour, André Leon Talle...</td>\n",
              "      <td>United Kingdom</td>\n",
              "      <td>January 15, 2018</td>\n",
              "      <td>2017</td>\n",
              "      <td>TV-MA</td>\n",
              "      <td>89 min</td>\n",
              "      <td>Documentaries, International Movies</td>\n",
              "      <td>As legendary shoe designer Manolo Blahnik spea...</td>\n",
              "    </tr>\n",
              "    <tr>\n",
              "      <th>8357</th>\n",
              "      <td>s8358</td>\n",
              "      <td>TV Show</td>\n",
              "      <td>The Inbetweeners</td>\n",
              "      <td>NaN</td>\n",
              "      <td>Simon Bird, James Buckley, Blake Harrison, Joe...</td>\n",
              "      <td>United Kingdom</td>\n",
              "      <td>January 1, 2018</td>\n",
              "      <td>2010</td>\n",
              "      <td>TV-MA</td>\n",
              "      <td>3 Seasons</td>\n",
              "      <td>British TV Shows, TV Comedies</td>\n",
              "      <td>This rib-tickling series follows four English ...</td>\n",
              "    </tr>\n",
              "  </tbody>\n",
              "</table>\n",
              "</div>\n",
              "    <div class=\"colab-df-buttons\">\n",
              "\n",
              "  <div class=\"colab-df-container\">\n",
              "    <button class=\"colab-df-convert\" onclick=\"convertToInteractive('df-7d700666-647c-4bdc-a15f-fe4c0bd6041b')\"\n",
              "            title=\"Convert this dataframe to an interactive table.\"\n",
              "            style=\"display:none;\">\n",
              "\n",
              "  <svg xmlns=\"http://www.w3.org/2000/svg\" height=\"24px\" viewBox=\"0 -960 960 960\">\n",
              "    <path d=\"M120-120v-720h720v720H120Zm60-500h600v-160H180v160Zm220 220h160v-160H400v160Zm0 220h160v-160H400v160ZM180-400h160v-160H180v160Zm440 0h160v-160H620v160ZM180-180h160v-160H180v160Zm440 0h160v-160H620v160Z\"/>\n",
              "  </svg>\n",
              "    </button>\n",
              "\n",
              "  <style>\n",
              "    .colab-df-container {\n",
              "      display:flex;\n",
              "      gap: 12px;\n",
              "    }\n",
              "\n",
              "    .colab-df-convert {\n",
              "      background-color: #E8F0FE;\n",
              "      border: none;\n",
              "      border-radius: 50%;\n",
              "      cursor: pointer;\n",
              "      display: none;\n",
              "      fill: #1967D2;\n",
              "      height: 32px;\n",
              "      padding: 0 0 0 0;\n",
              "      width: 32px;\n",
              "    }\n",
              "\n",
              "    .colab-df-convert:hover {\n",
              "      background-color: #E2EBFA;\n",
              "      box-shadow: 0px 1px 2px rgba(60, 64, 67, 0.3), 0px 1px 3px 1px rgba(60, 64, 67, 0.15);\n",
              "      fill: #174EA6;\n",
              "    }\n",
              "\n",
              "    .colab-df-buttons div {\n",
              "      margin-bottom: 4px;\n",
              "    }\n",
              "\n",
              "    [theme=dark] .colab-df-convert {\n",
              "      background-color: #3B4455;\n",
              "      fill: #D2E3FC;\n",
              "    }\n",
              "\n",
              "    [theme=dark] .colab-df-convert:hover {\n",
              "      background-color: #434B5C;\n",
              "      box-shadow: 0px 1px 3px 1px rgba(0, 0, 0, 0.15);\n",
              "      filter: drop-shadow(0px 1px 2px rgba(0, 0, 0, 0.3));\n",
              "      fill: #FFFFFF;\n",
              "    }\n",
              "  </style>\n",
              "\n",
              "    <script>\n",
              "      const buttonEl =\n",
              "        document.querySelector('#df-7d700666-647c-4bdc-a15f-fe4c0bd6041b button.colab-df-convert');\n",
              "      buttonEl.style.display =\n",
              "        google.colab.kernel.accessAllowed ? 'block' : 'none';\n",
              "\n",
              "      async function convertToInteractive(key) {\n",
              "        const element = document.querySelector('#df-7d700666-647c-4bdc-a15f-fe4c0bd6041b');\n",
              "        const dataTable =\n",
              "          await google.colab.kernel.invokeFunction('convertToInteractive',\n",
              "                                                    [key], {});\n",
              "        if (!dataTable) return;\n",
              "\n",
              "        const docLinkHtml = 'Like what you see? Visit the ' +\n",
              "          '<a target=\"_blank\" href=https://colab.research.google.com/notebooks/data_table.ipynb>data table notebook</a>'\n",
              "          + ' to learn more about interactive tables.';\n",
              "        element.innerHTML = '';\n",
              "        dataTable['output_type'] = 'display_data';\n",
              "        await google.colab.output.renderOutput(dataTable, element);\n",
              "        const docLink = document.createElement('div');\n",
              "        docLink.innerHTML = docLinkHtml;\n",
              "        element.appendChild(docLink);\n",
              "      }\n",
              "    </script>\n",
              "  </div>\n",
              "\n",
              "\n",
              "<div id=\"df-06a9d46d-c638-42be-a08e-d87c7eb971e7\">\n",
              "  <button class=\"colab-df-quickchart\" onclick=\"quickchart('df-06a9d46d-c638-42be-a08e-d87c7eb971e7')\"\n",
              "            title=\"Suggest charts.\"\n",
              "            style=\"display:none;\">\n",
              "\n",
              "<svg xmlns=\"http://www.w3.org/2000/svg\" height=\"24px\"viewBox=\"0 0 24 24\"\n",
              "     width=\"24px\">\n",
              "    <g>\n",
              "        <path d=\"M19 3H5c-1.1 0-2 .9-2 2v14c0 1.1.9 2 2 2h14c1.1 0 2-.9 2-2V5c0-1.1-.9-2-2-2zM9 17H7v-7h2v7zm4 0h-2V7h2v10zm4 0h-2v-4h2v4z\"/>\n",
              "    </g>\n",
              "</svg>\n",
              "  </button>\n",
              "\n",
              "<style>\n",
              "  .colab-df-quickchart {\n",
              "      --bg-color: #E8F0FE;\n",
              "      --fill-color: #1967D2;\n",
              "      --hover-bg-color: #E2EBFA;\n",
              "      --hover-fill-color: #174EA6;\n",
              "      --disabled-fill-color: #AAA;\n",
              "      --disabled-bg-color: #DDD;\n",
              "  }\n",
              "\n",
              "  [theme=dark] .colab-df-quickchart {\n",
              "      --bg-color: #3B4455;\n",
              "      --fill-color: #D2E3FC;\n",
              "      --hover-bg-color: #434B5C;\n",
              "      --hover-fill-color: #FFFFFF;\n",
              "      --disabled-bg-color: #3B4455;\n",
              "      --disabled-fill-color: #666;\n",
              "  }\n",
              "\n",
              "  .colab-df-quickchart {\n",
              "    background-color: var(--bg-color);\n",
              "    border: none;\n",
              "    border-radius: 50%;\n",
              "    cursor: pointer;\n",
              "    display: none;\n",
              "    fill: var(--fill-color);\n",
              "    height: 32px;\n",
              "    padding: 0;\n",
              "    width: 32px;\n",
              "  }\n",
              "\n",
              "  .colab-df-quickchart:hover {\n",
              "    background-color: var(--hover-bg-color);\n",
              "    box-shadow: 0 1px 2px rgba(60, 64, 67, 0.3), 0 1px 3px 1px rgba(60, 64, 67, 0.15);\n",
              "    fill: var(--button-hover-fill-color);\n",
              "  }\n",
              "\n",
              "  .colab-df-quickchart-complete:disabled,\n",
              "  .colab-df-quickchart-complete:disabled:hover {\n",
              "    background-color: var(--disabled-bg-color);\n",
              "    fill: var(--disabled-fill-color);\n",
              "    box-shadow: none;\n",
              "  }\n",
              "\n",
              "  .colab-df-spinner {\n",
              "    border: 2px solid var(--fill-color);\n",
              "    border-color: transparent;\n",
              "    border-bottom-color: var(--fill-color);\n",
              "    animation:\n",
              "      spin 1s steps(1) infinite;\n",
              "  }\n",
              "\n",
              "  @keyframes spin {\n",
              "    0% {\n",
              "      border-color: transparent;\n",
              "      border-bottom-color: var(--fill-color);\n",
              "      border-left-color: var(--fill-color);\n",
              "    }\n",
              "    20% {\n",
              "      border-color: transparent;\n",
              "      border-left-color: var(--fill-color);\n",
              "      border-top-color: var(--fill-color);\n",
              "    }\n",
              "    30% {\n",
              "      border-color: transparent;\n",
              "      border-left-color: var(--fill-color);\n",
              "      border-top-color: var(--fill-color);\n",
              "      border-right-color: var(--fill-color);\n",
              "    }\n",
              "    40% {\n",
              "      border-color: transparent;\n",
              "      border-right-color: var(--fill-color);\n",
              "      border-top-color: var(--fill-color);\n",
              "    }\n",
              "    60% {\n",
              "      border-color: transparent;\n",
              "      border-right-color: var(--fill-color);\n",
              "    }\n",
              "    80% {\n",
              "      border-color: transparent;\n",
              "      border-right-color: var(--fill-color);\n",
              "      border-bottom-color: var(--fill-color);\n",
              "    }\n",
              "    90% {\n",
              "      border-color: transparent;\n",
              "      border-bottom-color: var(--fill-color);\n",
              "    }\n",
              "  }\n",
              "</style>\n",
              "\n",
              "  <script>\n",
              "    async function quickchart(key) {\n",
              "      const quickchartButtonEl =\n",
              "        document.querySelector('#' + key + ' button');\n",
              "      quickchartButtonEl.disabled = true;  // To prevent multiple clicks.\n",
              "      quickchartButtonEl.classList.add('colab-df-spinner');\n",
              "      try {\n",
              "        const charts = await google.colab.kernel.invokeFunction(\n",
              "            'suggestCharts', [key], {});\n",
              "      } catch (error) {\n",
              "        console.error('Error during call to suggestCharts:', error);\n",
              "      }\n",
              "      quickchartButtonEl.classList.remove('colab-df-spinner');\n",
              "      quickchartButtonEl.classList.add('colab-df-quickchart-complete');\n",
              "    }\n",
              "    (() => {\n",
              "      let quickchartButtonEl =\n",
              "        document.querySelector('#df-06a9d46d-c638-42be-a08e-d87c7eb971e7 button');\n",
              "      quickchartButtonEl.style.display =\n",
              "        google.colab.kernel.accessAllowed ? 'block' : 'none';\n",
              "    })();\n",
              "  </script>\n",
              "</div>\n",
              "    </div>\n",
              "  </div>\n"
            ]
          },
          "metadata": {},
          "execution_count": 138
        }
      ]
    },
    {
      "cell_type": "markdown",
      "source": [
        "####  결과 출력하기"
      ],
      "metadata": {
        "id": "2kSqxMwsKWBH"
      }
    },
    {
      "cell_type": "code",
      "source": [
        "result = len(new_df)\n",
        "print(result)"
      ],
      "metadata": {
        "colab": {
          "base_uri": "https://localhost:8080/"
        },
        "id": "abLMVYiHCpuE",
        "outputId": "13f3b4e1-6d45-4ff3-e208-c3bbd0ec6dd5"
      },
      "execution_count": null,
      "outputs": [
        {
          "output_type": "stream",
          "name": "stdout",
          "text": [
            "6\n"
          ]
        }
      ]
    },
    {
      "cell_type": "code",
      "source": [
        "# ## 전체 풀이 코드\n",
        "\n",
        "# import pandas as pd\n",
        "\n",
        "# df = pd.read_csv('/content/yemoonsaBigdata/datasets/Part3/403_netflix.csv')\n",
        "\n",
        "# rst_df = df[df['date_added'].str.contains('January')&df['date_added'].str.contains('2018')]\n",
        "# rst_df = rst_df[rst_df['country']=='United Kingdom']\n",
        "\n",
        "# result = len(rst_df)\n",
        "\n",
        "# print(result) # 최종 결과값만 print되도록 해야 합니다."
      ],
      "metadata": {
        "id": "z9aV49OlMLxN"
      },
      "execution_count": null,
      "outputs": []
    },
    {
      "cell_type": "markdown",
      "source": [
        "## 3. 작업형 제2유형"
      ],
      "metadata": {
        "id": "enuuvtJ_LmxW"
      }
    },
    {
      "cell_type": "markdown",
      "source": [
        "다음은 Customer Segmentation 데이터 세트이다. 주어진 훈련 데이터 세트를 활용하여 고객이 속한 세그먼트(Segmentation)를 예측하고 해당 예측 결과를 csv 파일로 제출하시오."
      ],
      "metadata": {
        "id": "XIifUoCm413I"
      }
    },
    {
      "cell_type": "markdown",
      "source": [
        "### (1) 사전 준비"
      ],
      "metadata": {
        "id": "GFllmTiFLshb"
      }
    },
    {
      "cell_type": "markdown",
      "source": [
        "#### 데이터 불러오기"
      ],
      "metadata": {
        "id": "XF_qYPA2LyiN"
      }
    },
    {
      "cell_type": "code",
      "source": [
        "# 출력을 원하실 경우 print() 함수 활용\n",
        "# 예시) print(df.head())\n",
        "\n",
        "# getcwd(), chdir() 등 작업 폴더 설정 불필요\n",
        "# 파일 경로 상 내부 드라이브 경로(C: 등) 접근 불가\n",
        "\n",
        "# 데이터 파일 읽기 예제\n",
        "import pandas as pd\n",
        "X_test = pd.read_csv(\"yemoonsaBigdata/datasets/Part3/404_x_test.csv\")\n",
        "X_train = pd.read_csv(\"yemoonsaBigdata/datasets/Part3/404_x_train.csv\")\n",
        "y_train = pd.read_csv(\"yemoonsaBigdata/datasets/Part3/404_y_train.csv\")\n",
        "\n",
        "# 사용자 코딩\n",
        "\n",
        "# 답안 제출 참고\n",
        "# 아래 코드 예측변수와 수험번호를 개인별로 변경하여 활용\n",
        "# pd.DataFrame({'index': X_test.index, 'y_pred': pred}).to_csv('003000000.csv', index=False)"
      ],
      "metadata": {
        "id": "aYEPu-SbNPBU"
      },
      "execution_count": null,
      "outputs": []
    },
    {
      "cell_type": "code",
      "source": [
        "print(X_train.head())"
      ],
      "metadata": {
        "colab": {
          "base_uri": "https://localhost:8080/"
        },
        "id": "zPiXuXpIcmSS",
        "outputId": "207f7ae5-8c3b-46d3-8ff5-3b5c40c4abf3"
      },
      "execution_count": null,
      "outputs": [
        {
          "output_type": "stream",
          "name": "stdout",
          "text": [
            "       ID  Gender Ever_Married  Age Graduated  Profession  Work_Experience  \\\n",
            "0  462809    Male           No   22        No  Healthcare              1.0   \n",
            "1  466315  Female          Yes   67       Yes    Engineer              1.0   \n",
            "2  461735    Male          Yes   67       Yes      Lawyer              0.0   \n",
            "3  461319    Male          Yes   56        No      Artist              0.0   \n",
            "4  460156    Male           No   32       Yes  Healthcare              1.0   \n",
            "\n",
            "  Spending_Score  Family_Size  \n",
            "0            Low          4.0  \n",
            "1            Low          1.0  \n",
            "2           High          2.0  \n",
            "3        Average          2.0  \n",
            "4            Low          3.0  \n"
          ]
        }
      ]
    },
    {
      "cell_type": "code",
      "source": [
        "print(y_train.head())"
      ],
      "metadata": {
        "colab": {
          "base_uri": "https://localhost:8080/"
        },
        "id": "XG8OZr5DcmmM",
        "outputId": "489cecdb-817e-4ef4-e6d9-d94a95f6f4c6"
      },
      "execution_count": null,
      "outputs": [
        {
          "output_type": "stream",
          "name": "stdout",
          "text": [
            "       ID Segmentation\n",
            "0  462809            D\n",
            "1  466315            B\n",
            "2  461735            B\n",
            "3  461319            C\n",
            "4  460156            C\n"
          ]
        }
      ]
    },
    {
      "cell_type": "code",
      "source": [
        "print(X_test.head())"
      ],
      "metadata": {
        "colab": {
          "base_uri": "https://localhost:8080/"
        },
        "id": "SLBqZ3nGNgkm",
        "outputId": "7c69ca45-19ae-4a1b-8b48-d513a6418af2"
      },
      "execution_count": null,
      "outputs": [
        {
          "output_type": "stream",
          "name": "stdout",
          "text": [
            "       ID  Gender Ever_Married  Age Graduated  Profession  Work_Experience  \\\n",
            "0  458989  Female          Yes   36       Yes    Engineer              0.0   \n",
            "1  458994    Male          Yes   37       Yes  Healthcare              8.0   \n",
            "2  459000    Male          Yes   59        No   Executive             11.0   \n",
            "3  459003    Male          Yes   47       Yes      Doctor              0.0   \n",
            "4  459005    Male          Yes   61       Yes      Doctor              5.0   \n",
            "\n",
            "  Spending_Score  Family_Size  \n",
            "0            Low          1.0  \n",
            "1        Average          4.0  \n",
            "2           High          2.0  \n",
            "3           High          5.0  \n",
            "4            Low          3.0  \n"
          ]
        }
      ]
    },
    {
      "cell_type": "markdown",
      "source": [
        "### (2) 데이터 전처리"
      ],
      "metadata": {
        "id": "XWmcSYLPO5AQ"
      }
    },
    {
      "cell_type": "markdown",
      "source": [
        "####데이터 확인하기"
      ],
      "metadata": {
        "id": "L8MjPOBwOr0y"
      }
    },
    {
      "cell_type": "code",
      "source": [
        "print(X_train.info())"
      ],
      "metadata": {
        "colab": {
          "base_uri": "https://localhost:8080/"
        },
        "id": "Fc91twmPPDMa",
        "outputId": "e9e9e6bf-ad46-4516-a811-9dd31daf8044"
      },
      "execution_count": null,
      "outputs": [
        {
          "output_type": "stream",
          "name": "stdout",
          "text": [
            "<class 'pandas.core.frame.DataFrame'>\n",
            "RangeIndex: 6718 entries, 0 to 6717\n",
            "Data columns (total 9 columns):\n",
            " #   Column           Non-Null Count  Dtype  \n",
            "---  ------           --------------  -----  \n",
            " 0   ID               6718 non-null   int64  \n",
            " 1   Gender           6718 non-null   object \n",
            " 2   Ever_Married     6718 non-null   object \n",
            " 3   Age              6718 non-null   int64  \n",
            " 4   Graduated        6718 non-null   object \n",
            " 5   Profession       6718 non-null   object \n",
            " 6   Work_Experience  6718 non-null   float64\n",
            " 7   Spending_Score   6718 non-null   object \n",
            " 8   Family_Size      6718 non-null   float64\n",
            "dtypes: float64(2), int64(2), object(5)\n",
            "memory usage: 472.5+ KB\n",
            "None\n"
          ]
        }
      ]
    },
    {
      "cell_type": "code",
      "source": [
        "print(y_train.info())"
      ],
      "metadata": {
        "colab": {
          "base_uri": "https://localhost:8080/"
        },
        "id": "bXX_QbjeP4uB",
        "outputId": "cb47a11c-4589-47d3-fd12-ddca6741f383"
      },
      "execution_count": null,
      "outputs": [
        {
          "output_type": "stream",
          "name": "stdout",
          "text": [
            "<class 'pandas.core.frame.DataFrame'>\n",
            "RangeIndex: 6718 entries, 0 to 6717\n",
            "Data columns (total 2 columns):\n",
            " #   Column        Non-Null Count  Dtype \n",
            "---  ------        --------------  ----- \n",
            " 0   ID            6718 non-null   int64 \n",
            " 1   Segmentation  6718 non-null   object\n",
            "dtypes: int64(1), object(1)\n",
            "memory usage: 105.1+ KB\n",
            "None\n"
          ]
        }
      ]
    },
    {
      "cell_type": "code",
      "source": [
        "print(X_test.info())"
      ],
      "metadata": {
        "colab": {
          "base_uri": "https://localhost:8080/"
        },
        "id": "L-t1ANoCPzlj",
        "outputId": "f9ca5848-d853-489f-9aa7-57fc106423b9"
      },
      "execution_count": null,
      "outputs": [
        {
          "output_type": "stream",
          "name": "stdout",
          "text": [
            "<class 'pandas.core.frame.DataFrame'>\n",
            "RangeIndex: 2178 entries, 0 to 2177\n",
            "Data columns (total 9 columns):\n",
            " #   Column           Non-Null Count  Dtype  \n",
            "---  ------           --------------  -----  \n",
            " 0   ID               2178 non-null   int64  \n",
            " 1   Gender           2178 non-null   object \n",
            " 2   Ever_Married     2178 non-null   object \n",
            " 3   Age              2178 non-null   int64  \n",
            " 4   Graduated        2178 non-null   object \n",
            " 5   Profession       2178 non-null   object \n",
            " 6   Work_Experience  2178 non-null   float64\n",
            " 7   Spending_Score   2178 non-null   object \n",
            " 8   Family_Size      2178 non-null   float64\n",
            "dtypes: float64(2), int64(2), object(5)\n",
            "memory usage: 153.3+ KB\n",
            "None\n"
          ]
        }
      ]
    },
    {
      "cell_type": "markdown",
      "source": [
        "#### 변수별 결측치 수 확인"
      ],
      "metadata": {
        "id": "ef9keRthP-8v"
      }
    },
    {
      "cell_type": "code",
      "source": [
        "X_train.isnull().sum()"
      ],
      "metadata": {
        "colab": {
          "base_uri": "https://localhost:8080/"
        },
        "id": "wXkH3qNuPcCK",
        "outputId": "e53446a5-cffe-488a-f6b1-43811f2cd7d0"
      },
      "execution_count": null,
      "outputs": [
        {
          "output_type": "execute_result",
          "data": {
            "text/plain": [
              "ID                 0\n",
              "Gender             0\n",
              "Ever_Married       0\n",
              "Age                0\n",
              "Graduated          0\n",
              "Profession         0\n",
              "Work_Experience    0\n",
              "Spending_Score     0\n",
              "Family_Size        0\n",
              "dtype: int64"
            ]
          },
          "metadata": {},
          "execution_count": 148
        }
      ]
    },
    {
      "cell_type": "code",
      "source": [
        "X_test.isnull().sum()"
      ],
      "metadata": {
        "colab": {
          "base_uri": "https://localhost:8080/"
        },
        "id": "i4Pk_UI1QFDP",
        "outputId": "c935e0db-981d-45e2-fc66-d926b69e6ccf"
      },
      "execution_count": null,
      "outputs": [
        {
          "output_type": "execute_result",
          "data": {
            "text/plain": [
              "ID                 0\n",
              "Gender             0\n",
              "Ever_Married       0\n",
              "Age                0\n",
              "Graduated          0\n",
              "Profession         0\n",
              "Work_Experience    0\n",
              "Spending_Score     0\n",
              "Family_Size        0\n",
              "dtype: int64"
            ]
          },
          "metadata": {},
          "execution_count": 149
        }
      ]
    },
    {
      "cell_type": "code",
      "source": [
        "y_train.isnull().sum()"
      ],
      "metadata": {
        "colab": {
          "base_uri": "https://localhost:8080/"
        },
        "id": "yjloWyVtQFbm",
        "outputId": "beaa0f23-95af-401e-b449-ad4c9b5d414a"
      },
      "execution_count": null,
      "outputs": [
        {
          "output_type": "execute_result",
          "data": {
            "text/plain": [
              "ID              0\n",
              "Segmentation    0\n",
              "dtype: int64"
            ]
          },
          "metadata": {},
          "execution_count": 150
        }
      ]
    },
    {
      "cell_type": "markdown",
      "source": [
        "####  변수 구분"
      ],
      "metadata": {
        "id": "eY_eYZg9QTJF"
      }
    },
    {
      "cell_type": "code",
      "source": [
        "# ID: 불필요한 변수\n",
        "# Age, Work_Experience, Family_Size: 수치형 변수\n",
        "# Gender, Ever_Married, Graduated, Profession, Spending_Score: 범주형 변수\n",
        "# Segmentation: 종속 변수\n",
        "\n",
        "COL_DEL = ['ID']\n",
        "COL_NUM = ['Age', 'Work_Experience', 'Family_Size']\n",
        "COL_CAT = ['Gender', 'Ever_Married', 'Graduated', 'Profession', 'Spending_Score']\n",
        "COL_Y = ['Segmentation']"
      ],
      "metadata": {
        "id": "m0RDdrutPGis"
      },
      "execution_count": null,
      "outputs": []
    },
    {
      "cell_type": "markdown",
      "source": [
        "### (3) 데이터 모형 구축"
      ],
      "metadata": {
        "id": "Bg6K5CN6Ywxm"
      }
    },
    {
      "cell_type": "markdown",
      "source": [
        "####  데이터 분할"
      ],
      "metadata": {
        "id": "ejvncLBVZMZm"
      }
    },
    {
      "cell_type": "code",
      "source": [
        "from sklearn.model_selection import train_test_split\n",
        "X_tr, X_val, y_tr, y_val = train_test_split(X_train[COL_NUM+COL_CAT], y_train[COL_Y].values.ravel(), test_size=0.3, stratify=y_train[COL_Y].values.ravel())"
      ],
      "metadata": {
        "id": "GkHmKC9B6Nlq"
      },
      "execution_count": null,
      "outputs": []
    },
    {
      "cell_type": "markdown",
      "source": [
        "분류 모델을 만들어야 하므로 stratify 옵션으로 학습, 검증용 데이터의 Y 비율이 같도록 한다. stratify 옵션은 필수는 아니지만 두 클래스 간 비율이 크게 차이나는 불균형 데이터의 경우에는 꼭 넣어주는 것이 좋다."
      ],
      "metadata": {
        "id": "BiUDKtHZ6z2H"
      }
    },
    {
      "cell_type": "code",
      "source": [
        "print(X_tr.head())"
      ],
      "metadata": {
        "colab": {
          "base_uri": "https://localhost:8080/"
        },
        "id": "dxowkncfoEdW",
        "outputId": "a0aed48a-ed9e-4510-dea3-93af0bc1b132"
      },
      "execution_count": null,
      "outputs": [
        {
          "output_type": "stream",
          "name": "stdout",
          "text": [
            "      Age  Work_Experience  Family_Size  Gender Ever_Married Graduated  \\\n",
            "698    50              1.0          3.0  Female          Yes       Yes   \n",
            "4532   21              1.0          5.0    Male           No        No   \n",
            "5649   38              1.0          3.0  Female           No       Yes   \n",
            "2067   37              8.0          2.0    Male          Yes       Yes   \n",
            "3802   47              1.0          4.0  Female          Yes       Yes   \n",
            "\n",
            "         Profession Spending_Score  \n",
            "698          Artist        Average  \n",
            "4532     Healthcare            Low  \n",
            "5649         Artist            Low  \n",
            "2067  Entertainment        Average  \n",
            "3802         Doctor        Average  \n"
          ]
        }
      ]
    },
    {
      "cell_type": "code",
      "source": [
        "print(y_tr)"
      ],
      "metadata": {
        "colab": {
          "base_uri": "https://localhost:8080/"
        },
        "id": "ZP4tuO-IoMb4",
        "outputId": "15d607fc-0eb1-4f2d-9d2b-ff6b5417844b"
      },
      "execution_count": null,
      "outputs": [
        {
          "output_type": "stream",
          "name": "stdout",
          "text": [
            "['B' 'D' 'A' ... 'C' 'C' 'C']\n"
          ]
        }
      ]
    },
    {
      "cell_type": "markdown",
      "source": [
        "#### 수치형 변수 - 데이터 스케일링"
      ],
      "metadata": {
        "id": "7DTiQZ5FZtJC"
      }
    },
    {
      "cell_type": "markdown",
      "source": [
        "데이터 누수를 방지하기 위해 scaler의 fitting은 학습용 데이터 X_tr만 사용하고, X_tr, X_val, X_test 세 데이터 모두에 적용하여 스케일링해야 하는 것 주의하기"
      ],
      "metadata": {
        "id": "t1XcNhoo7qhK"
      }
    },
    {
      "cell_type": "code",
      "source": [
        "from sklearn.preprocessing import StandardScaler\n",
        "\n",
        "scaler = StandardScaler()\n",
        "scaler.fit(X_tr[COL_NUM])\n",
        "\n",
        "X_tr[COL_NUM]   = scaler.transform(X_tr[COL_NUM])\n",
        "X_val[COL_NUM]  = scaler.transform(X_val[COL_NUM])\n",
        "X_test[COL_NUM] = scaler.transform(X_test[COL_NUM])"
      ],
      "metadata": {
        "id": "IOOmufym7FnJ"
      },
      "execution_count": null,
      "outputs": []
    },
    {
      "cell_type": "code",
      "source": [
        "print(X_tr[COL_NUM].head())"
      ],
      "metadata": {
        "colab": {
          "base_uri": "https://localhost:8080/"
        },
        "id": "bxgcaFt7QZBa",
        "outputId": "4512c68d-3ae3-4a45-9a4b-a8feda220be7"
      },
      "execution_count": null,
      "outputs": [
        {
          "output_type": "stream",
          "name": "stdout",
          "text": [
            "           Age  Work_Experience  Family_Size\n",
            "698   0.386828        -0.469285     0.101758\n",
            "4532 -1.367491        -0.469285     1.416231\n",
            "5649 -0.339097        -0.469285     0.101758\n",
            "2067 -0.399591         1.593487    -0.555478\n",
            "3802  0.205347        -0.469285     0.758994\n"
          ]
        }
      ]
    },
    {
      "cell_type": "markdown",
      "source": [
        "#### 범주형 변수 - 데이터 인코딩"
      ],
      "metadata": {
        "id": "Ae0hWOZCpbwd"
      }
    },
    {
      "cell_type": "markdown",
      "source": [
        "데이터 인코딩은 데이터 누수의 우려가 없고, 각 컬럼에서 나타날 수 있는 값들을 모두 반영해야 한다. 따라서 X_train, X_test를 합친 X 데이터프레임을 사용하여 인코더를 fitting시킨다. 또한 LableEncoder는 컬럼 전체에 적용하지 못하고 각 컬럼별로 적용해야 한다는 점을 주의해야 한다."
      ],
      "metadata": {
        "id": "l8j-5Tgw8xWZ"
      }
    },
    {
      "cell_type": "code",
      "source": [
        "from sklearn.preprocessing import LabelEncoder\n",
        "\n",
        "X = pd.concat([X_train[COL_CAT], X_test[COL_CAT]])\n",
        "\n",
        "for col in COL_CAT:\n",
        "  le = LabelEncoder()\n",
        "  le.fit(X[col])\n",
        "  X_tr[col] = le.transform(X_tr[col])\n",
        "  X_val[col] = le.transform(X_val[col])\n",
        "  X_test[col] = le.transform(X_test[col])\n",
        "\n",
        "  # 각 변수의 클래스 확인\n",
        "  print(col)\n",
        "  print(le.classes_)\n",
        "  print('\\n')"
      ],
      "metadata": {
        "colab": {
          "base_uri": "https://localhost:8080/"
        },
        "id": "mKAmANglZ_Li",
        "outputId": "4c0c8923-a5e9-4d3c-dc43-2bfd3fae4361"
      },
      "execution_count": null,
      "outputs": [
        {
          "output_type": "stream",
          "name": "stdout",
          "text": [
            "Gender\n",
            "['Female' 'Male']\n",
            "\n",
            "\n",
            "Ever_Married\n",
            "['No' 'Yes']\n",
            "\n",
            "\n",
            "Graduated\n",
            "['No' 'Yes']\n",
            "\n",
            "\n",
            "Profession\n",
            "['Artist' 'Doctor' 'Engineer' 'Entertainment' 'Executive' 'Healthcare'\n",
            " 'Homemaker' 'Lawyer' 'Marketing']\n",
            "\n",
            "\n",
            "Spending_Score\n",
            "['Average' 'High' 'Low']\n",
            "\n",
            "\n"
          ]
        }
      ]
    },
    {
      "cell_type": "code",
      "source": [
        "print(X_tr[COL_CAT].head())"
      ],
      "metadata": {
        "colab": {
          "base_uri": "https://localhost:8080/"
        },
        "id": "juDxpiCBfJBL",
        "outputId": "216cb9da-8622-4874-9475-0166ef4fa912"
      },
      "execution_count": null,
      "outputs": [
        {
          "output_type": "stream",
          "name": "stdout",
          "text": [
            "      Gender  Ever_Married  Graduated  Profession  Spending_Score\n",
            "698        0             1          1           0               0\n",
            "4532       1             0          0           5               2\n",
            "5649       0             0          1           0               2\n",
            "2067       1             1          1           3               0\n",
            "3802       0             1          1           1               0\n"
          ]
        }
      ]
    },
    {
      "cell_type": "markdown",
      "source": [
        "####모형 학습\n"
      ],
      "metadata": {
        "id": "EKebrCq1pZxF"
      }
    },
    {
      "cell_type": "code",
      "source": [
        "### XGBoost 최신 버전에서 발생하는 y 데이터의 Label오류 해결을 위한 추가 코드\n",
        "y_le = LabelEncoder()\n",
        "y_le.fit(y_train[COL_Y])\n",
        "\n",
        "y_tr = y_le.transform(y_tr)\n",
        "y_val = y_le.transform(y_val)"
      ],
      "metadata": {
        "id": "Ir_SGkagnu5q",
        "outputId": "d3f2807a-f019-4472-c45b-e01904436429",
        "colab": {
          "base_uri": "https://localhost:8080/"
        }
      },
      "execution_count": null,
      "outputs": [
        {
          "output_type": "stream",
          "name": "stderr",
          "text": [
            "/usr/local/lib/python3.10/dist-packages/sklearn/preprocessing/_label.py:99: DataConversionWarning: A column-vector y was passed when a 1d array was expected. Please change the shape of y to (n_samples, ), for example using ravel().\n",
            "  y = column_or_1d(y, warn=True)\n"
          ]
        }
      ]
    },
    {
      "cell_type": "code",
      "source": [
        "## 1) 랜덤 포레스트\n",
        "from sklearn.ensemble import RandomForestClassifier\n",
        "modelRF = RandomForestClassifier(random_state=123)\n",
        "modelRF.fit(X_tr, y_tr)\n",
        "\n",
        "## 2) XGBoost\n",
        "from xgboost import XGBClassifier\n",
        "modelXGB = XGBClassifier(random_state=123)\n",
        "modelXGB.fit(X_tr, y_tr)"
      ],
      "metadata": {
        "colab": {
          "base_uri": "https://localhost:8080/",
          "height": 247
        },
        "id": "Ae20pJyLpYoe",
        "outputId": "b809cc05-d6f3-4f29-c894-3304aedf97b0"
      },
      "execution_count": null,
      "outputs": [
        {
          "output_type": "execute_result",
          "data": {
            "text/plain": [
              "XGBClassifier(base_score=None, booster=None, callbacks=None,\n",
              "              colsample_bylevel=None, colsample_bynode=None,\n",
              "              colsample_bytree=None, device=None, early_stopping_rounds=None,\n",
              "              enable_categorical=False, eval_metric=None, feature_types=None,\n",
              "              gamma=None, grow_policy=None, importance_type=None,\n",
              "              interaction_constraints=None, learning_rate=None, max_bin=None,\n",
              "              max_cat_threshold=None, max_cat_to_onehot=None,\n",
              "              max_delta_step=None, max_depth=None, max_leaves=None,\n",
              "              min_child_weight=None, missing=nan, monotone_constraints=None,\n",
              "              multi_strategy=None, n_estimators=None, n_jobs=None,\n",
              "              num_parallel_tree=None, objective='multi:softprob', ...)"
            ],
            "text/html": [
              "<style>#sk-container-id-2 {color: black;background-color: white;}#sk-container-id-2 pre{padding: 0;}#sk-container-id-2 div.sk-toggleable {background-color: white;}#sk-container-id-2 label.sk-toggleable__label {cursor: pointer;display: block;width: 100%;margin-bottom: 0;padding: 0.3em;box-sizing: border-box;text-align: center;}#sk-container-id-2 label.sk-toggleable__label-arrow:before {content: \"▸\";float: left;margin-right: 0.25em;color: #696969;}#sk-container-id-2 label.sk-toggleable__label-arrow:hover:before {color: black;}#sk-container-id-2 div.sk-estimator:hover label.sk-toggleable__label-arrow:before {color: black;}#sk-container-id-2 div.sk-toggleable__content {max-height: 0;max-width: 0;overflow: hidden;text-align: left;background-color: #f0f8ff;}#sk-container-id-2 div.sk-toggleable__content pre {margin: 0.2em;color: black;border-radius: 0.25em;background-color: #f0f8ff;}#sk-container-id-2 input.sk-toggleable__control:checked~div.sk-toggleable__content {max-height: 200px;max-width: 100%;overflow: auto;}#sk-container-id-2 input.sk-toggleable__control:checked~label.sk-toggleable__label-arrow:before {content: \"▾\";}#sk-container-id-2 div.sk-estimator input.sk-toggleable__control:checked~label.sk-toggleable__label {background-color: #d4ebff;}#sk-container-id-2 div.sk-label input.sk-toggleable__control:checked~label.sk-toggleable__label {background-color: #d4ebff;}#sk-container-id-2 input.sk-hidden--visually {border: 0;clip: rect(1px 1px 1px 1px);clip: rect(1px, 1px, 1px, 1px);height: 1px;margin: -1px;overflow: hidden;padding: 0;position: absolute;width: 1px;}#sk-container-id-2 div.sk-estimator {font-family: monospace;background-color: #f0f8ff;border: 1px dotted black;border-radius: 0.25em;box-sizing: border-box;margin-bottom: 0.5em;}#sk-container-id-2 div.sk-estimator:hover {background-color: #d4ebff;}#sk-container-id-2 div.sk-parallel-item::after {content: \"\";width: 100%;border-bottom: 1px solid gray;flex-grow: 1;}#sk-container-id-2 div.sk-label:hover label.sk-toggleable__label {background-color: #d4ebff;}#sk-container-id-2 div.sk-serial::before {content: \"\";position: absolute;border-left: 1px solid gray;box-sizing: border-box;top: 0;bottom: 0;left: 50%;z-index: 0;}#sk-container-id-2 div.sk-serial {display: flex;flex-direction: column;align-items: center;background-color: white;padding-right: 0.2em;padding-left: 0.2em;position: relative;}#sk-container-id-2 div.sk-item {position: relative;z-index: 1;}#sk-container-id-2 div.sk-parallel {display: flex;align-items: stretch;justify-content: center;background-color: white;position: relative;}#sk-container-id-2 div.sk-item::before, #sk-container-id-2 div.sk-parallel-item::before {content: \"\";position: absolute;border-left: 1px solid gray;box-sizing: border-box;top: 0;bottom: 0;left: 50%;z-index: -1;}#sk-container-id-2 div.sk-parallel-item {display: flex;flex-direction: column;z-index: 1;position: relative;background-color: white;}#sk-container-id-2 div.sk-parallel-item:first-child::after {align-self: flex-end;width: 50%;}#sk-container-id-2 div.sk-parallel-item:last-child::after {align-self: flex-start;width: 50%;}#sk-container-id-2 div.sk-parallel-item:only-child::after {width: 0;}#sk-container-id-2 div.sk-dashed-wrapped {border: 1px dashed gray;margin: 0 0.4em 0.5em 0.4em;box-sizing: border-box;padding-bottom: 0.4em;background-color: white;}#sk-container-id-2 div.sk-label label {font-family: monospace;font-weight: bold;display: inline-block;line-height: 1.2em;}#sk-container-id-2 div.sk-label-container {text-align: center;}#sk-container-id-2 div.sk-container {/* jupyter's `normalize.less` sets `[hidden] { display: none; }` but bootstrap.min.css set `[hidden] { display: none !important; }` so we also need the `!important` here to be able to override the default hidden behavior on the sphinx rendered scikit-learn.org. See: https://github.com/scikit-learn/scikit-learn/issues/21755 */display: inline-block !important;position: relative;}#sk-container-id-2 div.sk-text-repr-fallback {display: none;}</style><div id=\"sk-container-id-2\" class=\"sk-top-container\"><div class=\"sk-text-repr-fallback\"><pre>XGBClassifier(base_score=None, booster=None, callbacks=None,\n",
              "              colsample_bylevel=None, colsample_bynode=None,\n",
              "              colsample_bytree=None, device=None, early_stopping_rounds=None,\n",
              "              enable_categorical=False, eval_metric=None, feature_types=None,\n",
              "              gamma=None, grow_policy=None, importance_type=None,\n",
              "              interaction_constraints=None, learning_rate=None, max_bin=None,\n",
              "              max_cat_threshold=None, max_cat_to_onehot=None,\n",
              "              max_delta_step=None, max_depth=None, max_leaves=None,\n",
              "              min_child_weight=None, missing=nan, monotone_constraints=None,\n",
              "              multi_strategy=None, n_estimators=None, n_jobs=None,\n",
              "              num_parallel_tree=None, objective=&#x27;multi:softprob&#x27;, ...)</pre><b>In a Jupyter environment, please rerun this cell to show the HTML representation or trust the notebook. <br />On GitHub, the HTML representation is unable to render, please try loading this page with nbviewer.org.</b></div><div class=\"sk-container\" hidden><div class=\"sk-item\"><div class=\"sk-estimator sk-toggleable\"><input class=\"sk-toggleable__control sk-hidden--visually\" id=\"sk-estimator-id-2\" type=\"checkbox\" checked><label for=\"sk-estimator-id-2\" class=\"sk-toggleable__label sk-toggleable__label-arrow\">XGBClassifier</label><div class=\"sk-toggleable__content\"><pre>XGBClassifier(base_score=None, booster=None, callbacks=None,\n",
              "              colsample_bylevel=None, colsample_bynode=None,\n",
              "              colsample_bytree=None, device=None, early_stopping_rounds=None,\n",
              "              enable_categorical=False, eval_metric=None, feature_types=None,\n",
              "              gamma=None, grow_policy=None, importance_type=None,\n",
              "              interaction_constraints=None, learning_rate=None, max_bin=None,\n",
              "              max_cat_threshold=None, max_cat_to_onehot=None,\n",
              "              max_delta_step=None, max_depth=None, max_leaves=None,\n",
              "              min_child_weight=None, missing=nan, monotone_constraints=None,\n",
              "              multi_strategy=None, n_estimators=None, n_jobs=None,\n",
              "              num_parallel_tree=None, objective=&#x27;multi:softprob&#x27;, ...)</pre></div></div></div></div></div>"
            ]
          },
          "metadata": {},
          "execution_count": 162
        }
      ]
    },
    {
      "cell_type": "markdown",
      "source": [
        "### (4) 데이터 모형 평가"
      ],
      "metadata": {
        "id": "Y2QtyWMXqO3h"
      }
    },
    {
      "cell_type": "markdown",
      "source": [
        "#### 검증 데이터로 예측값 생성"
      ],
      "metadata": {
        "id": "pdLphLrhqV7m"
      }
    },
    {
      "cell_type": "code",
      "source": [
        "y_val_predRF = modelRF.predict(X_val)\n",
        "y_val_predXGB = modelXGB.predict(X_val)"
      ],
      "metadata": {
        "id": "sWWOYN3WqcUH"
      },
      "execution_count": null,
      "outputs": []
    },
    {
      "cell_type": "markdown",
      "source": [
        "#### 평가지표 구하기"
      ],
      "metadata": {
        "id": "FV7Xh7plq-Mt"
      }
    },
    {
      "cell_type": "markdown",
      "source": [
        "답안 채점 기준인 macro f1 score 사용"
      ],
      "metadata": {
        "id": "3PHt5KCI-WyS"
      }
    },
    {
      "cell_type": "code",
      "source": [
        "from sklearn.metrics import f1_score\n",
        "\n",
        "scoreRF = f1_score(y_val, y_val_predRF, average='macro')\n",
        "scoreXGB = f1_score(y_val, y_val_predXGB, average='macro')\n",
        "\n",
        "print('Random Forest: \\t', scoreRF)\n",
        "print('XGBoost: \\t', scoreXGB)"
      ],
      "metadata": {
        "colab": {
          "base_uri": "https://localhost:8080/"
        },
        "id": "r2w15xwXpFLy",
        "outputId": "548e76e5-f62b-43da-9331-7056718e76c0"
      },
      "execution_count": null,
      "outputs": [
        {
          "output_type": "stream",
          "name": "stdout",
          "text": [
            "Random Forest: \t 0.4705694993067998\n",
            "XGBoost: \t 0.5037853938815378\n"
          ]
        }
      ]
    },
    {
      "cell_type": "markdown",
      "source": [
        "f1-score값이 높을수록 모델의 성능이 좋은 것이므로 XGBoost 모형이 Random Forest 모형보다 더 좋은 성능을 보인다."
      ],
      "metadata": {
        "id": "xxLB3C-L-bBL"
      }
    },
    {
      "cell_type": "markdown",
      "source": [
        "참고 - 써야할 함수명 아예 모를 때 metric 종류 확인하는 코드"
      ],
      "metadata": {
        "id": "JwQREU0R-p9y"
      }
    },
    {
      "cell_type": "code",
      "source": [
        "### 참고 - metric 종류 확인\n",
        "import sklearn.metrics\n",
        "print(help(sklearn.metrics.f1_score))   # 함수 명은 알지만 패러미터 등 사용법을 모를 때"
      ],
      "metadata": {
        "id": "r84BiZ5ie4LH",
        "colab": {
          "base_uri": "https://localhost:8080/"
        },
        "outputId": "ecffb63f-0bf1-47cf-c999-12076a161efa"
      },
      "execution_count": null,
      "outputs": [
        {
          "output_type": "stream",
          "name": "stdout",
          "text": [
            "Help on function f1_score in module sklearn.metrics._classification:\n",
            "\n",
            "f1_score(y_true, y_pred, *, labels=None, pos_label=1, average='binary', sample_weight=None, zero_division='warn')\n",
            "    Compute the F1 score, also known as balanced F-score or F-measure.\n",
            "    \n",
            "    The F1 score can be interpreted as a harmonic mean of the precision and\n",
            "    recall, where an F1 score reaches its best value at 1 and worst score at 0.\n",
            "    The relative contribution of precision and recall to the F1 score are\n",
            "    equal. The formula for the F1 score is::\n",
            "    \n",
            "        F1 = 2 * (precision * recall) / (precision + recall)\n",
            "    \n",
            "    In the multi-class and multi-label case, this is the average of\n",
            "    the F1 score of each class with weighting depending on the ``average``\n",
            "    parameter.\n",
            "    \n",
            "    Read more in the :ref:`User Guide <precision_recall_f_measure_metrics>`.\n",
            "    \n",
            "    Parameters\n",
            "    ----------\n",
            "    y_true : 1d array-like, or label indicator array / sparse matrix\n",
            "        Ground truth (correct) target values.\n",
            "    \n",
            "    y_pred : 1d array-like, or label indicator array / sparse matrix\n",
            "        Estimated targets as returned by a classifier.\n",
            "    \n",
            "    labels : array-like, default=None\n",
            "        The set of labels to include when ``average != 'binary'``, and their\n",
            "        order if ``average is None``. Labels present in the data can be\n",
            "        excluded, for example to calculate a multiclass average ignoring a\n",
            "        majority negative class, while labels not present in the data will\n",
            "        result in 0 components in a macro average. For multilabel targets,\n",
            "        labels are column indices. By default, all labels in ``y_true`` and\n",
            "        ``y_pred`` are used in sorted order.\n",
            "    \n",
            "        .. versionchanged:: 0.17\n",
            "           Parameter `labels` improved for multiclass problem.\n",
            "    \n",
            "    pos_label : str or int, default=1\n",
            "        The class to report if ``average='binary'`` and the data is binary.\n",
            "        If the data are multiclass or multilabel, this will be ignored;\n",
            "        setting ``labels=[pos_label]`` and ``average != 'binary'`` will report\n",
            "        scores for that label only.\n",
            "    \n",
            "    average : {'micro', 'macro', 'samples', 'weighted', 'binary'} or None,             default='binary'\n",
            "        This parameter is required for multiclass/multilabel targets.\n",
            "        If ``None``, the scores for each class are returned. Otherwise, this\n",
            "        determines the type of averaging performed on the data:\n",
            "    \n",
            "        ``'binary'``:\n",
            "            Only report results for the class specified by ``pos_label``.\n",
            "            This is applicable only if targets (``y_{true,pred}``) are binary.\n",
            "        ``'micro'``:\n",
            "            Calculate metrics globally by counting the total true positives,\n",
            "            false negatives and false positives.\n",
            "        ``'macro'``:\n",
            "            Calculate metrics for each label, and find their unweighted\n",
            "            mean.  This does not take label imbalance into account.\n",
            "        ``'weighted'``:\n",
            "            Calculate metrics for each label, and find their average weighted\n",
            "            by support (the number of true instances for each label). This\n",
            "            alters 'macro' to account for label imbalance; it can result in an\n",
            "            F-score that is not between precision and recall.\n",
            "        ``'samples'``:\n",
            "            Calculate metrics for each instance, and find their average (only\n",
            "            meaningful for multilabel classification where this differs from\n",
            "            :func:`accuracy_score`).\n",
            "    \n",
            "    sample_weight : array-like of shape (n_samples,), default=None\n",
            "        Sample weights.\n",
            "    \n",
            "    zero_division : \"warn\", 0 or 1, default=\"warn\"\n",
            "        Sets the value to return when there is a zero division, i.e. when all\n",
            "        predictions and labels are negative. If set to \"warn\", this acts as 0,\n",
            "        but warnings are also raised.\n",
            "    \n",
            "    Returns\n",
            "    -------\n",
            "    f1_score : float or array of float, shape = [n_unique_labels]\n",
            "        F1 score of the positive class in binary classification or weighted\n",
            "        average of the F1 scores of each class for the multiclass task.\n",
            "    \n",
            "    See Also\n",
            "    --------\n",
            "    fbeta_score : Compute the F-beta score.\n",
            "    precision_recall_fscore_support : Compute the precision, recall, F-score,\n",
            "        and support.\n",
            "    jaccard_score : Compute the Jaccard similarity coefficient score.\n",
            "    multilabel_confusion_matrix : Compute a confusion matrix for each class or\n",
            "        sample.\n",
            "    \n",
            "    Notes\n",
            "    -----\n",
            "    When ``true positive + false positive == 0``, precision is undefined.\n",
            "    When ``true positive + false negative == 0``, recall is undefined.\n",
            "    In such cases, by default the metric will be set to 0, as will f-score,\n",
            "    and ``UndefinedMetricWarning`` will be raised. This behavior can be\n",
            "    modified with ``zero_division``.\n",
            "    \n",
            "    References\n",
            "    ----------\n",
            "    .. [1] `Wikipedia entry for the F1-score\n",
            "           <https://en.wikipedia.org/wiki/F1_score>`_.\n",
            "    \n",
            "    Examples\n",
            "    --------\n",
            "    >>> from sklearn.metrics import f1_score\n",
            "    >>> y_true = [0, 1, 2, 0, 1, 2]\n",
            "    >>> y_pred = [0, 2, 1, 0, 0, 1]\n",
            "    >>> f1_score(y_true, y_pred, average='macro')\n",
            "    0.26...\n",
            "    >>> f1_score(y_true, y_pred, average='micro')\n",
            "    0.33...\n",
            "    >>> f1_score(y_true, y_pred, average='weighted')\n",
            "    0.26...\n",
            "    >>> f1_score(y_true, y_pred, average=None)\n",
            "    array([0.8, 0. , 0. ])\n",
            "    >>> y_true = [0, 0, 0, 0, 0, 0]\n",
            "    >>> y_pred = [0, 0, 0, 0, 0, 0]\n",
            "    >>> f1_score(y_true, y_pred, zero_division=1)\n",
            "    1.0...\n",
            "    >>> # multilabel classification\n",
            "    >>> y_true = [[0, 0, 0], [1, 1, 1], [0, 1, 1]]\n",
            "    >>> y_pred = [[0, 0, 0], [1, 1, 1], [1, 1, 0]]\n",
            "    >>> f1_score(y_true, y_pred, average=None)\n",
            "    array([0.66666667, 1.        , 0.66666667])\n",
            "\n",
            "None\n"
          ]
        }
      ]
    },
    {
      "cell_type": "markdown",
      "source": [
        "####  학습, 검증 성능 확인 함수"
      ],
      "metadata": {
        "id": "V01Jr9WSuAxx"
      }
    },
    {
      "cell_type": "markdown",
      "source": [
        "학습 데이터에 대한 모형 성능도 같이 확인하여 모형의 과대적합 여부 확인"
      ],
      "metadata": {
        "id": "n0_Ki7M0_Xmx"
      }
    },
    {
      "cell_type": "code",
      "source": [
        "def get_scores(model, X_tr, X_val, y_tr, y_val):\n",
        "  y_tr_pred = model.predict(X_tr)\n",
        "  y_val_pred = model.predict(X_val)\n",
        "  tr_score = f1_score(y_tr, y_tr_pred, average='macro')\n",
        "  val_score = f1_score(y_val, y_val_pred, average='macro')\n",
        "\n",
        "  return f'train: {round(tr_score, 4)}, valid: {round(val_score, 4)}'"
      ],
      "metadata": {
        "id": "d44zoT0j_dzB"
      },
      "execution_count": null,
      "outputs": []
    },
    {
      "cell_type": "code",
      "source": [
        "print('Random Forest \\t-', get_scores(modelRF, X_tr, X_val, y_tr, y_val))\n",
        "print('XGBoost \\t-', get_scores(modelXGB, X_tr, X_val, y_tr, y_val))"
      ],
      "metadata": {
        "colab": {
          "base_uri": "https://localhost:8080/"
        },
        "id": "OBtE9N_nutsV",
        "outputId": "532a55c5-c3af-406d-c860-f5887e6a7ec8"
      },
      "execution_count": null,
      "outputs": [
        {
          "output_type": "stream",
          "name": "stdout",
          "text": [
            "Random Forest \t- train: 0.942, valid: 0.4706\n",
            "XGBoost \t- train: 0.783, valid: 0.5038\n"
          ]
        }
      ]
    },
    {
      "cell_type": "markdown",
      "source": [
        "####  하이퍼 파라미터 튜닝"
      ],
      "metadata": {
        "id": "cAToCWTrvTbU"
      }
    },
    {
      "cell_type": "code",
      "source": [
        "modelXGB2 = XGBClassifier(n_estimators=50, max_depth=3, min_child_weight=1, random_state=123)\n",
        "modelXGB2.fit(X_tr, y_tr)\n",
        "\n",
        "modelXGB3 = XGBClassifier(n_estimators=50, max_depth=3, min_child_weight=2, random_state=123)\n",
        "modelXGB3.fit(X_tr, y_tr)\n",
        "\n",
        "modelXGB4 = XGBClassifier(n_estimators=50, max_depth=5, min_child_weight=1, random_state=123)\n",
        "modelXGB4.fit(X_tr, y_tr)\n",
        "\n",
        "modelXGB5 = XGBClassifier(n_estimators=100, max_depth=5, min_child_weight=1, random_state=123)\n",
        "modelXGB5.fit(X_tr, y_tr)\n",
        "\n",
        "print('XGBoost2 \\t-', get_scores(modelXGB2, X_tr, X_val, y_tr, y_val))\n",
        "print('XGBoost3 \\t-', get_scores(modelXGB3, X_tr, X_val, y_tr, y_val))\n",
        "print('XGBoost4 \\t-', get_scores(modelXGB4, X_tr, X_val, y_tr, y_val))\n",
        "print('XGBoost5 \\t-', get_scores(modelXGB5, X_tr, X_val, y_tr, y_val))"
      ],
      "metadata": {
        "id": "i938SQzFwher"
      },
      "execution_count": null,
      "outputs": []
    },
    {
      "cell_type": "markdown",
      "source": [
        "####  최종 결과값 생성"
      ],
      "metadata": {
        "id": "vUWem8hAk5ra"
      }
    },
    {
      "cell_type": "code",
      "source": [
        "pred = modelXGB.predict(X_test[COL_NUM+COL_CAT])\n",
        "\n",
        "### XGBoost 최신 버전에서 발생하는 y 데이터의 Label오류 해결을 위한 추가 코드\n",
        "pred = y_le.inverse_transform(pred)\n",
        "\n",
        "result = pd.DataFrame({'ID': X_test.ID, 'Segmentation': pred})\n",
        "print(result.head())"
      ],
      "metadata": {
        "id": "OWGhL_-ujwB8"
      },
      "execution_count": null,
      "outputs": []
    },
    {
      "cell_type": "code",
      "source": [
        "## 최종 결과 확인 후 to_csv 함수로 제출\n",
        "# result.to_csv('003000000.csv', index=False)"
      ],
      "metadata": {
        "id": "NKmm1YIPllu_"
      },
      "execution_count": null,
      "outputs": []
    }
  ]
}
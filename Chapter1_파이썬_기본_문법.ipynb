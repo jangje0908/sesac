{
  "nbformat": 4,
  "nbformat_minor": 0,
  "metadata": {
    "colab": {
      "provenance": [],
      "collapsed_sections": [
        "VlxAG5wKzrSm",
        "bvJK0Lnazt_P",
        "oHRETlrfz0BT",
        "tRHEdKUIz7OR",
        "v-jUHt_7uBWn",
        "sWMXEayDuc52",
        "IpIgLxqFFed9",
        "_IewLf4oFr7O",
        "se0ATYC4jvUX",
        "yLP27PoIQ9o1",
        "FHVTDtYySEOC",
        "od1sPrCnWcQB"
      ],
      "toc_visible": true,
      "include_colab_link": true
    },
    "kernelspec": {
      "name": "python3",
      "display_name": "Python 3"
    },
    "language_info": {
      "name": "python"
    }
  },
  "cells": [
    {
      "cell_type": "markdown",
      "metadata": {
        "id": "view-in-github",
        "colab_type": "text"
      },
      "source": [
        "<a href=\"https://colab.research.google.com/github/jangje0908/sesac_practice/blob/main/Chapter1_%ED%8C%8C%EC%9D%B4%EC%8D%AC_%EA%B8%B0%EB%B3%B8_%EB%AC%B8%EB%B2%95.ipynb\" target=\"_parent\"><img src=\"https://colab.research.google.com/assets/colab-badge.svg\" alt=\"Open In Colab\"/></a>"
      ]
    },
    {
      "cell_type": "markdown",
      "source": [
        "# **Chapter 1. 파이썬 기본 문법**"
      ],
      "metadata": {
        "id": "nHcOnSJfzaMx"
      }
    },
    {
      "cell_type": "markdown",
      "source": [
        "## 1. 파이썬이란?"
      ],
      "metadata": {
        "id": "VlxAG5wKzrSm"
      }
    },
    {
      "cell_type": "markdown",
      "source": [
        "### (1) 파이썬 개요"
      ],
      "metadata": {
        "id": "Z64yqSjk2BAc"
      }
    },
    {
      "cell_type": "markdown",
      "source": [
        "### (2) 파이썬 특징"
      ],
      "metadata": {
        "id": "BHad9D3_2C7D"
      }
    },
    {
      "cell_type": "markdown",
      "source": [
        "## 2. 파이썬 실습 준비하기"
      ],
      "metadata": {
        "id": "bvJK0Lnazt_P"
      }
    },
    {
      "cell_type": "markdown",
      "source": [
        "### (1) 실습 환경 구성"
      ],
      "metadata": {
        "id": "-Qp2pf9O2F4d"
      }
    },
    {
      "cell_type": "markdown",
      "source": [
        "### (2) Google Colab 둘러보기"
      ],
      "metadata": {
        "id": "Qh5H9pTt2HeS"
      }
    },
    {
      "cell_type": "markdown",
      "source": [
        "### (3) Github & Colab 환경 구성"
      ],
      "metadata": {
        "id": "pBoei4GMYPSz"
      }
    },
    {
      "cell_type": "markdown",
      "source": [
        "#### 1. 소스 및 데이터 동기화"
      ],
      "metadata": {
        "id": "vsoHppZWUSQS"
      }
    },
    {
      "cell_type": "code",
      "source": [
        "!git clone https://github.com/AnalyticsKnight/yemoonsaBigdata/"
      ],
      "metadata": {
        "colab": {
          "base_uri": "https://localhost:8080/"
        },
        "id": "IlN-naU0UaAD",
        "outputId": "57b32113-e480-461f-a11e-8ad61508ce23"
      },
      "execution_count": null,
      "outputs": [
        {
          "output_type": "stream",
          "name": "stdout",
          "text": [
            "Cloning into 'yemoonsaBigdata'...\n",
            "remote: Enumerating objects: 637, done.\u001b[K\n",
            "remote: Counting objects: 100% (276/276), done.\u001b[K\n",
            "remote: Compressing objects: 100% (167/167), done.\u001b[K\n",
            "remote: Total 637 (delta 137), reused 184 (delta 109), pack-reused 361\u001b[K\n",
            "Receiving objects: 100% (637/637), 10.76 MiB | 19.54 MiB/s, done.\n",
            "Resolving deltas: 100% (321/321), done.\n"
          ]
        }
      ]
    },
    {
      "cell_type": "markdown",
      "source": [
        "## 3. 파이썬 자료형"
      ],
      "metadata": {
        "id": "oHRETlrfz0BT"
      }
    },
    {
      "cell_type": "markdown",
      "source": [
        "### (1) 숫자형"
      ],
      "metadata": {
        "id": "tRHEdKUIz7OR"
      }
    },
    {
      "cell_type": "markdown",
      "source": [
        "#### 정수형 + 실수형"
      ],
      "metadata": {
        "id": "v-jUHt_7uBWn"
      }
    },
    {
      "cell_type": "code",
      "execution_count": null,
      "metadata": {
        "colab": {
          "base_uri": "https://localhost:8080/"
        },
        "id": "iH_9vsFrzZZL",
        "outputId": "824ea030-ab20-483e-fd46-48a981f33e6d"
      },
      "outputs": [
        {
          "output_type": "stream",
          "name": "stdout",
          "text": [
            "1234 -12.34\n",
            "<class 'int'> <class 'float'>\n",
            "1221.66\n",
            "<class 'float'>\n"
          ]
        }
      ],
      "source": [
        "a = 1234\n",
        "b = -12.34\n",
        "c = a + b\n",
        "\n",
        "print(a, b)\n",
        "print(type(a), type(b))\n",
        "print(c)\n",
        "print(type(c))"
      ]
    },
    {
      "cell_type": "markdown",
      "source": [
        "#### 사칙연산 기능"
      ],
      "metadata": {
        "id": "sWMXEayDuc52"
      }
    },
    {
      "cell_type": "code",
      "source": [
        "a = 3\n",
        "b = 7\n",
        "\n",
        "print(a + b)\n",
        "print(a - b)\n",
        "print(a * b)\n",
        "print(a / b)\n",
        "print(a ** b)\n",
        "print(a % b)\n",
        "print(a // b)"
      ],
      "metadata": {
        "colab": {
          "base_uri": "https://localhost:8080/"
        },
        "id": "DDAqTH7p0DQg",
        "outputId": "8b6bb327-e418-4041-9ba2-18aa4c7849f8"
      },
      "execution_count": null,
      "outputs": [
        {
          "output_type": "stream",
          "name": "stdout",
          "text": [
            "10\n",
            "-4\n",
            "21\n",
            "0.42857142857142855\n",
            "2187\n",
            "3\n",
            "0\n"
          ]
        }
      ]
    },
    {
      "cell_type": "markdown",
      "source": [
        "### (2) 문자열 자료형"
      ],
      "metadata": {
        "id": "aRLGCbPM12NZ"
      }
    },
    {
      "cell_type": "markdown",
      "source": [
        "#### 문자열 자료형"
      ],
      "metadata": {
        "id": "Lpq9c_6bz5vA"
      }
    },
    {
      "cell_type": "code",
      "source": [
        "a = \"Hello World\"\n",
        "b = \"Hello Python's World\"\n",
        "c = '\"Hello World.\" he says.'\n",
        "d = \"Hello World\\nLife is good\"\n",
        "\n",
        "print(a)\n",
        "print(b)\n",
        "print(c)\n",
        "print(d)"
      ],
      "metadata": {
        "id": "Hlxq_ngH1MHm",
        "colab": {
          "base_uri": "https://localhost:8080/"
        },
        "outputId": "b38a312a-b38c-4083-a730-9693f4990c41"
      },
      "execution_count": null,
      "outputs": [
        {
          "output_type": "stream",
          "name": "stdout",
          "text": [
            "Hello World\n",
            "Hello Python's World\n",
            "\"Hello World.\" he says.\n",
            "Hello World\n",
            "Life is good\n"
          ]
        }
      ]
    },
    {
      "cell_type": "markdown",
      "source": [
        "#### 문자열 더하기"
      ],
      "metadata": {
        "id": "g1fwGH-D2mSX"
      }
    },
    {
      "cell_type": "code",
      "source": [
        "a = \"Python\"\n",
        "b = \" \"\n",
        "c = \"is good.\"\n",
        "\n",
        "print(a + b + c)"
      ],
      "metadata": {
        "colab": {
          "base_uri": "https://localhost:8080/"
        },
        "id": "Xd_GaCmo1NuG",
        "outputId": "ee24cc3a-b756-4aee-a406-46cc9bcf2eb9"
      },
      "execution_count": null,
      "outputs": [
        {
          "output_type": "stream",
          "name": "stdout",
          "text": [
            "Python is good.\n"
          ]
        }
      ]
    },
    {
      "cell_type": "markdown",
      "source": [
        "#### 문자열 곱하기"
      ],
      "metadata": {
        "id": "XA--zT-r3dSM"
      }
    },
    {
      "cell_type": "code",
      "source": [
        "a = \"Python\"\n",
        "\n",
        "print(a*3)"
      ],
      "metadata": {
        "colab": {
          "base_uri": "https://localhost:8080/"
        },
        "id": "5-iEfrDv20a2",
        "outputId": "598db6a9-1b24-4e9c-d79d-e4df264cc733"
      },
      "execution_count": null,
      "outputs": [
        {
          "output_type": "stream",
          "name": "stdout",
          "text": [
            "PythonPythonPython\n"
          ]
        }
      ]
    },
    {
      "cell_type": "markdown",
      "source": [
        "#### 문자열 길이 구하기"
      ],
      "metadata": {
        "id": "LrXLn1Qj3ya8"
      }
    },
    {
      "cell_type": "code",
      "source": [
        "a = \"Life is short, Python is valuable\"\n",
        "b = len(a)\n",
        "\n",
        "print(b)"
      ],
      "metadata": {
        "colab": {
          "base_uri": "https://localhost:8080/"
        },
        "id": "zLo0ShGY3ixO",
        "outputId": "bc6bfe7f-f5d1-4653-be80-811d46c5209b"
      },
      "execution_count": null,
      "outputs": [
        {
          "output_type": "stream",
          "name": "stdout",
          "text": [
            "33\n"
          ]
        }
      ]
    },
    {
      "cell_type": "markdown",
      "source": [
        "#### 문자열 인덱싱"
      ],
      "metadata": {
        "id": "tvdIs2c64xCq"
      }
    },
    {
      "cell_type": "code",
      "source": [
        "a = \"Life is short, Python is valuable\"\n",
        "b = a[0]\n",
        "c = a[10]\n",
        "d = a[-8]\n",
        "e = a[-1]\n",
        "\n",
        "print(b + c + d + e)"
      ],
      "metadata": {
        "colab": {
          "base_uri": "https://localhost:8080/"
        },
        "id": "E0PJisWz4jVb",
        "outputId": "2aed1f3d-d26e-46c9-b50f-35f83a58ce1c"
      },
      "execution_count": null,
      "outputs": [
        {
          "output_type": "stream",
          "name": "stdout",
          "text": [
            "Love\n"
          ]
        }
      ]
    },
    {
      "cell_type": "markdown",
      "source": [
        "#### 문자열 슬라이싱"
      ],
      "metadata": {
        "id": "03qpb4u77tWF"
      }
    },
    {
      "cell_type": "code",
      "source": [
        "a = \"Life is short, Python is valuable\"\n",
        "b = a[:4]\n",
        "c = a[4:8]\n",
        "d = a[25:]\n",
        "\n",
        "print(b + c + d)"
      ],
      "metadata": {
        "colab": {
          "base_uri": "https://localhost:8080/"
        },
        "id": "cfjP4vCE6Gi1",
        "outputId": "62c67e8d-1b91-4755-9da7-cc3a669446b4"
      },
      "execution_count": null,
      "outputs": [
        {
          "output_type": "stream",
          "name": "stdout",
          "text": [
            "Life is valuable\n"
          ]
        }
      ]
    },
    {
      "cell_type": "markdown",
      "source": [
        "#### 문자 개수 세기"
      ],
      "metadata": {
        "id": "bn_KlTjE-LHA"
      }
    },
    {
      "cell_type": "code",
      "source": [
        "a = \"apple\"\n",
        "b = a.count('p')\n",
        "\n",
        "print(b)"
      ],
      "metadata": {
        "colab": {
          "base_uri": "https://localhost:8080/"
        },
        "id": "wt0fMJy18gWO",
        "outputId": "c7d9dd59-0ee0-4d3f-e662-117d3e7cf35f"
      },
      "execution_count": null,
      "outputs": [
        {
          "output_type": "stream",
          "name": "stdout",
          "text": [
            "2\n"
          ]
        }
      ]
    },
    {
      "cell_type": "markdown",
      "source": [
        "#### 문자 위치 찾기"
      ],
      "metadata": {
        "id": "wZmrnyk9_czI"
      }
    },
    {
      "cell_type": "code",
      "source": [
        "a = \"apple\"\n",
        "b = a.find('p')\n",
        "\n",
        "print(b)"
      ],
      "metadata": {
        "colab": {
          "base_uri": "https://localhost:8080/"
        },
        "id": "2x16bCiL9kFB",
        "outputId": "d5f7dab1-9cc3-4190-a967-6d378a5e046f"
      },
      "execution_count": null,
      "outputs": [
        {
          "output_type": "stream",
          "name": "stdout",
          "text": [
            "1\n"
          ]
        }
      ]
    },
    {
      "cell_type": "markdown",
      "source": [
        "#### 문자열 삽입"
      ],
      "metadata": {
        "id": "-vc_XIoP_rp-"
      }
    },
    {
      "cell_type": "code",
      "source": [
        "a = \"apple\"\n",
        "b = ','.join(a)\n",
        "\n",
        "print(b)"
      ],
      "metadata": {
        "colab": {
          "base_uri": "https://localhost:8080/"
        },
        "id": "k9Cj5lLl_jIA",
        "outputId": "71e03289-89c6-4e59-acc9-2cd838fd7a86"
      },
      "execution_count": null,
      "outputs": [
        {
          "output_type": "stream",
          "name": "stdout",
          "text": [
            "a,p,p,l,e\n"
          ]
        }
      ]
    },
    {
      "cell_type": "code",
      "source": [
        "a = \"apple\"\n",
        "b = '.'.join(a)\n",
        "\n",
        "print(b)"
      ],
      "metadata": {
        "colab": {
          "base_uri": "https://localhost:8080/"
        },
        "id": "0fsx1vPA5OWQ",
        "outputId": "59859a7c-cd03-4313-dff2-9bac941588e3"
      },
      "execution_count": null,
      "outputs": [
        {
          "output_type": "stream",
          "name": "stdout",
          "text": [
            "a.p.p.l.e\n"
          ]
        }
      ]
    },
    {
      "cell_type": "markdown",
      "source": [
        "#### 소문자와 대문자 바꾸기"
      ],
      "metadata": {
        "id": "tu0YI6NLAKGI"
      }
    },
    {
      "cell_type": "code",
      "source": [
        "a = \"apple\"\n",
        "b = a.upper()\n",
        "c = b.lower()\n",
        "\n",
        "print(b)\n",
        "print(c)"
      ],
      "metadata": {
        "id": "dACsB34tANEW",
        "colab": {
          "base_uri": "https://localhost:8080/"
        },
        "outputId": "87fc7bf4-3064-4142-97a2-154c6bf28f84"
      },
      "execution_count": null,
      "outputs": [
        {
          "output_type": "stream",
          "name": "stdout",
          "text": [
            "APPLE\n",
            "apple\n"
          ]
        }
      ]
    },
    {
      "cell_type": "markdown",
      "source": [
        "#### 공백 지우기"
      ],
      "metadata": {
        "id": "OJY1AA-HArb1"
      }
    },
    {
      "cell_type": "code",
      "source": [
        "a = \" apple \"\n",
        "b = a.lstrip()\n",
        "c = a.rstrip()\n",
        "d = a.strip()\n",
        "\n",
        "print(b)\n",
        "print(c)\n",
        "print(d)"
      ],
      "metadata": {
        "colab": {
          "base_uri": "https://localhost:8080/"
        },
        "id": "UpOFQSeDASJp",
        "outputId": "161a881b-e8c4-4785-ff45-edb3aaac9691"
      },
      "execution_count": null,
      "outputs": [
        {
          "output_type": "stream",
          "name": "stdout",
          "text": [
            "apple \n",
            " apple\n",
            "apple\n"
          ]
        }
      ]
    },
    {
      "cell_type": "markdown",
      "source": [
        "#### 문자열 바꾸기"
      ],
      "metadata": {
        "id": "Tvxk4GQrBLX9"
      }
    },
    {
      "cell_type": "code",
      "source": [
        "a = \"Life is good\"\n",
        "b = a.replace(\"Life\", \"Python\")\n",
        "\n",
        "print(b)"
      ],
      "metadata": {
        "colab": {
          "base_uri": "https://localhost:8080/"
        },
        "id": "ypB_gl81A3cA",
        "outputId": "cfab7100-297c-49db-b4f8-77235e5853cb"
      },
      "execution_count": null,
      "outputs": [
        {
          "output_type": "stream",
          "name": "stdout",
          "text": [
            "Python is good\n"
          ]
        }
      ]
    },
    {
      "cell_type": "markdown",
      "source": [
        "#### 문자열 나누기"
      ],
      "metadata": {
        "id": "QZj8uMdsBh07"
      }
    },
    {
      "cell_type": "code",
      "source": [
        "a = \"Life is short, Python is valuable\"\n",
        "b = a.split()\n",
        "c = a.split(',')\n",
        "\n",
        "print(b)\n",
        "print(c)"
      ],
      "metadata": {
        "colab": {
          "base_uri": "https://localhost:8080/"
        },
        "id": "q0E-3QGxBXKI",
        "outputId": "29dade55-59a4-47e1-8921-299f31647cf2"
      },
      "execution_count": null,
      "outputs": [
        {
          "output_type": "stream",
          "name": "stdout",
          "text": [
            "['Life', 'is', 'short,', 'Python', 'is', 'valuable']\n",
            "['Life is short', ' Python is valuable']\n"
          ]
        }
      ]
    },
    {
      "cell_type": "markdown",
      "source": [
        "###(3) 리스트 자료형"
      ],
      "metadata": {
        "id": "N7lU0zhLFHI5"
      }
    },
    {
      "cell_type": "markdown",
      "source": [
        "#### 리스트 기본 연산"
      ],
      "metadata": {
        "id": "GTs0DA8NI-iI"
      }
    },
    {
      "cell_type": "code",
      "source": [
        "a = [1, 2, 3, 4, 5]\n",
        "b = ['a', 'b', 'c']\n",
        "c = a * 2 + b\n",
        "d = len(c)\n",
        "\n",
        "print(c)\n",
        "print(d)"
      ],
      "metadata": {
        "colab": {
          "base_uri": "https://localhost:8080/"
        },
        "id": "dTRCqgrmJMrc",
        "outputId": "d7d48a53-da8a-4203-be35-9e372f452060"
      },
      "execution_count": null,
      "outputs": [
        {
          "output_type": "stream",
          "name": "stdout",
          "text": [
            "[1, 2, 3, 4, 5, 1, 2, 3, 4, 5, 'a', 'b', 'c']\n",
            "13\n"
          ]
        }
      ]
    },
    {
      "cell_type": "markdown",
      "source": [
        "#### 리스트 인덱싱과 슬라이싱"
      ],
      "metadata": {
        "id": "ihHY0gwSGDHE"
      }
    },
    {
      "cell_type": "code",
      "source": [
        "a = [1, 2, 3, 4, 5]\n",
        "\n",
        "print(a)\n",
        "print(a[0])\n",
        "print(a[1:4])\n",
        "print(a[-1])\n",
        "print(a[4])\n",
        "print(a[2:])\n",
        "print(a[2:5])\n",
        "print(a[:3])\n",
        "print(a[0:3])"
      ],
      "metadata": {
        "colab": {
          "base_uri": "https://localhost:8080/"
        },
        "id": "Togi0VbwGI20",
        "outputId": "c5f912fe-258e-44c9-e211-9b02f86f0a0e"
      },
      "execution_count": null,
      "outputs": [
        {
          "output_type": "stream",
          "name": "stdout",
          "text": [
            "[1, 2, 3, 4, 5]\n",
            "1\n",
            "[2, 3, 4]\n",
            "5\n",
            "5\n",
            "[3, 4, 5]\n",
            "[3, 4, 5]\n",
            "[1, 2, 3]\n",
            "[1, 2, 3]\n"
          ]
        }
      ]
    },
    {
      "cell_type": "markdown",
      "source": [
        "#### 중첩된 리스트 인덱싱과 슬라이싱"
      ],
      "metadata": {
        "id": "mSZRjP0YHrle"
      }
    },
    {
      "cell_type": "code",
      "source": [
        "a = [1, 2, 3, ['a', 'b', 'c']]\n",
        "\n",
        "print(a)\n",
        "print(a[3])\n",
        "print(a[3][0])\n",
        "print(a[3][1:])\n",
        "print(a[3][:1])"
      ],
      "metadata": {
        "colab": {
          "base_uri": "https://localhost:8080/"
        },
        "id": "GkU4agCnHpp4",
        "outputId": "75d97025-aec0-45b6-c8e1-6eb51ec96324"
      },
      "execution_count": null,
      "outputs": [
        {
          "output_type": "stream",
          "name": "stdout",
          "text": [
            "[1, 2, 3, ['a', 'b', 'c']]\n",
            "['a', 'b', 'c']\n",
            "a\n",
            "['b', 'c']\n",
            "['a']\n"
          ]
        }
      ]
    },
    {
      "cell_type": "markdown",
      "source": [
        "#### 리스트 요소의 수정과 삭제"
      ],
      "metadata": {
        "id": "Aqz8IwLcJ1VD"
      }
    },
    {
      "cell_type": "code",
      "source": [
        "a = [1, 2, 3, 4, 5]\n",
        "a[2] = 10\n",
        "del a[4]\n",
        "\n",
        "print(a)"
      ],
      "metadata": {
        "colab": {
          "base_uri": "https://localhost:8080/"
        },
        "id": "gA8yCc8bK_S0",
        "outputId": "74243d85-8d57-497a-eef3-2b87731494cc"
      },
      "execution_count": null,
      "outputs": [
        {
          "output_type": "stream",
          "name": "stdout",
          "text": [
            "[1, 2, 10, 4]\n"
          ]
        }
      ]
    },
    {
      "cell_type": "markdown",
      "source": [
        "#### 리스트 요소 추가"
      ],
      "metadata": {
        "id": "Y3PpNEDhLWxX"
      }
    },
    {
      "cell_type": "code",
      "source": [
        "a = [1, 2, 3]\n",
        "a.append(10)\n",
        "\n",
        "print(a)"
      ],
      "metadata": {
        "colab": {
          "base_uri": "https://localhost:8080/"
        },
        "id": "TIJu0EcmLWaB",
        "outputId": "5d9838fb-4c1d-48a3-c4ad-e092e4e9c6b0"
      },
      "execution_count": null,
      "outputs": [
        {
          "output_type": "stream",
          "name": "stdout",
          "text": [
            "[1, 2, 3, 10]\n"
          ]
        }
      ]
    },
    {
      "cell_type": "markdown",
      "source": [
        "#### 리스트 정렬"
      ],
      "metadata": {
        "id": "zKZBUBPGLsE6"
      }
    },
    {
      "cell_type": "code",
      "source": [
        "a = [1, 5, 2, 4, 3]\n",
        "a.sort()\n",
        "\n",
        "print(a)"
      ],
      "metadata": {
        "colab": {
          "base_uri": "https://localhost:8080/"
        },
        "id": "T3ivn9WTLvm6",
        "outputId": "57a5c5af-931a-4632-b649-8a94efd7019a"
      },
      "execution_count": null,
      "outputs": [
        {
          "output_type": "stream",
          "name": "stdout",
          "text": [
            "[1, 2, 3, 4, 5]\n"
          ]
        }
      ]
    },
    {
      "cell_type": "markdown",
      "source": [
        "#### 리스트 요소의 위치 반환"
      ],
      "metadata": {
        "id": "NQuc3bpMMReo"
      }
    },
    {
      "cell_type": "code",
      "source": [
        "a = [5, 4, 3, 2, 1]\n",
        "b = a.index(3)\n",
        "c = a.index(5)\n",
        "\n",
        "print(b)\n",
        "print(c)"
      ],
      "metadata": {
        "colab": {
          "base_uri": "https://localhost:8080/"
        },
        "id": "46yHorVCM1-H",
        "outputId": "98fe6ea7-9182-4956-aedb-2bfe198afc92"
      },
      "execution_count": null,
      "outputs": [
        {
          "output_type": "stream",
          "name": "stdout",
          "text": [
            "2\n",
            "0\n"
          ]
        }
      ]
    },
    {
      "cell_type": "markdown",
      "source": [
        "#### 리스트 요소 삽입"
      ],
      "metadata": {
        "id": "zrzdKyBmNuyX"
      }
    },
    {
      "cell_type": "code",
      "source": [
        "a = [1, 2, 3]\n",
        "a.insert(0, 10)\n",
        "\n",
        "print(a)"
      ],
      "metadata": {
        "colab": {
          "base_uri": "https://localhost:8080/"
        },
        "id": "0dKWynEPOIVw",
        "outputId": "de048279-aaf9-4930-dc56-27553f1a63a7"
      },
      "execution_count": null,
      "outputs": [
        {
          "output_type": "stream",
          "name": "stdout",
          "text": [
            "[10, 1, 2, 3]\n"
          ]
        }
      ]
    },
    {
      "cell_type": "markdown",
      "source": [
        "#### 리스트 요소 제거"
      ],
      "metadata": {
        "id": "DCPQ5rlfNxUD"
      }
    },
    {
      "cell_type": "code",
      "source": [
        "a = [5, 4, 3, 2, 1, 5, 4, 3, 2, 1]\n",
        "a.remove(4)\n",
        "\n",
        "print(a)"
      ],
      "metadata": {
        "colab": {
          "base_uri": "https://localhost:8080/"
        },
        "id": "atxVTDlxOcXZ",
        "outputId": "962b7299-9f7d-45ed-9fe3-5e4f32075a24"
      },
      "execution_count": null,
      "outputs": [
        {
          "output_type": "stream",
          "name": "stdout",
          "text": [
            "[5, 3, 2, 1, 5, 4, 3, 2, 1]\n"
          ]
        }
      ]
    },
    {
      "cell_type": "markdown",
      "source": [
        "#### 리스트 요소 뽑기"
      ],
      "metadata": {
        "id": "d429PWgyNzIr"
      }
    },
    {
      "cell_type": "code",
      "source": [
        "a = [5, 4, 3, 2, 1, 5, 4, 3, 2, 1]\n",
        "b = a.pop(1)\n",
        "\n",
        "print(a)\n",
        "print(b)"
      ],
      "metadata": {
        "colab": {
          "base_uri": "https://localhost:8080/"
        },
        "id": "yhZAwZzVO2ns",
        "outputId": "ddc9a7e8-a6f4-44a9-f72b-6a6388dc694c"
      },
      "execution_count": null,
      "outputs": [
        {
          "output_type": "stream",
          "name": "stdout",
          "text": [
            "[5, 3, 2, 1, 5, 4, 3, 2, 1]\n",
            "4\n"
          ]
        }
      ]
    },
    {
      "cell_type": "markdown",
      "source": [
        "#### 리스트 요소 개수 세기"
      ],
      "metadata": {
        "id": "YNYziNIvOGnF"
      }
    },
    {
      "cell_type": "code",
      "source": [
        "a = [5, 4, 3, 2, 1, 5, 4, 3, 2, 1]\n",
        "b = a.count(1)\n",
        "\n",
        "print(b)"
      ],
      "metadata": {
        "colab": {
          "base_uri": "https://localhost:8080/"
        },
        "id": "6KYg8n1fPPWx",
        "outputId": "ae1a2b3f-6713-4f19-bd02-d509de431a94"
      },
      "execution_count": null,
      "outputs": [
        {
          "output_type": "stream",
          "name": "stdout",
          "text": [
            "2\n"
          ]
        }
      ]
    },
    {
      "cell_type": "markdown",
      "source": [
        "###(4) 튜플 자료형"
      ],
      "metadata": {
        "id": "uMSVZ9VYFNje"
      }
    },
    {
      "cell_type": "markdown",
      "source": [
        "#### 튜플 기본 연산"
      ],
      "metadata": {
        "id": "YP0DJQY9SYg4"
      }
    },
    {
      "cell_type": "code",
      "source": [
        "a = (1, 2, 3, 4, 5)\n",
        "b = ('a', 'b', 'c')\n",
        "c = a * 2 + b\n",
        "d = len(c)\n",
        "\n",
        "print(c)\n",
        "print(d)"
      ],
      "metadata": {
        "colab": {
          "base_uri": "https://localhost:8080/"
        },
        "id": "7nNmynhUSbYI",
        "outputId": "aaafff45-fd23-4246-c6d5-d39f8aac77e3"
      },
      "execution_count": null,
      "outputs": [
        {
          "output_type": "stream",
          "name": "stdout",
          "text": [
            "(1, 2, 3, 4, 5, 1, 2, 3, 4, 5, 'a', 'b', 'c')\n",
            "13\n"
          ]
        }
      ]
    },
    {
      "cell_type": "markdown",
      "source": [
        "#### 튜플 인덱싱과 슬라이싱"
      ],
      "metadata": {
        "id": "vhCiKw4iRze_"
      }
    },
    {
      "cell_type": "code",
      "source": [
        "a = (1, 2, 3, 'a', 'b', 'c')\n",
        "\n",
        "print(a[0])\n",
        "print(a[3:])"
      ],
      "metadata": {
        "colab": {
          "base_uri": "https://localhost:8080/"
        },
        "id": "i046H_N7R6t4",
        "outputId": "76eb45b8-ba89-44fe-8129-982c12a9b64b"
      },
      "execution_count": null,
      "outputs": [
        {
          "output_type": "stream",
          "name": "stdout",
          "text": [
            "1\n",
            "('a', 'b', 'c')\n"
          ]
        }
      ]
    },
    {
      "cell_type": "markdown",
      "source": [
        "###(5) 딕셔너리 자료형\n",
        "- 키(Key)와 값(Value)로 이루어진 자료형"
      ],
      "metadata": {
        "id": "yWx7FN5dFYw7"
      }
    },
    {
      "cell_type": "markdown",
      "source": [
        "#### 딕셔너리 자료 구조"
      ],
      "metadata": {
        "id": "GKxvTgRjXucQ"
      }
    },
    {
      "cell_type": "code",
      "source": [
        "a = {'name':'John', 'age':30, 'birth':[11, 8]}\n",
        "\n",
        "print(a)\n",
        "print(a['name'])\n",
        "print(a['birth'])"
      ],
      "metadata": {
        "colab": {
          "base_uri": "https://localhost:8080/"
        },
        "id": "gVMLICCIXt1P",
        "outputId": "a05d089a-8ea2-4023-9879-b285f03f92e4"
      },
      "execution_count": null,
      "outputs": [
        {
          "output_type": "stream",
          "name": "stdout",
          "text": [
            "{'name': 'John', 'age': 30, 'birth': [11, 8]}\n",
            "John\n",
            "[11, 8]\n"
          ]
        }
      ]
    },
    {
      "cell_type": "markdown",
      "source": [
        "#### 딕셔너리 키-값 추가와 삭제"
      ],
      "metadata": {
        "id": "_oZqZZhkaqnT"
      }
    },
    {
      "cell_type": "code",
      "source": [
        " a = {'name':'John'}\n",
        "a['age'] = 30\n",
        "a['house'] = 'apartment'\n",
        "a['birth'] = [11, 8]\n",
        "del a['house']\n",
        "\n",
        "print(a)"
      ],
      "metadata": {
        "colab": {
          "base_uri": "https://localhost:8080/"
        },
        "id": "-KtX0t4XYwdp",
        "outputId": "01f6e290-f50f-4a4e-b7b5-8c7f72257f46"
      },
      "execution_count": null,
      "outputs": [
        {
          "output_type": "stream",
          "name": "stdout",
          "text": [
            "{'name': 'John', 'age': 30, 'birth': [11, 8]}\n"
          ]
        }
      ]
    },
    {
      "cell_type": "markdown",
      "source": [
        "#### 딕셔너리 키 중복"
      ],
      "metadata": {
        "id": "ZWfbnuQ8awEK"
      }
    },
    {
      "cell_type": "code",
      "source": [
        "a = {'name':'John', 'name':'Park'}\n",
        "\n",
        "print(a)"
      ],
      "metadata": {
        "colab": {
          "base_uri": "https://localhost:8080/"
        },
        "id": "qht6D5eMayoB",
        "outputId": "31dcd3ba-8083-4231-91d7-459afe002133"
      },
      "execution_count": null,
      "outputs": [
        {
          "output_type": "stream",
          "name": "stdout",
          "text": [
            "{'name': 'Park'}\n"
          ]
        }
      ]
    },
    {
      "cell_type": "markdown",
      "source": [
        "#### 딕셔너리 키 리스트 만들기"
      ],
      "metadata": {
        "id": "C_APq-WJdyJ1"
      }
    },
    {
      "cell_type": "code",
      "source": [
        "a = {'name':'John', 'age':30, 'birth':[11, 8]}\n",
        "b = a.keys()\n",
        "c = list(a.keys())\n",
        "\n",
        "print(b)\n",
        "print(c)"
      ],
      "metadata": {
        "colab": {
          "base_uri": "https://localhost:8080/"
        },
        "id": "b8FnEaDrd0Yd",
        "outputId": "0a68b609-30e1-4ee8-d10c-3d33241b4dc7"
      },
      "execution_count": null,
      "outputs": [
        {
          "output_type": "stream",
          "name": "stdout",
          "text": [
            "dict_keys(['name', 'age', 'birth'])\n",
            "['name', 'age', 'birth']\n"
          ]
        }
      ]
    },
    {
      "cell_type": "markdown",
      "source": [
        "#### 딕셔너리 값 리스트 만들기"
      ],
      "metadata": {
        "id": "K7GJ2uaBeO6C"
      }
    },
    {
      "cell_type": "code",
      "source": [
        "a = {'name':'John', 'age':30, 'birth':[11, 8]}\n",
        "b = a.values()\n",
        "c = list(a.values())\n",
        "\n",
        "print(b)\n",
        "print(c)"
      ],
      "metadata": {
        "colab": {
          "base_uri": "https://localhost:8080/"
        },
        "id": "Z_3wrKrweSzc",
        "outputId": "63b7163c-2dee-47a3-b4ca-58faf949396e"
      },
      "execution_count": null,
      "outputs": [
        {
          "output_type": "stream",
          "name": "stdout",
          "text": [
            "dict_values(['John', 30, [11, 8]])\n",
            "['John', 30, [11, 8]]\n"
          ]
        }
      ]
    },
    {
      "cell_type": "markdown",
      "source": [
        "#### 딕셔너리 키-값 리스트 만들기"
      ],
      "metadata": {
        "id": "AWQ6mXpEel0H"
      }
    },
    {
      "cell_type": "code",
      "source": [
        "a = {'name':'John', 'age':30, 'birth':[11, 8]}\n",
        "b = a.items()\n",
        "c = list(a.items())\n",
        "\n",
        "print(b)\n",
        "print(c)"
      ],
      "metadata": {
        "colab": {
          "base_uri": "https://localhost:8080/"
        },
        "id": "ANLfqlj0eoSN",
        "outputId": "bff665e6-3e6e-4ed6-ccde-d803c4dd6cf7"
      },
      "execution_count": null,
      "outputs": [
        {
          "output_type": "stream",
          "name": "stdout",
          "text": [
            "dict_items([('name', 'John'), ('age', 30), ('birth', [11, 8])])\n",
            "[('name', 'John'), ('age', 30), ('birth', [11, 8])]\n"
          ]
        }
      ]
    },
    {
      "cell_type": "markdown",
      "source": [
        "#### 딕셔너리 키로 값 호출하기"
      ],
      "metadata": {
        "id": "09e_RJjJfYVh"
      }
    },
    {
      "cell_type": "code",
      "source": [
        "a = {'name':'John', 'age':30, 'birth':[11, 8]}\n",
        "b = a.get('name')\n",
        "c = a['name']\n",
        "d = a.get('house')\n",
        "e = a.get('house', 'No data')\n",
        "\n",
        "print(b)\n",
        "print(c)\n",
        "print(d)\n",
        "print(e)"
      ],
      "metadata": {
        "colab": {
          "base_uri": "https://localhost:8080/"
        },
        "id": "BVIiozo1fcB2",
        "outputId": "3c4a728b-5617-42cf-837d-8442c0e09189"
      },
      "execution_count": null,
      "outputs": [
        {
          "output_type": "stream",
          "name": "stdout",
          "text": [
            "John\n",
            "John\n",
            "None\n",
            "No data\n"
          ]
        }
      ]
    },
    {
      "cell_type": "markdown",
      "source": [
        "###(6) 집합 자료형"
      ],
      "metadata": {
        "id": "TcYV_3DgFctK"
      }
    },
    {
      "cell_type": "markdown",
      "source": [
        "#### 집합 자료형"
      ],
      "metadata": {
        "id": "SGmPXqr4xNAM"
      }
    },
    {
      "cell_type": "code",
      "source": [
        "a = {1, 2, 3, 2, 1}\n",
        "b = set([1, 2, 3, 2, 1])\n",
        "c = set(\"Python\")\n",
        "\n",
        "print(a)\n",
        "print(b)\n",
        "print(c)"
      ],
      "metadata": {
        "colab": {
          "base_uri": "https://localhost:8080/"
        },
        "id": "QaPNIV6ExTrx",
        "outputId": "2aae9233-61b5-4f9f-d1c1-650616318851"
      },
      "execution_count": null,
      "outputs": [
        {
          "output_type": "stream",
          "name": "stdout",
          "text": [
            "{1, 2, 3}\n",
            "{1, 2, 3}\n",
            "{'o', 'n', 'y', 't', 'P', 'h'}\n"
          ]
        }
      ]
    },
    {
      "cell_type": "markdown",
      "source": [
        "#### 집합 자료형 변환"
      ],
      "metadata": {
        "id": "G2LRRhnEx3tj"
      }
    },
    {
      "cell_type": "code",
      "source": [
        "a = set([1, 2, 3])\n",
        "b = list(a)\n",
        "c = tuple(a)\n",
        "\n",
        "print(a)\n",
        "print(b)\n",
        "print(b[0])\n",
        "print(c)\n",
        "print(c[2])"
      ],
      "metadata": {
        "colab": {
          "base_uri": "https://localhost:8080/"
        },
        "id": "NtQ1oyt2yCQ-",
        "outputId": "0f01461b-05e0-4280-8ca5-5b81c5404549"
      },
      "execution_count": null,
      "outputs": [
        {
          "output_type": "stream",
          "name": "stdout",
          "text": [
            "{1, 2, 3}\n",
            "[1, 2, 3]\n",
            "1\n",
            "(1, 2, 3)\n",
            "3\n"
          ]
        }
      ]
    },
    {
      "cell_type": "markdown",
      "source": [
        "#### 집합 자료형 교집합"
      ],
      "metadata": {
        "id": "a-YgO7XYzZ3q"
      }
    },
    {
      "cell_type": "code",
      "source": [
        "a = set([1, 2, 3, 4, 5])\n",
        "b = set([3, 4, 5, 6, 7])\n",
        "c = a & b\n",
        "d = a.intersection(b)\n",
        "\n",
        "print(c)\n",
        "print(d)"
      ],
      "metadata": {
        "colab": {
          "base_uri": "https://localhost:8080/"
        },
        "id": "ujPlAnw5zcp3",
        "outputId": "7548450e-1d04-4f21-f66c-fb0e091d9c5d"
      },
      "execution_count": null,
      "outputs": [
        {
          "output_type": "stream",
          "name": "stdout",
          "text": [
            "{3, 4, 5}\n",
            "{3, 4, 5}\n"
          ]
        }
      ]
    },
    {
      "cell_type": "markdown",
      "source": [
        "#### 집합 자료형 합집합"
      ],
      "metadata": {
        "id": "LBuoB6I-z7iZ"
      }
    },
    {
      "cell_type": "code",
      "source": [
        "a = set([1, 2, 3, 4, 5])\n",
        "b = set([3, 4, 5, 6, 7])\n",
        "c = a | b\n",
        "d = a.union(b)\n",
        "\n",
        "print(c)\n",
        "print(d)"
      ],
      "metadata": {
        "colab": {
          "base_uri": "https://localhost:8080/"
        },
        "id": "eDUXf0E4z90v",
        "outputId": "160b59b6-0b7e-4b38-91dc-579332a5adef"
      },
      "execution_count": null,
      "outputs": [
        {
          "output_type": "stream",
          "name": "stdout",
          "text": [
            "{1, 2, 3, 4, 5, 6, 7}\n",
            "{1, 2, 3, 4, 5, 6, 7}\n"
          ]
        }
      ]
    },
    {
      "cell_type": "markdown",
      "source": [
        "#### 집합 자료형 차집합"
      ],
      "metadata": {
        "id": "-hxv6iHx0Iho"
      }
    },
    {
      "cell_type": "code",
      "source": [
        "a = set([1, 2, 3, 4, 5])\n",
        "b = set([3, 4, 5, 6, 7])\n",
        "c = a - b\n",
        "d = a.difference(b)\n",
        "\n",
        "print(c)\n",
        "print(d)"
      ],
      "metadata": {
        "colab": {
          "base_uri": "https://localhost:8080/"
        },
        "id": "EN-iRfAR0LXB",
        "outputId": "c366d9b7-58b2-4225-e143-c36efb17b7a2"
      },
      "execution_count": null,
      "outputs": [
        {
          "output_type": "stream",
          "name": "stdout",
          "text": [
            "{1, 2}\n",
            "{1, 2}\n"
          ]
        }
      ]
    },
    {
      "cell_type": "markdown",
      "source": [
        "###(7) 논리 자료형\n",
        "- 참과 거짓을 나타내느 자료형\n",
        "- True(참) 또는 False(거짓)의 값만을 가질 수 있음\n",
        "- bool 함수를 사용하면 자료형의 참과 거짓 식별 가능"
      ],
      "metadata": {
        "id": "IpIgLxqFFed9"
      }
    },
    {
      "cell_type": "markdown",
      "source": [
        "#### 논리 자료형 특징"
      ],
      "metadata": {
        "id": "bUcqJVy-1FTZ"
      }
    },
    {
      "cell_type": "code",
      "source": [
        "a = True\n",
        "b = False\n",
        "\n",
        "print(a)\n",
        "print(type(a))\n",
        "print(b)\n",
        "print(type(b))\n",
        "print(a + b)\n",
        "print(type(a + b))\n",
        "print(a * b)\n",
        "print(type(a * b))"
      ],
      "metadata": {
        "colab": {
          "base_uri": "https://localhost:8080/"
        },
        "id": "BfItBgto1Hqk",
        "outputId": "2ef3980a-3f68-44ff-ce82-2e734c6442d2"
      },
      "execution_count": null,
      "outputs": [
        {
          "output_type": "stream",
          "name": "stdout",
          "text": [
            "True\n",
            "<class 'bool'>\n",
            "False\n",
            "<class 'bool'>\n",
            "1\n",
            "<class 'int'>\n",
            "0\n",
            "<class 'int'>\n"
          ]
        }
      ]
    },
    {
      "cell_type": "markdown",
      "source": [
        "##4. 파이썬 제어문"
      ],
      "metadata": {
        "id": "_IewLf4oFr7O"
      }
    },
    {
      "cell_type": "markdown",
      "source": [
        "###(1) if문"
      ],
      "metadata": {
        "id": "6fNzChnFFu-r"
      }
    },
    {
      "cell_type": "markdown",
      "source": [
        "#### 조건문 기본 구조"
      ],
      "metadata": {
        "id": "kE3WHI5GIxy0"
      }
    },
    {
      "cell_type": "code",
      "source": [
        "a = True\n",
        "\n",
        "if a:\n",
        "    print(\"가설은\")\n",
        "    print(\"사실이다\")\n",
        "else:\n",
        "    print(\"가설은\")\n",
        "    print(\"거짓이다\")"
      ],
      "metadata": {
        "colab": {
          "base_uri": "https://localhost:8080/"
        },
        "id": "aFarvhQuI0SR",
        "outputId": "b88cfb45-9e36-49f2-b3b5-30e6ced83139"
      },
      "execution_count": null,
      "outputs": [
        {
          "output_type": "stream",
          "name": "stdout",
          "text": [
            "가설은\n",
            "사실이다\n"
          ]
        }
      ]
    },
    {
      "cell_type": "markdown",
      "source": [
        "#### 조건문 비교 연산자"
      ],
      "metadata": {
        "id": "ve4pzezBQF09"
      }
    },
    {
      "cell_type": "code",
      "source": [
        "x = 3\n",
        "y = 7\n",
        "\n",
        "if x <= y:\n",
        "    print(\"x가 y보다 작거나 같다\")\n",
        "else:\n",
        "    print(\"x가 y보다 크다\")"
      ],
      "metadata": {
        "colab": {
          "base_uri": "https://localhost:8080/"
        },
        "id": "9zCH5_8ZI0IW",
        "outputId": "4632e235-fa3c-4e42-e515-07abec7a97af"
      },
      "execution_count": null,
      "outputs": [
        {
          "output_type": "stream",
          "name": "stdout",
          "text": [
            "x가 y보다 작거나 같다\n"
          ]
        }
      ]
    },
    {
      "cell_type": "markdown",
      "source": [
        "#### 조건문 and, or, not 연산자"
      ],
      "metadata": {
        "id": "E38BgqKDRlbe"
      }
    },
    {
      "cell_type": "code",
      "source": [
        "x = 3\n",
        "y = 7\n",
        "\n",
        "if x == y or x < y:\n",
        "    print(\"x가 y보다 작거나 같다\")\n",
        "else:\n",
        "    print(\"x가 y보다 크다\")"
      ],
      "metadata": {
        "colab": {
          "base_uri": "https://localhost:8080/"
        },
        "id": "krDItG7gRoi2",
        "outputId": "8e26c8f4-1292-42f7-e551-30f5a309d0a2"
      },
      "execution_count": null,
      "outputs": [
        {
          "output_type": "stream",
          "name": "stdout",
          "text": [
            "x가 y보다 작거나 같다\n"
          ]
        }
      ]
    },
    {
      "cell_type": "markdown",
      "source": [
        "#### 조건문 in, not in 연산자"
      ],
      "metadata": {
        "id": "er_KgflYSjzf"
      }
    },
    {
      "cell_type": "code",
      "source": [
        "x = 3\n",
        "y = [1, 2, 3, 4, 5]\n",
        "\n",
        "if x in y:\n",
        "    print(\"데이터가 존재한다\")\n",
        "else:\n",
        "    print(\"데이터가 존재하지 않는다\")"
      ],
      "metadata": {
        "colab": {
          "base_uri": "https://localhost:8080/"
        },
        "id": "ggaY0nwXSm4z",
        "outputId": "1fd2d9ee-8397-40d1-b64c-e77bc5380e4d"
      },
      "execution_count": null,
      "outputs": [
        {
          "output_type": "stream",
          "name": "stdout",
          "text": [
            "데이터가 존재한다\n"
          ]
        }
      ]
    },
    {
      "cell_type": "markdown",
      "source": [
        "#### elif 활용한 조건문 기본 구조"
      ],
      "metadata": {
        "id": "Q4t8EyyTUuJT"
      }
    },
    {
      "cell_type": "code",
      "source": [
        "x = 3\n",
        "y = 7\n",
        "\n",
        "if x == y:\n",
        "    print(\"x와 y는 같다\")\n",
        "elif x < y:\n",
        "    print(\"x가 y보다 작다\")\n",
        "else:\n",
        "    print(\"x가 y보다 크다\")"
      ],
      "metadata": {
        "colab": {
          "base_uri": "https://localhost:8080/"
        },
        "id": "ipFBgzfhUxr3",
        "outputId": "edec4f92-61a5-4311-e504-787c0307347c"
      },
      "execution_count": null,
      "outputs": [
        {
          "output_type": "stream",
          "name": "stdout",
          "text": [
            "x가 y보다 작다\n"
          ]
        }
      ]
    },
    {
      "cell_type": "markdown",
      "source": [
        "###(2) while문"
      ],
      "metadata": {
        "id": "n1IrvdSiFyHj"
      }
    },
    {
      "cell_type": "markdown",
      "source": [
        "#### while문 기본 구조"
      ],
      "metadata": {
        "id": "bGs1XsWcXTYJ"
      }
    },
    {
      "cell_type": "code",
      "source": [
        "a = 0\n",
        "\n",
        "while a < 5:\n",
        "    print(\"a값은 %s 입니다\" % a)\n",
        "    a = a + 1\n",
        "\n",
        "print(\"while문이 종료되었습니다\")"
      ],
      "metadata": {
        "colab": {
          "base_uri": "https://localhost:8080/"
        },
        "id": "ZP5Vj7IwXWQQ",
        "outputId": "8170f317-75c3-4bdb-e90a-35995858d631"
      },
      "execution_count": null,
      "outputs": [
        {
          "output_type": "stream",
          "name": "stdout",
          "text": [
            "a값은 0 입니다\n",
            "a값은 1 입니다\n",
            "a값은 2 입니다\n",
            "a값은 3 입니다\n",
            "a값은 4 입니다\n",
            "while문이 종료되었습니다\n"
          ]
        }
      ]
    },
    {
      "cell_type": "markdown",
      "source": [
        "#### while문 조건 변경"
      ],
      "metadata": {
        "id": "OAccdB4cavqd"
      }
    },
    {
      "cell_type": "code",
      "source": [
        "a = 0\n",
        "b = [\"사과\", \"바나나\", \"토마토\"]\n",
        "\n",
        "while a < len(b):\n",
        "    print(\"바구니에서 %s를 꺼냈습니다\" % b[a])\n",
        "    a = a + 1\n",
        "\n",
        "print(\"바구니에 아무것도 남아있지 않습니다\")"
      ],
      "metadata": {
        "colab": {
          "base_uri": "https://localhost:8080/"
        },
        "id": "bKW4EwT6a1Ku",
        "outputId": "48d05eac-2461-4f91-fcf1-964ca989b4b9"
      },
      "execution_count": null,
      "outputs": [
        {
          "output_type": "stream",
          "name": "stdout",
          "text": [
            "바구니에서 사과를 꺼냈습니다\n",
            "바구니에서 바나나를 꺼냈습니다\n",
            "바구니에서 토마토를 꺼냈습니다\n",
            "바구니에 아무것도 남아있지 않습니다\n"
          ]
        }
      ]
    },
    {
      "cell_type": "markdown",
      "source": [
        "#### while문 break 활용"
      ],
      "metadata": {
        "id": "MrzXQXyecGqd"
      }
    },
    {
      "cell_type": "code",
      "source": [
        "a = 5\n",
        "\n",
        "while a > 0:\n",
        "    print(\"a값은 %s 입니다\" % a)\n",
        "    a = a - 1\n",
        "\n",
        "    if a == 2:\n",
        "        break\n",
        "\n",
        "print(\"while문이 종료되었습니다\")"
      ],
      "metadata": {
        "colab": {
          "base_uri": "https://localhost:8080/"
        },
        "id": "RAHBbxf4cJbc",
        "outputId": "8078aa55-e205-4fe0-ea9e-0f793083c738"
      },
      "execution_count": null,
      "outputs": [
        {
          "output_type": "stream",
          "name": "stdout",
          "text": [
            "a값은 5 입니다\n",
            "a값은 4 입니다\n",
            "a값은 3 입니다\n",
            "while문이 종료되었습니다\n"
          ]
        }
      ]
    },
    {
      "cell_type": "markdown",
      "source": [
        "#### while문 continue 활용"
      ],
      "metadata": {
        "id": "AU1JRXGMPU9s"
      }
    },
    {
      "cell_type": "code",
      "source": [
        "a = 0\n",
        "\n",
        "while a < 10:   # 0,1,2,3,4,5,6,7,8,9\n",
        "    a = a + 1\n",
        "    if a % 2 == 0:\n",
        "        continue\n",
        "    print(a)"
      ],
      "metadata": {
        "colab": {
          "base_uri": "https://localhost:8080/"
        },
        "id": "cIFlkGjWPZd_",
        "outputId": "2fb6f92a-c1cc-4bf0-d5a5-b37f7c0926e7"
      },
      "execution_count": null,
      "outputs": [
        {
          "output_type": "stream",
          "name": "stdout",
          "text": [
            "1\n",
            "3\n",
            "5\n",
            "7\n",
            "9\n"
          ]
        }
      ]
    },
    {
      "cell_type": "markdown",
      "source": [
        "###(3) for문"
      ],
      "metadata": {
        "id": "Nztj2-RjF0vU"
      }
    },
    {
      "cell_type": "markdown",
      "source": [
        "#### for문 기본 구조"
      ],
      "metadata": {
        "id": "8Ul0JTtufY7a"
      }
    },
    {
      "cell_type": "code",
      "source": [
        "a = [\"사과\", \"바나나\", \"토마토\"]\n",
        "\n",
        "for i in a:\n",
        "    print(i)"
      ],
      "metadata": {
        "colab": {
          "base_uri": "https://localhost:8080/"
        },
        "id": "WGzGVMN_fbWJ",
        "outputId": "153c1564-6a7e-4642-ea7e-2ed0f1043bc3"
      },
      "execution_count": null,
      "outputs": [
        {
          "output_type": "stream",
          "name": "stdout",
          "text": [
            "사과\n",
            "바나나\n",
            "토마토\n"
          ]
        }
      ]
    },
    {
      "cell_type": "markdown",
      "source": [
        "#### for문과 if문 활용"
      ],
      "metadata": {
        "id": "-uWhF0hjgx-g"
      }
    },
    {
      "cell_type": "code",
      "source": [
        "a = [90, 25, 67, 45, 80]\n",
        "b = sum(a) / len(a)\n",
        "\n",
        "for i in a:\n",
        "    if i > b:\n",
        "        print(\"%d 는(은) 평균보다 크다\" % i)\n",
        "    else:\n",
        "        print(\"%d 는(은) 평균보다 작거나 같다\" % i)"
      ],
      "metadata": {
        "colab": {
          "base_uri": "https://localhost:8080/"
        },
        "id": "f9yM79Ryf0_b",
        "outputId": "66c58f3b-ab0e-467e-b996-4a0fe1ebc591"
      },
      "execution_count": null,
      "outputs": [
        {
          "output_type": "stream",
          "name": "stdout",
          "text": [
            "90 는(은) 평균보다 크다\n",
            "25 는(은) 평균보다 작거나 같다\n",
            "67 는(은) 평균보다 크다\n",
            "45 는(은) 평균보다 작거나 같다\n",
            "80 는(은) 평균보다 크다\n"
          ]
        }
      ]
    },
    {
      "cell_type": "markdown",
      "source": [
        "#### for문과 range문 활용"
      ],
      "metadata": {
        "id": "se0ATYC4jvUX"
      }
    },
    {
      "cell_type": "code",
      "source": [
        "for i in range(2, 10):\n",
        "    for j in range(1, 10):\n",
        "        print(i * j, end = ' ')\n",
        "    print(' ')"
      ],
      "metadata": {
        "colab": {
          "base_uri": "https://localhost:8080/"
        },
        "id": "qIAsb1EbhF5k",
        "outputId": "cd4b2a52-0d8e-4142-d551-19a6c2bab9ef"
      },
      "execution_count": null,
      "outputs": [
        {
          "output_type": "stream",
          "name": "stdout",
          "text": [
            "2 4 6 8 10 12 14 16 18  \n",
            "3 6 9 12 15 18 21 24 27  \n",
            "4 8 12 16 20 24 28 32 36  \n",
            "5 10 15 20 25 30 35 40 45  \n",
            "6 12 18 24 30 36 42 48 54  \n",
            "7 14 21 28 35 42 49 56 63  \n",
            "8 16 24 32 40 48 56 64 72  \n",
            "9 18 27 36 45 54 63 72 81  \n"
          ]
        }
      ]
    },
    {
      "cell_type": "markdown",
      "source": [
        "#### for문과 리스트 요소 삽입"
      ],
      "metadata": {
        "id": "yLP27PoIQ9o1"
      }
    },
    {
      "cell_type": "code",
      "source": [
        "a = [1, 2, 3, 4]\n",
        "result = []\n",
        "\n",
        "for i in a:\n",
        "    result.insert(0, i * 10)\n",
        "\n",
        "print(result)"
      ],
      "metadata": {
        "colab": {
          "base_uri": "https://localhost:8080/"
        },
        "id": "v9nNk-I9kMtD",
        "outputId": "43bba49d-3f87-4362-804a-45a04f5ea3af"
      },
      "execution_count": null,
      "outputs": [
        {
          "output_type": "stream",
          "name": "stdout",
          "text": [
            "[40, 30, 20, 10]\n"
          ]
        }
      ]
    },
    {
      "cell_type": "markdown",
      "source": [
        "##5. 파이썬 함수"
      ],
      "metadata": {
        "id": "FHVTDtYySEOC"
      }
    },
    {
      "cell_type": "markdown",
      "source": [
        "###(1) def문"
      ],
      "metadata": {
        "id": "od1sPrCnWcQB"
      }
    },
    {
      "cell_type": "markdown",
      "source": [
        "#### def문 기본 구조"
      ],
      "metadata": {
        "id": "dI_ell5CUG3s"
      }
    },
    {
      "cell_type": "code",
      "source": [
        "def add(a, b):\n",
        "  return a + b\n",
        "\n",
        "a = 3\n",
        "b = 7\n",
        "c = add(a, b)\n",
        "\n",
        "print(c)"
      ],
      "metadata": {
        "colab": {
          "base_uri": "https://localhost:8080/"
        },
        "id": "ylnrUYnCSGZj",
        "outputId": "f9fddf21-a59a-4351-fc4c-526b5c9650b1"
      },
      "execution_count": null,
      "outputs": [
        {
          "output_type": "stream",
          "name": "stdout",
          "text": [
            "10\n"
          ]
        }
      ]
    },
    {
      "cell_type": "code",
      "source": [
        "from google.colab import drive\n",
        "drive.mount('/content/drive')"
      ],
      "metadata": {
        "id": "5cEitX6TgKUb",
        "colab": {
          "base_uri": "https://localhost:8080/"
        },
        "outputId": "8b2b176e-8477-4710-f2b0-7ebf9ed98e9f"
      },
      "execution_count": null,
      "outputs": [
        {
          "output_type": "stream",
          "name": "stdout",
          "text": [
            "Mounted at /content/drive\n"
          ]
        }
      ]
    }
  ]
}